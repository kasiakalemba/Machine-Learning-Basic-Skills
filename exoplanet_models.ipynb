{
 "cells": [
  {
   "cell_type": "markdown",
   "metadata": {},
   "source": [
    "# Exoplanet Machine Learning Exploration"
   ]
  },
  {
   "cell_type": "markdown",
   "metadata": {},
   "source": [
    "### Import Dependencies"
   ]
  },
  {
   "cell_type": "code",
   "execution_count": 1,
   "metadata": {},
   "outputs": [],
   "source": [
    "%matplotlib inline"
   ]
  },
  {
   "cell_type": "code",
   "execution_count": 2,
   "metadata": {},
   "outputs": [],
   "source": [
    "import os\n",
    "import pandas as pd\n",
    "import matplotlib.pyplot as plt\n",
    "import numpy as np\n",
    "import joblib\n",
    "\n",
    "from sklearn.ensemble import RandomForestClassifier\n",
    "from sklearn.neighbors import KNeighborsClassifier\n",
    "from sklearn.linear_model import LogisticRegression\n",
    "from sklearn.svm import SVC\n",
    "\n",
    "from sklearn.preprocessing import MinMaxScaler\n",
    "from sklearn.model_selection import train_test_split\n",
    "from sklearn.model_selection import GridSearchCV\n"
   ]
  },
  {
   "cell_type": "markdown",
   "metadata": {},
   "source": [
    "## Pre-processing Data"
   ]
  },
  {
   "cell_type": "markdown",
   "metadata": {},
   "source": [
    "### Data Exploration and Cleaning"
   ]
  },
  {
   "cell_type": "code",
   "execution_count": 3,
   "metadata": {},
   "outputs": [
    {
     "data": {
      "text/html": [
       "<div>\n",
       "<style scoped>\n",
       "    .dataframe tbody tr th:only-of-type {\n",
       "        vertical-align: middle;\n",
       "    }\n",
       "\n",
       "    .dataframe tbody tr th {\n",
       "        vertical-align: top;\n",
       "    }\n",
       "\n",
       "    .dataframe thead th {\n",
       "        text-align: right;\n",
       "    }\n",
       "</style>\n",
       "<table border=\"1\" class=\"dataframe\">\n",
       "  <thead>\n",
       "    <tr style=\"text-align: right;\">\n",
       "      <th></th>\n",
       "      <th>koi_disposition</th>\n",
       "      <th>koi_fpflag_nt</th>\n",
       "      <th>koi_fpflag_ss</th>\n",
       "      <th>koi_fpflag_co</th>\n",
       "      <th>koi_fpflag_ec</th>\n",
       "      <th>koi_period</th>\n",
       "      <th>koi_period_err1</th>\n",
       "      <th>koi_period_err2</th>\n",
       "      <th>koi_time0bk</th>\n",
       "      <th>koi_time0bk_err1</th>\n",
       "      <th>...</th>\n",
       "      <th>koi_steff_err2</th>\n",
       "      <th>koi_slogg</th>\n",
       "      <th>koi_slogg_err1</th>\n",
       "      <th>koi_slogg_err2</th>\n",
       "      <th>koi_srad</th>\n",
       "      <th>koi_srad_err1</th>\n",
       "      <th>koi_srad_err2</th>\n",
       "      <th>ra</th>\n",
       "      <th>dec</th>\n",
       "      <th>koi_kepmag</th>\n",
       "    </tr>\n",
       "  </thead>\n",
       "  <tbody>\n",
       "    <tr>\n",
       "      <th>0</th>\n",
       "      <td>CONFIRMED</td>\n",
       "      <td>0</td>\n",
       "      <td>0</td>\n",
       "      <td>0</td>\n",
       "      <td>0</td>\n",
       "      <td>54.418383</td>\n",
       "      <td>2.479000e-04</td>\n",
       "      <td>-2.479000e-04</td>\n",
       "      <td>162.513840</td>\n",
       "      <td>0.003520</td>\n",
       "      <td>...</td>\n",
       "      <td>-81</td>\n",
       "      <td>4.467</td>\n",
       "      <td>0.064</td>\n",
       "      <td>-0.096</td>\n",
       "      <td>0.927</td>\n",
       "      <td>0.105</td>\n",
       "      <td>-0.061</td>\n",
       "      <td>291.93423</td>\n",
       "      <td>48.141651</td>\n",
       "      <td>15.347</td>\n",
       "    </tr>\n",
       "    <tr>\n",
       "      <th>1</th>\n",
       "      <td>FALSE POSITIVE</td>\n",
       "      <td>0</td>\n",
       "      <td>1</td>\n",
       "      <td>0</td>\n",
       "      <td>0</td>\n",
       "      <td>19.899140</td>\n",
       "      <td>1.490000e-05</td>\n",
       "      <td>-1.490000e-05</td>\n",
       "      <td>175.850252</td>\n",
       "      <td>0.000581</td>\n",
       "      <td>...</td>\n",
       "      <td>-176</td>\n",
       "      <td>4.544</td>\n",
       "      <td>0.044</td>\n",
       "      <td>-0.176</td>\n",
       "      <td>0.868</td>\n",
       "      <td>0.233</td>\n",
       "      <td>-0.078</td>\n",
       "      <td>297.00482</td>\n",
       "      <td>48.134129</td>\n",
       "      <td>15.436</td>\n",
       "    </tr>\n",
       "    <tr>\n",
       "      <th>2</th>\n",
       "      <td>FALSE POSITIVE</td>\n",
       "      <td>0</td>\n",
       "      <td>1</td>\n",
       "      <td>0</td>\n",
       "      <td>0</td>\n",
       "      <td>1.736952</td>\n",
       "      <td>2.630000e-07</td>\n",
       "      <td>-2.630000e-07</td>\n",
       "      <td>170.307565</td>\n",
       "      <td>0.000115</td>\n",
       "      <td>...</td>\n",
       "      <td>-174</td>\n",
       "      <td>4.564</td>\n",
       "      <td>0.053</td>\n",
       "      <td>-0.168</td>\n",
       "      <td>0.791</td>\n",
       "      <td>0.201</td>\n",
       "      <td>-0.067</td>\n",
       "      <td>285.53461</td>\n",
       "      <td>48.285210</td>\n",
       "      <td>15.597</td>\n",
       "    </tr>\n",
       "    <tr>\n",
       "      <th>3</th>\n",
       "      <td>CONFIRMED</td>\n",
       "      <td>0</td>\n",
       "      <td>0</td>\n",
       "      <td>0</td>\n",
       "      <td>0</td>\n",
       "      <td>2.525592</td>\n",
       "      <td>3.760000e-06</td>\n",
       "      <td>-3.760000e-06</td>\n",
       "      <td>171.595550</td>\n",
       "      <td>0.001130</td>\n",
       "      <td>...</td>\n",
       "      <td>-211</td>\n",
       "      <td>4.438</td>\n",
       "      <td>0.070</td>\n",
       "      <td>-0.210</td>\n",
       "      <td>1.046</td>\n",
       "      <td>0.334</td>\n",
       "      <td>-0.133</td>\n",
       "      <td>288.75488</td>\n",
       "      <td>48.226200</td>\n",
       "      <td>15.509</td>\n",
       "    </tr>\n",
       "    <tr>\n",
       "      <th>4</th>\n",
       "      <td>CONFIRMED</td>\n",
       "      <td>0</td>\n",
       "      <td>0</td>\n",
       "      <td>0</td>\n",
       "      <td>0</td>\n",
       "      <td>4.134435</td>\n",
       "      <td>1.050000e-05</td>\n",
       "      <td>-1.050000e-05</td>\n",
       "      <td>172.979370</td>\n",
       "      <td>0.001900</td>\n",
       "      <td>...</td>\n",
       "      <td>-232</td>\n",
       "      <td>4.486</td>\n",
       "      <td>0.054</td>\n",
       "      <td>-0.229</td>\n",
       "      <td>0.972</td>\n",
       "      <td>0.315</td>\n",
       "      <td>-0.105</td>\n",
       "      <td>296.28613</td>\n",
       "      <td>48.224670</td>\n",
       "      <td>15.714</td>\n",
       "    </tr>\n",
       "  </tbody>\n",
       "</table>\n",
       "<p>5 rows × 41 columns</p>\n",
       "</div>"
      ],
      "text/plain": [
       "  koi_disposition  koi_fpflag_nt  koi_fpflag_ss  koi_fpflag_co  koi_fpflag_ec  \\\n",
       "0       CONFIRMED              0              0              0              0   \n",
       "1  FALSE POSITIVE              0              1              0              0   \n",
       "2  FALSE POSITIVE              0              1              0              0   \n",
       "3       CONFIRMED              0              0              0              0   \n",
       "4       CONFIRMED              0              0              0              0   \n",
       "\n",
       "   koi_period  koi_period_err1  koi_period_err2  koi_time0bk  \\\n",
       "0   54.418383     2.479000e-04    -2.479000e-04   162.513840   \n",
       "1   19.899140     1.490000e-05    -1.490000e-05   175.850252   \n",
       "2    1.736952     2.630000e-07    -2.630000e-07   170.307565   \n",
       "3    2.525592     3.760000e-06    -3.760000e-06   171.595550   \n",
       "4    4.134435     1.050000e-05    -1.050000e-05   172.979370   \n",
       "\n",
       "   koi_time0bk_err1  ...  koi_steff_err2  koi_slogg  koi_slogg_err1  \\\n",
       "0          0.003520  ...             -81      4.467           0.064   \n",
       "1          0.000581  ...            -176      4.544           0.044   \n",
       "2          0.000115  ...            -174      4.564           0.053   \n",
       "3          0.001130  ...            -211      4.438           0.070   \n",
       "4          0.001900  ...            -232      4.486           0.054   \n",
       "\n",
       "   koi_slogg_err2  koi_srad  koi_srad_err1  koi_srad_err2         ra  \\\n",
       "0          -0.096     0.927          0.105         -0.061  291.93423   \n",
       "1          -0.176     0.868          0.233         -0.078  297.00482   \n",
       "2          -0.168     0.791          0.201         -0.067  285.53461   \n",
       "3          -0.210     1.046          0.334         -0.133  288.75488   \n",
       "4          -0.229     0.972          0.315         -0.105  296.28613   \n",
       "\n",
       "         dec  koi_kepmag  \n",
       "0  48.141651      15.347  \n",
       "1  48.134129      15.436  \n",
       "2  48.285210      15.597  \n",
       "3  48.226200      15.509  \n",
       "4  48.224670      15.714  \n",
       "\n",
       "[5 rows x 41 columns]"
      ]
     },
     "execution_count": 3,
     "metadata": {},
     "output_type": "execute_result"
    }
   ],
   "source": [
    "# Reading dataset\n",
    "df = pd.read_csv(\"data/exoplanet_data.csv\")\n",
    "df.head()"
   ]
  },
  {
   "cell_type": "code",
   "execution_count": 4,
   "metadata": {},
   "outputs": [
    {
     "data": {
      "text/plain": [
       "koi_disposition       object\n",
       "koi_fpflag_nt          int64\n",
       "koi_fpflag_ss          int64\n",
       "koi_fpflag_co          int64\n",
       "koi_fpflag_ec          int64\n",
       "koi_period           float64\n",
       "koi_period_err1      float64\n",
       "koi_period_err2      float64\n",
       "koi_time0bk          float64\n",
       "koi_time0bk_err1     float64\n",
       "koi_time0bk_err2     float64\n",
       "koi_impact           float64\n",
       "koi_impact_err1      float64\n",
       "koi_impact_err2      float64\n",
       "koi_duration         float64\n",
       "koi_duration_err1    float64\n",
       "koi_duration_err2    float64\n",
       "koi_depth            float64\n",
       "koi_depth_err1       float64\n",
       "koi_depth_err2       float64\n",
       "koi_prad             float64\n",
       "koi_prad_err1        float64\n",
       "koi_prad_err2        float64\n",
       "koi_teq                int64\n",
       "koi_insol            float64\n",
       "koi_insol_err1       float64\n",
       "koi_insol_err2       float64\n",
       "koi_model_snr        float64\n",
       "koi_tce_plnt_num       int64\n",
       "koi_steff              int64\n",
       "koi_steff_err1         int64\n",
       "koi_steff_err2         int64\n",
       "koi_slogg            float64\n",
       "koi_slogg_err1       float64\n",
       "koi_slogg_err2       float64\n",
       "koi_srad             float64\n",
       "koi_srad_err1        float64\n",
       "koi_srad_err2        float64\n",
       "ra                   float64\n",
       "dec                  float64\n",
       "koi_kepmag           float64\n",
       "dtype: object"
      ]
     },
     "execution_count": 4,
     "metadata": {},
     "output_type": "execute_result"
    }
   ],
   "source": [
    "df.dtypes\n",
    "# all are numbers expect koi_disp"
   ]
  },
  {
   "cell_type": "code",
   "execution_count": 5,
   "metadata": {},
   "outputs": [
    {
     "data": {
      "text/plain": [
       "array(['CONFIRMED', 'FALSE POSITIVE', 'CANDIDATE'], dtype=object)"
      ]
     },
     "execution_count": 5,
     "metadata": {},
     "output_type": "execute_result"
    }
   ],
   "source": [
    "# checking unique values \n",
    "types = df[\"koi_disposition\"].unique()\n",
    "types"
   ]
  },
  {
   "cell_type": "code",
   "execution_count": 6,
   "metadata": {},
   "outputs": [
    {
     "data": {
      "text/plain": [
       "koi_disposition      0\n",
       "koi_fpflag_nt        0\n",
       "koi_fpflag_ss        0\n",
       "koi_fpflag_co        0\n",
       "koi_fpflag_ec        0\n",
       "koi_period           0\n",
       "koi_period_err1      0\n",
       "koi_period_err2      0\n",
       "koi_time0bk          0\n",
       "koi_time0bk_err1     0\n",
       "koi_time0bk_err2     0\n",
       "koi_impact           0\n",
       "koi_impact_err1      0\n",
       "koi_impact_err2      0\n",
       "koi_duration         0\n",
       "koi_duration_err1    0\n",
       "koi_duration_err2    0\n",
       "koi_depth            0\n",
       "koi_depth_err1       0\n",
       "koi_depth_err2       0\n",
       "koi_prad             0\n",
       "koi_prad_err1        0\n",
       "koi_prad_err2        0\n",
       "koi_teq              0\n",
       "koi_insol            0\n",
       "koi_insol_err1       0\n",
       "koi_insol_err2       0\n",
       "koi_model_snr        0\n",
       "koi_tce_plnt_num     0\n",
       "koi_steff            0\n",
       "koi_steff_err1       0\n",
       "koi_steff_err2       0\n",
       "koi_slogg            0\n",
       "koi_slogg_err1       0\n",
       "koi_slogg_err2       0\n",
       "koi_srad             0\n",
       "koi_srad_err1        0\n",
       "koi_srad_err2        0\n",
       "ra                   0\n",
       "dec                  0\n",
       "koi_kepmag           0\n",
       "dtype: int64"
      ]
     },
     "execution_count": 6,
     "metadata": {},
     "output_type": "execute_result"
    }
   ],
   "source": [
    "# checking for nans\n",
    "df.isnull().sum()"
   ]
  },
  {
   "cell_type": "markdown",
   "metadata": {},
   "source": [
    "According to the data source, all columns with the ending \"err\" contain some kind of error or uncertainty therefore I will exclude them for this model. "
   ]
  },
  {
   "cell_type": "code",
   "execution_count": 7,
   "metadata": {},
   "outputs": [],
   "source": [
    "df = df[['koi_disposition', 'koi_fpflag_nt', 'koi_fpflag_ss', 'koi_fpflag_co',\n",
    "       'koi_fpflag_ec', 'koi_period', \n",
    "       'koi_time0bk', 'koi_impact',\n",
    "       'koi_duration',\n",
    "       'koi_depth', 'koi_prad', \n",
    "       'koi_teq', 'koi_insol',\n",
    "       'koi_model_snr', 'koi_tce_plnt_num', 'koi_steff', 'koi_slogg', \n",
    "       'koi_srad', 'ra', 'dec',\n",
    "       'koi_kepmag']]\n"
   ]
  },
  {
   "cell_type": "markdown",
   "metadata": {},
   "source": [
    "### Selecting features "
   ]
  },
  {
   "cell_type": "markdown",
   "metadata": {},
   "source": [
    "This project focuses on classifying the Kepler objects based on collected data. The koi_disposition is the target for this determination."
   ]
  },
  {
   "cell_type": "code",
   "execution_count": 8,
   "metadata": {},
   "outputs": [],
   "source": [
    "# Set x as every column except koi_dis\n",
    "X = df.drop(\"koi_disposition\", axis=1)\n",
    "# Set y to koi_dis\n",
    "y = df[\"koi_disposition\"]"
   ]
  },
  {
   "cell_type": "markdown",
   "metadata": {},
   "source": [
    "### Looking into data stats "
   ]
  },
  {
   "cell_type": "code",
   "execution_count": 9,
   "metadata": {},
   "outputs": [
    {
     "data": {
      "text/html": [
       "<div>\n",
       "<style scoped>\n",
       "    .dataframe tbody tr th:only-of-type {\n",
       "        vertical-align: middle;\n",
       "    }\n",
       "\n",
       "    .dataframe tbody tr th {\n",
       "        vertical-align: top;\n",
       "    }\n",
       "\n",
       "    .dataframe thead th {\n",
       "        text-align: right;\n",
       "    }\n",
       "</style>\n",
       "<table border=\"1\" class=\"dataframe\">\n",
       "  <thead>\n",
       "    <tr style=\"text-align: right;\">\n",
       "      <th></th>\n",
       "      <th>koi_fpflag_nt</th>\n",
       "      <th>koi_fpflag_ss</th>\n",
       "      <th>koi_fpflag_co</th>\n",
       "      <th>koi_fpflag_ec</th>\n",
       "      <th>koi_period</th>\n",
       "      <th>koi_time0bk</th>\n",
       "      <th>koi_impact</th>\n",
       "      <th>koi_duration</th>\n",
       "      <th>koi_depth</th>\n",
       "      <th>koi_prad</th>\n",
       "      <th>koi_teq</th>\n",
       "      <th>koi_insol</th>\n",
       "      <th>koi_model_snr</th>\n",
       "      <th>koi_tce_plnt_num</th>\n",
       "      <th>koi_steff</th>\n",
       "      <th>koi_slogg</th>\n",
       "      <th>koi_srad</th>\n",
       "      <th>ra</th>\n",
       "      <th>dec</th>\n",
       "      <th>koi_kepmag</th>\n",
       "    </tr>\n",
       "  </thead>\n",
       "  <tbody>\n",
       "    <tr>\n",
       "      <th>count</th>\n",
       "      <td>6991.000000</td>\n",
       "      <td>6991.000000</td>\n",
       "      <td>6991.000000</td>\n",
       "      <td>6991.000000</td>\n",
       "      <td>6991.000000</td>\n",
       "      <td>6991.000000</td>\n",
       "      <td>6991.000000</td>\n",
       "      <td>6991.000000</td>\n",
       "      <td>6.991000e+03</td>\n",
       "      <td>6991.000000</td>\n",
       "      <td>6991.000000</td>\n",
       "      <td>6.991000e+03</td>\n",
       "      <td>6991.000000</td>\n",
       "      <td>6991.000000</td>\n",
       "      <td>6991.000000</td>\n",
       "      <td>6991.000000</td>\n",
       "      <td>6991.000000</td>\n",
       "      <td>6991.000000</td>\n",
       "      <td>6991.000000</td>\n",
       "      <td>6991.000000</td>\n",
       "    </tr>\n",
       "    <tr>\n",
       "      <th>mean</th>\n",
       "      <td>0.157059</td>\n",
       "      <td>0.244743</td>\n",
       "      <td>0.202975</td>\n",
       "      <td>0.125018</td>\n",
       "      <td>56.191248</td>\n",
       "      <td>164.488820</td>\n",
       "      <td>0.730631</td>\n",
       "      <td>5.549368</td>\n",
       "      <td>2.391190e+04</td>\n",
       "      <td>121.194193</td>\n",
       "      <td>1095.152768</td>\n",
       "      <td>8.263769e+03</td>\n",
       "      <td>276.038764</td>\n",
       "      <td>1.233729</td>\n",
       "      <td>5700.682449</td>\n",
       "      <td>4.305049</td>\n",
       "      <td>1.740749</td>\n",
       "      <td>292.082406</td>\n",
       "      <td>43.812143</td>\n",
       "      <td>14.271508</td>\n",
       "    </tr>\n",
       "    <tr>\n",
       "      <th>std</th>\n",
       "      <td>0.363882</td>\n",
       "      <td>0.429966</td>\n",
       "      <td>0.402243</td>\n",
       "      <td>0.330763</td>\n",
       "      <td>117.570962</td>\n",
       "      <td>67.020475</td>\n",
       "      <td>3.346956</td>\n",
       "      <td>6.425205</td>\n",
       "      <td>8.241240e+04</td>\n",
       "      <td>3519.737626</td>\n",
       "      <td>856.234809</td>\n",
       "      <td>1.775255e+05</td>\n",
       "      <td>824.788481</td>\n",
       "      <td>0.650089</td>\n",
       "      <td>802.060405</td>\n",
       "      <td>0.439238</td>\n",
       "      <td>5.903415</td>\n",
       "      <td>4.762908</td>\n",
       "      <td>3.606167</td>\n",
       "      <td>1.350802</td>\n",
       "    </tr>\n",
       "    <tr>\n",
       "      <th>min</th>\n",
       "      <td>0.000000</td>\n",
       "      <td>0.000000</td>\n",
       "      <td>0.000000</td>\n",
       "      <td>0.000000</td>\n",
       "      <td>0.259820</td>\n",
       "      <td>120.515914</td>\n",
       "      <td>0.000000</td>\n",
       "      <td>0.167000</td>\n",
       "      <td>7.500000e+00</td>\n",
       "      <td>0.140000</td>\n",
       "      <td>92.000000</td>\n",
       "      <td>2.000000e-02</td>\n",
       "      <td>1.600000</td>\n",
       "      <td>1.000000</td>\n",
       "      <td>2661.000000</td>\n",
       "      <td>0.047000</td>\n",
       "      <td>0.109000</td>\n",
       "      <td>279.856080</td>\n",
       "      <td>36.577381</td>\n",
       "      <td>6.966000</td>\n",
       "    </tr>\n",
       "    <tr>\n",
       "      <th>25%</th>\n",
       "      <td>0.000000</td>\n",
       "      <td>0.000000</td>\n",
       "      <td>0.000000</td>\n",
       "      <td>0.000000</td>\n",
       "      <td>2.620126</td>\n",
       "      <td>132.683917</td>\n",
       "      <td>0.198000</td>\n",
       "      <td>2.446000</td>\n",
       "      <td>1.604000e+02</td>\n",
       "      <td>1.400000</td>\n",
       "      <td>554.000000</td>\n",
       "      <td>2.227000e+01</td>\n",
       "      <td>12.400000</td>\n",
       "      <td>1.000000</td>\n",
       "      <td>5297.000000</td>\n",
       "      <td>4.209000</td>\n",
       "      <td>0.829000</td>\n",
       "      <td>288.704730</td>\n",
       "      <td>40.797760</td>\n",
       "      <td>13.455000</td>\n",
       "    </tr>\n",
       "    <tr>\n",
       "      <th>50%</th>\n",
       "      <td>0.000000</td>\n",
       "      <td>0.000000</td>\n",
       "      <td>0.000000</td>\n",
       "      <td>0.000000</td>\n",
       "      <td>8.947426</td>\n",
       "      <td>136.739230</td>\n",
       "      <td>0.539000</td>\n",
       "      <td>3.793000</td>\n",
       "      <td>4.245000e+02</td>\n",
       "      <td>2.420000</td>\n",
       "      <td>888.000000</td>\n",
       "      <td>1.466700e+02</td>\n",
       "      <td>23.700000</td>\n",
       "      <td>1.000000</td>\n",
       "      <td>5757.000000</td>\n",
       "      <td>4.436000</td>\n",
       "      <td>0.999000</td>\n",
       "      <td>292.314760</td>\n",
       "      <td>43.679661</td>\n",
       "      <td>14.534000</td>\n",
       "    </tr>\n",
       "    <tr>\n",
       "      <th>75%</th>\n",
       "      <td>0.000000</td>\n",
       "      <td>0.000000</td>\n",
       "      <td>0.000000</td>\n",
       "      <td>0.000000</td>\n",
       "      <td>34.282605</td>\n",
       "      <td>169.937005</td>\n",
       "      <td>0.891000</td>\n",
       "      <td>6.197500</td>\n",
       "      <td>1.533250e+03</td>\n",
       "      <td>15.965000</td>\n",
       "      <td>1397.500000</td>\n",
       "      <td>9.006700e+02</td>\n",
       "      <td>82.250000</td>\n",
       "      <td>1.000000</td>\n",
       "      <td>6110.000000</td>\n",
       "      <td>4.543000</td>\n",
       "      <td>1.357000</td>\n",
       "      <td>295.888550</td>\n",
       "      <td>46.693659</td>\n",
       "      <td>15.322000</td>\n",
       "    </tr>\n",
       "    <tr>\n",
       "      <th>max</th>\n",
       "      <td>1.000000</td>\n",
       "      <td>1.000000</td>\n",
       "      <td>1.000000</td>\n",
       "      <td>1.000000</td>\n",
       "      <td>1071.232624</td>\n",
       "      <td>1472.522306</td>\n",
       "      <td>100.806000</td>\n",
       "      <td>138.540000</td>\n",
       "      <td>1.541400e+06</td>\n",
       "      <td>200346.000000</td>\n",
       "      <td>14667.000000</td>\n",
       "      <td>1.094755e+07</td>\n",
       "      <td>9054.700000</td>\n",
       "      <td>8.000000</td>\n",
       "      <td>15896.000000</td>\n",
       "      <td>5.364000</td>\n",
       "      <td>180.013000</td>\n",
       "      <td>301.720760</td>\n",
       "      <td>52.336010</td>\n",
       "      <td>19.065000</td>\n",
       "    </tr>\n",
       "  </tbody>\n",
       "</table>\n",
       "</div>"
      ],
      "text/plain": [
       "       koi_fpflag_nt  koi_fpflag_ss  koi_fpflag_co  koi_fpflag_ec  \\\n",
       "count    6991.000000    6991.000000    6991.000000    6991.000000   \n",
       "mean        0.157059       0.244743       0.202975       0.125018   \n",
       "std         0.363882       0.429966       0.402243       0.330763   \n",
       "min         0.000000       0.000000       0.000000       0.000000   \n",
       "25%         0.000000       0.000000       0.000000       0.000000   \n",
       "50%         0.000000       0.000000       0.000000       0.000000   \n",
       "75%         0.000000       0.000000       0.000000       0.000000   \n",
       "max         1.000000       1.000000       1.000000       1.000000   \n",
       "\n",
       "        koi_period  koi_time0bk   koi_impact  koi_duration     koi_depth  \\\n",
       "count  6991.000000  6991.000000  6991.000000   6991.000000  6.991000e+03   \n",
       "mean     56.191248   164.488820     0.730631      5.549368  2.391190e+04   \n",
       "std     117.570962    67.020475     3.346956      6.425205  8.241240e+04   \n",
       "min       0.259820   120.515914     0.000000      0.167000  7.500000e+00   \n",
       "25%       2.620126   132.683917     0.198000      2.446000  1.604000e+02   \n",
       "50%       8.947426   136.739230     0.539000      3.793000  4.245000e+02   \n",
       "75%      34.282605   169.937005     0.891000      6.197500  1.533250e+03   \n",
       "max    1071.232624  1472.522306   100.806000    138.540000  1.541400e+06   \n",
       "\n",
       "            koi_prad       koi_teq     koi_insol  koi_model_snr  \\\n",
       "count    6991.000000   6991.000000  6.991000e+03    6991.000000   \n",
       "mean      121.194193   1095.152768  8.263769e+03     276.038764   \n",
       "std      3519.737626    856.234809  1.775255e+05     824.788481   \n",
       "min         0.140000     92.000000  2.000000e-02       1.600000   \n",
       "25%         1.400000    554.000000  2.227000e+01      12.400000   \n",
       "50%         2.420000    888.000000  1.466700e+02      23.700000   \n",
       "75%        15.965000   1397.500000  9.006700e+02      82.250000   \n",
       "max    200346.000000  14667.000000  1.094755e+07    9054.700000   \n",
       "\n",
       "       koi_tce_plnt_num     koi_steff    koi_slogg     koi_srad           ra  \\\n",
       "count       6991.000000   6991.000000  6991.000000  6991.000000  6991.000000   \n",
       "mean           1.233729   5700.682449     4.305049     1.740749   292.082406   \n",
       "std            0.650089    802.060405     0.439238     5.903415     4.762908   \n",
       "min            1.000000   2661.000000     0.047000     0.109000   279.856080   \n",
       "25%            1.000000   5297.000000     4.209000     0.829000   288.704730   \n",
       "50%            1.000000   5757.000000     4.436000     0.999000   292.314760   \n",
       "75%            1.000000   6110.000000     4.543000     1.357000   295.888550   \n",
       "max            8.000000  15896.000000     5.364000   180.013000   301.720760   \n",
       "\n",
       "               dec   koi_kepmag  \n",
       "count  6991.000000  6991.000000  \n",
       "mean     43.812143    14.271508  \n",
       "std       3.606167     1.350802  \n",
       "min      36.577381     6.966000  \n",
       "25%      40.797760    13.455000  \n",
       "50%      43.679661    14.534000  \n",
       "75%      46.693659    15.322000  \n",
       "max      52.336010    19.065000  "
      ]
     },
     "execution_count": 9,
     "metadata": {},
     "output_type": "execute_result"
    }
   ],
   "source": [
    "# Looking at the stats for the data\n",
    "X.describe()"
   ]
  },
  {
   "cell_type": "code",
   "execution_count": 10,
   "metadata": {},
   "outputs": [
    {
     "data": {
      "image/png": "[encoded data removed]",
      "text/plain": [
       "<Figure size 1800x2160 with 20 Axes>"
      ]
     },
     "metadata": {
      "needs_background": "light"
     },
     "output_type": "display_data"
    }
   ],
   "source": [
    "X.hist(figsize=(25,30), color=\"pink\", grid=False);"
   ]
  },
  {
   "cell_type": "markdown",
   "metadata": {},
   "source": [
    "### Determining feature importance using Random Forest Classifer"
   ]
  },
  {
   "cell_type": "code",
   "execution_count": 11,
   "metadata": {},
   "outputs": [
    {
     "data": {
      "text/plain": [
       "[(0.12914776274721462, 'koi_fpflag_co'),\n",
       " (0.1283664303490843, 'koi_model_snr'),\n",
       " (0.12248955366935715, 'koi_fpflag_nt'),\n",
       " (0.1017897150287579, 'koi_fpflag_ss'),\n",
       " (0.09100415170611317, 'koi_prad'),\n",
       " (0.0477389850305429, 'koi_depth'),\n",
       " (0.0443598179116974, 'koi_fpflag_ec'),\n",
       " (0.039674691486562934, 'koi_period'),\n",
       " (0.037703746431715326, 'koi_impact'),\n",
       " (0.03335831747825688, 'koi_teq'),\n",
       " (0.03318897868957833, 'koi_insol'),\n",
       " (0.02955656610822374, 'koi_duration'),\n",
       " (0.028189799685458875, 'koi_time0bk'),\n",
       " (0.02179086061002392, 'koi_steff'),\n",
       " (0.021232197808577467, 'ra'),\n",
       " (0.021079030982372973, 'koi_srad'),\n",
       " (0.02079859785633287, 'koi_kepmag'),\n",
       " (0.02031514086197759, 'koi_slogg'),\n",
       " (0.019804888851809543, 'dec'),\n",
       " (0.008410766706342112, 'koi_tce_plnt_num')]"
      ]
     },
     "execution_count": 11,
     "metadata": {},
     "output_type": "execute_result"
    }
   ],
   "source": [
    "# Create a random forest classifier\n",
    "rf = RandomForestClassifier(n_estimators=200)\n",
    "rf = rf.fit(X,y)\n",
    "\n",
    "# Get the most important features\n",
    "importances = rf.feature_importances_\n",
    "\n",
    "# We can sort the features by their importance\n",
    "sorted(zip(rf.feature_importances_, X.columns), reverse=True)"
   ]
  },
  {
   "cell_type": "code",
   "execution_count": 12,
   "metadata": {},
   "outputs": [],
   "source": [
    "# Chosing the top important features\n",
    "X = df[['koi_fpflag_co', 'koi_fpflag_nt', 'koi_fpflag_ss', 'koi_model_snr', 'koi_prad']]"
   ]
  },
  {
   "cell_type": "markdown",
   "metadata": {},
   "source": [
    "## Creating a Train Test Split"
   ]
  },
  {
   "cell_type": "code",
   "execution_count": 13,
   "metadata": {},
   "outputs": [],
   "source": [
    "# split the data up between training and testing data (3/4:1/4)\n",
    "X_train, X_test, y_train, y_test = train_test_split(X, y, random_state=42)"
   ]
  },
  {
   "cell_type": "code",
   "execution_count": 14,
   "metadata": {},
   "outputs": [
    {
     "data": {
      "text/html": [
       "<div>\n",
       "<style scoped>\n",
       "    .dataframe tbody tr th:only-of-type {\n",
       "        vertical-align: middle;\n",
       "    }\n",
       "\n",
       "    .dataframe tbody tr th {\n",
       "        vertical-align: top;\n",
       "    }\n",
       "\n",
       "    .dataframe thead th {\n",
       "        text-align: right;\n",
       "    }\n",
       "</style>\n",
       "<table border=\"1\" class=\"dataframe\">\n",
       "  <thead>\n",
       "    <tr style=\"text-align: right;\">\n",
       "      <th></th>\n",
       "      <th>koi_fpflag_co</th>\n",
       "      <th>koi_fpflag_nt</th>\n",
       "      <th>koi_fpflag_ss</th>\n",
       "      <th>koi_model_snr</th>\n",
       "      <th>koi_prad</th>\n",
       "    </tr>\n",
       "  </thead>\n",
       "  <tbody>\n",
       "    <tr>\n",
       "      <th>6122</th>\n",
       "      <td>0</td>\n",
       "      <td>0</td>\n",
       "      <td>0</td>\n",
       "      <td>10.8</td>\n",
       "      <td>1.24</td>\n",
       "    </tr>\n",
       "    <tr>\n",
       "      <th>6370</th>\n",
       "      <td>0</td>\n",
       "      <td>0</td>\n",
       "      <td>1</td>\n",
       "      <td>13.8</td>\n",
       "      <td>0.86</td>\n",
       "    </tr>\n",
       "    <tr>\n",
       "      <th>2879</th>\n",
       "      <td>0</td>\n",
       "      <td>1</td>\n",
       "      <td>0</td>\n",
       "      <td>254.3</td>\n",
       "      <td>3.21</td>\n",
       "    </tr>\n",
       "    <tr>\n",
       "      <th>107</th>\n",
       "      <td>0</td>\n",
       "      <td>0</td>\n",
       "      <td>0</td>\n",
       "      <td>38.4</td>\n",
       "      <td>2.25</td>\n",
       "    </tr>\n",
       "    <tr>\n",
       "      <th>29</th>\n",
       "      <td>0</td>\n",
       "      <td>0</td>\n",
       "      <td>0</td>\n",
       "      <td>696.5</td>\n",
       "      <td>12.21</td>\n",
       "    </tr>\n",
       "  </tbody>\n",
       "</table>\n",
       "</div>"
      ],
      "text/plain": [
       "      koi_fpflag_co  koi_fpflag_nt  koi_fpflag_ss  koi_model_snr  koi_prad\n",
       "6122              0              0              0           10.8      1.24\n",
       "6370              0              0              1           13.8      0.86\n",
       "2879              0              1              0          254.3      3.21\n",
       "107               0              0              0           38.4      2.25\n",
       "29                0              0              0          696.5     12.21"
      ]
     },
     "execution_count": 14,
     "metadata": {},
     "output_type": "execute_result"
    }
   ],
   "source": [
    "X_train.head()"
   ]
  },
  {
   "cell_type": "markdown",
   "metadata": {},
   "source": [
    "## Scaling the data"
   ]
  },
  {
   "cell_type": "code",
   "execution_count": 15,
   "metadata": {},
   "outputs": [],
   "source": [
    "# Scaling data\n",
    "# do not scale Y because it is categorical \n",
    "X_scaler = MinMaxScaler().fit(X_train)\n",
    "X_train_scaled = X_scaler.transform(X_train)\n",
    "X_test_scaled = X_scaler.transform(X_test)"
   ]
  },
  {
   "cell_type": "markdown",
   "metadata": {},
   "source": [
    "## Creating Models & Tuning Hyperparameters\n",
    "\n"
   ]
  },
  {
   "cell_type": "markdown",
   "metadata": {},
   "source": [
    "### Logistic Regression Model"
   ]
  },
  {
   "cell_type": "markdown",
   "metadata": {},
   "source": [
    "Logistic Regression is used when the dependent variable(target) is categorical."
   ]
  },
  {
   "cell_type": "code",
   "execution_count": 16,
   "metadata": {},
   "outputs": [
    {
     "data": {
      "text/plain": [
       "LogisticRegression(max_iter=1000)"
      ]
     },
     "execution_count": 16,
     "metadata": {},
     "output_type": "execute_result"
    }
   ],
   "source": [
    "# Create a Logistic Regression Model\n",
    "logistic_classifier = LogisticRegression(max_iter = 1000)\n",
    "logistic_classifier"
   ]
  },
  {
   "cell_type": "code",
   "execution_count": 17,
   "metadata": {},
   "outputs": [],
   "source": [
    "# Set up hyperparameter grid \n",
    "param_grid = {'C': [1, 5, 10, 50],\n",
    "              'penalty': ('l2', 'none')}\n",
    "\n",
    "# Set up the grid search\n",
    "logistic = GridSearchCV(logistic_classifier, param_grid, verbose=3)"
   ]
  },
  {
   "cell_type": "code",
   "execution_count": 18,
   "metadata": {},
   "outputs": [
    {
     "name": "stdout",
     "output_type": "stream",
     "text": [
      "Fitting 5 folds for each of 8 candidates, totalling 40 fits\n",
      "[CV] C=1, penalty=l2 .................................................\n"
     ]
    },
    {
     "name": "stderr",
     "output_type": "stream",
     "text": [
      "[Parallel(n_jobs=1)]: Using backend SequentialBackend with 1 concurrent workers.\n"
     ]
    },
    {
     "name": "stdout",
     "output_type": "stream",
     "text": [
      "[CV] ..................... C=1, penalty=l2, score=0.785, total=   0.7s\n",
      "[CV] C=1, penalty=l2 .................................................\n"
     ]
    },
    {
     "name": "stderr",
     "output_type": "stream",
     "text": [
      "[Parallel(n_jobs=1)]: Done   1 out of   1 | elapsed:    0.7s remaining:    0.0s\n"
     ]
    },
    {
     "name": "stdout",
     "output_type": "stream",
     "text": [
      "[CV] ..................... C=1, penalty=l2, score=0.776, total=   0.9s\n",
      "[CV] C=1, penalty=l2 .................................................\n"
     ]
    },
    {
     "name": "stderr",
     "output_type": "stream",
     "text": [
      "[Parallel(n_jobs=1)]: Done   2 out of   2 | elapsed:    1.6s remaining:    0.0s\n"
     ]
    },
    {
     "name": "stdout",
     "output_type": "stream",
     "text": [
      "[CV] ..................... C=1, penalty=l2, score=0.761, total=   0.7s\n",
      "[CV] C=1, penalty=l2 .................................................\n",
      "[CV] ..................... C=1, penalty=l2, score=0.778, total=   0.4s\n",
      "[CV] C=1, penalty=l2 .................................................\n",
      "[CV] ..................... C=1, penalty=l2, score=0.774, total=   0.3s\n",
      "[CV] C=1, penalty=none ...............................................\n",
      "[CV] ................... C=1, penalty=none, score=0.788, total=   0.4s\n",
      "[CV] C=1, penalty=none ...............................................\n",
      "[CV] ................... C=1, penalty=none, score=0.777, total=   0.4s\n",
      "[CV] C=1, penalty=none ...............................................\n",
      "[CV] ................... C=1, penalty=none, score=0.763, total=   0.5s\n",
      "[CV] C=1, penalty=none ...............................................\n",
      "[CV] ................... C=1, penalty=none, score=0.781, total=   0.9s\n",
      "[CV] C=1, penalty=none ...............................................\n",
      "[CV] ................... C=1, penalty=none, score=0.775, total=   0.3s\n",
      "[CV] C=5, penalty=l2 .................................................\n",
      "[CV] ..................... C=5, penalty=l2, score=0.786, total=   0.3s\n",
      "[CV] C=5, penalty=l2 .................................................\n",
      "[CV] ..................... C=5, penalty=l2, score=0.775, total=   0.3s\n",
      "[CV] C=5, penalty=l2 .................................................\n",
      "[CV] ..................... C=5, penalty=l2, score=0.762, total=   0.5s\n",
      "[CV] C=5, penalty=l2 .................................................\n",
      "[CV] ..................... C=5, penalty=l2, score=0.779, total=   0.8s\n",
      "[CV] C=5, penalty=l2 .................................................\n",
      "[CV] ..................... C=5, penalty=l2, score=0.775, total=   0.4s\n",
      "[CV] C=5, penalty=none ...............................................\n"
     ]
    },
    {
     "name": "stderr",
     "output_type": "stream",
     "text": [
      "/Users/kasiakalemba/opt/anaconda3/envs/PythonData2020_2/lib/python3.6/site-packages/sklearn/linear_model/_logistic.py:1321: UserWarning: Setting penalty='none' will ignore the C and l1_ratio parameters\n",
      "  \"Setting penalty='none' will ignore the C and l1_ratio \"\n"
     ]
    },
    {
     "name": "stdout",
     "output_type": "stream",
     "text": [
      "[CV] ................... C=5, penalty=none, score=0.788, total=   0.4s\n",
      "[CV] C=5, penalty=none ...............................................\n"
     ]
    },
    {
     "name": "stderr",
     "output_type": "stream",
     "text": [
      "/Users/kasiakalemba/opt/anaconda3/envs/PythonData2020_2/lib/python3.6/site-packages/sklearn/linear_model/_logistic.py:1321: UserWarning: Setting penalty='none' will ignore the C and l1_ratio parameters\n",
      "  \"Setting penalty='none' will ignore the C and l1_ratio \"\n"
     ]
    },
    {
     "name": "stdout",
     "output_type": "stream",
     "text": [
      "[CV] ................... C=5, penalty=none, score=0.777, total=   0.4s\n",
      "[CV] C=5, penalty=none ...............................................\n"
     ]
    },
    {
     "name": "stderr",
     "output_type": "stream",
     "text": [
      "/Users/kasiakalemba/opt/anaconda3/envs/PythonData2020_2/lib/python3.6/site-packages/sklearn/linear_model/_logistic.py:1321: UserWarning: Setting penalty='none' will ignore the C and l1_ratio parameters\n",
      "  \"Setting penalty='none' will ignore the C and l1_ratio \"\n"
     ]
    },
    {
     "name": "stdout",
     "output_type": "stream",
     "text": [
      "[CV] ................... C=5, penalty=none, score=0.763, total=   0.5s\n",
      "[CV] C=5, penalty=none ...............................................\n"
     ]
    },
    {
     "name": "stderr",
     "output_type": "stream",
     "text": [
      "/Users/kasiakalemba/opt/anaconda3/envs/PythonData2020_2/lib/python3.6/site-packages/sklearn/linear_model/_logistic.py:1321: UserWarning: Setting penalty='none' will ignore the C and l1_ratio parameters\n",
      "  \"Setting penalty='none' will ignore the C and l1_ratio \"\n"
     ]
    },
    {
     "name": "stdout",
     "output_type": "stream",
     "text": [
      "[CV] ................... C=5, penalty=none, score=0.781, total=   0.9s\n",
      "[CV] C=5, penalty=none ...............................................\n"
     ]
    },
    {
     "name": "stderr",
     "output_type": "stream",
     "text": [
      "/Users/kasiakalemba/opt/anaconda3/envs/PythonData2020_2/lib/python3.6/site-packages/sklearn/linear_model/_logistic.py:1321: UserWarning: Setting penalty='none' will ignore the C and l1_ratio parameters\n",
      "  \"Setting penalty='none' will ignore the C and l1_ratio \"\n"
     ]
    },
    {
     "name": "stdout",
     "output_type": "stream",
     "text": [
      "[CV] ................... C=5, penalty=none, score=0.775, total=   0.4s\n",
      "[CV] C=10, penalty=l2 ................................................\n",
      "[CV] .................... C=10, penalty=l2, score=0.789, total=   0.9s\n",
      "[CV] C=10, penalty=l2 ................................................\n",
      "[CV] .................... C=10, penalty=l2, score=0.776, total=   0.5s\n",
      "[CV] C=10, penalty=l2 ................................................\n",
      "[CV] .................... C=10, penalty=l2, score=0.764, total=   0.8s\n",
      "[CV] C=10, penalty=l2 ................................................\n",
      "[CV] .................... C=10, penalty=l2, score=0.778, total=   1.1s\n",
      "[CV] C=10, penalty=l2 ................................................\n",
      "[CV] .................... C=10, penalty=l2, score=0.775, total=   0.4s\n",
      "[CV] C=10, penalty=none ..............................................\n"
     ]
    },
    {
     "name": "stderr",
     "output_type": "stream",
     "text": [
      "/Users/kasiakalemba/opt/anaconda3/envs/PythonData2020_2/lib/python3.6/site-packages/sklearn/linear_model/_logistic.py:1321: UserWarning: Setting penalty='none' will ignore the C and l1_ratio parameters\n",
      "  \"Setting penalty='none' will ignore the C and l1_ratio \"\n"
     ]
    },
    {
     "name": "stdout",
     "output_type": "stream",
     "text": [
      "[CV] .................. C=10, penalty=none, score=0.788, total=   0.5s\n",
      "[CV] C=10, penalty=none ..............................................\n"
     ]
    },
    {
     "name": "stderr",
     "output_type": "stream",
     "text": [
      "/Users/kasiakalemba/opt/anaconda3/envs/PythonData2020_2/lib/python3.6/site-packages/sklearn/linear_model/_logistic.py:1321: UserWarning: Setting penalty='none' will ignore the C and l1_ratio parameters\n",
      "  \"Setting penalty='none' will ignore the C and l1_ratio \"\n"
     ]
    },
    {
     "name": "stdout",
     "output_type": "stream",
     "text": [
      "[CV] .................. C=10, penalty=none, score=0.777, total=   0.4s\n",
      "[CV] C=10, penalty=none ..............................................\n"
     ]
    },
    {
     "name": "stderr",
     "output_type": "stream",
     "text": [
      "/Users/kasiakalemba/opt/anaconda3/envs/PythonData2020_2/lib/python3.6/site-packages/sklearn/linear_model/_logistic.py:1321: UserWarning: Setting penalty='none' will ignore the C and l1_ratio parameters\n",
      "  \"Setting penalty='none' will ignore the C and l1_ratio \"\n"
     ]
    },
    {
     "name": "stdout",
     "output_type": "stream",
     "text": [
      "[CV] .................. C=10, penalty=none, score=0.763, total=   0.6s\n",
      "[CV] C=10, penalty=none ..............................................\n"
     ]
    },
    {
     "name": "stderr",
     "output_type": "stream",
     "text": [
      "/Users/kasiakalemba/opt/anaconda3/envs/PythonData2020_2/lib/python3.6/site-packages/sklearn/linear_model/_logistic.py:1321: UserWarning: Setting penalty='none' will ignore the C and l1_ratio parameters\n",
      "  \"Setting penalty='none' will ignore the C and l1_ratio \"\n"
     ]
    },
    {
     "name": "stdout",
     "output_type": "stream",
     "text": [
      "[CV] .................. C=10, penalty=none, score=0.781, total=   0.9s\n",
      "[CV] C=10, penalty=none ..............................................\n"
     ]
    },
    {
     "name": "stderr",
     "output_type": "stream",
     "text": [
      "/Users/kasiakalemba/opt/anaconda3/envs/PythonData2020_2/lib/python3.6/site-packages/sklearn/linear_model/_logistic.py:1321: UserWarning: Setting penalty='none' will ignore the C and l1_ratio parameters\n",
      "  \"Setting penalty='none' will ignore the C and l1_ratio \"\n"
     ]
    },
    {
     "name": "stdout",
     "output_type": "stream",
     "text": [
      "[CV] .................. C=10, penalty=none, score=0.775, total=   0.3s\n",
      "[CV] C=50, penalty=l2 ................................................\n",
      "[CV] .................... C=50, penalty=l2, score=0.786, total=   0.4s\n",
      "[CV] C=50, penalty=l2 ................................................\n",
      "[CV] .................... C=50, penalty=l2, score=0.776, total=   0.3s\n",
      "[CV] C=50, penalty=l2 ................................................\n",
      "[CV] .................... C=50, penalty=l2, score=0.764, total=   0.6s\n",
      "[CV] C=50, penalty=l2 ................................................\n",
      "[CV] .................... C=50, penalty=l2, score=0.778, total=   0.4s\n",
      "[CV] C=50, penalty=l2 ................................................\n",
      "[CV] .................... C=50, penalty=l2, score=0.774, total=   0.2s\n",
      "[CV] C=50, penalty=none ..............................................\n"
     ]
    },
    {
     "name": "stderr",
     "output_type": "stream",
     "text": [
      "/Users/kasiakalemba/opt/anaconda3/envs/PythonData2020_2/lib/python3.6/site-packages/sklearn/linear_model/_logistic.py:1321: UserWarning: Setting penalty='none' will ignore the C and l1_ratio parameters\n",
      "  \"Setting penalty='none' will ignore the C and l1_ratio \"\n"
     ]
    },
    {
     "name": "stdout",
     "output_type": "stream",
     "text": [
      "[CV] .................. C=50, penalty=none, score=0.788, total=   0.4s\n",
      "[CV] C=50, penalty=none ..............................................\n"
     ]
    },
    {
     "name": "stderr",
     "output_type": "stream",
     "text": [
      "/Users/kasiakalemba/opt/anaconda3/envs/PythonData2020_2/lib/python3.6/site-packages/sklearn/linear_model/_logistic.py:1321: UserWarning: Setting penalty='none' will ignore the C and l1_ratio parameters\n",
      "  \"Setting penalty='none' will ignore the C and l1_ratio \"\n"
     ]
    },
    {
     "name": "stdout",
     "output_type": "stream",
     "text": [
      "[CV] .................. C=50, penalty=none, score=0.777, total=   0.4s\n",
      "[CV] C=50, penalty=none ..............................................\n"
     ]
    },
    {
     "name": "stderr",
     "output_type": "stream",
     "text": [
      "/Users/kasiakalemba/opt/anaconda3/envs/PythonData2020_2/lib/python3.6/site-packages/sklearn/linear_model/_logistic.py:1321: UserWarning: Setting penalty='none' will ignore the C and l1_ratio parameters\n",
      "  \"Setting penalty='none' will ignore the C and l1_ratio \"\n"
     ]
    },
    {
     "name": "stdout",
     "output_type": "stream",
     "text": [
      "[CV] .................. C=50, penalty=none, score=0.763, total=   0.5s\n",
      "[CV] C=50, penalty=none ..............................................\n"
     ]
    },
    {
     "name": "stderr",
     "output_type": "stream",
     "text": [
      "/Users/kasiakalemba/opt/anaconda3/envs/PythonData2020_2/lib/python3.6/site-packages/sklearn/linear_model/_logistic.py:1321: UserWarning: Setting penalty='none' will ignore the C and l1_ratio parameters\n",
      "  \"Setting penalty='none' will ignore the C and l1_ratio \"\n"
     ]
    },
    {
     "name": "stdout",
     "output_type": "stream",
     "text": [
      "[CV] .................. C=50, penalty=none, score=0.781, total=   1.0s\n",
      "[CV] C=50, penalty=none ..............................................\n"
     ]
    },
    {
     "name": "stderr",
     "output_type": "stream",
     "text": [
      "/Users/kasiakalemba/opt/anaconda3/envs/PythonData2020_2/lib/python3.6/site-packages/sklearn/linear_model/_logistic.py:1321: UserWarning: Setting penalty='none' will ignore the C and l1_ratio parameters\n",
      "  \"Setting penalty='none' will ignore the C and l1_ratio \"\n"
     ]
    },
    {
     "name": "stdout",
     "output_type": "stream",
     "text": [
      "[CV] .................. C=50, penalty=none, score=0.775, total=   0.4s\n"
     ]
    },
    {
     "name": "stderr",
     "output_type": "stream",
     "text": [
      "[Parallel(n_jobs=1)]: Done  40 out of  40 | elapsed:   21.3s finished\n"
     ]
    },
    {
     "data": {
      "text/plain": [
       "GridSearchCV(estimator=LogisticRegression(max_iter=1000),\n",
       "             param_grid={'C': [1, 5, 10, 50], 'penalty': ('l2', 'none')},\n",
       "             verbose=3)"
      ]
     },
     "execution_count": 18,
     "metadata": {},
     "output_type": "execute_result"
    }
   ],
   "source": [
    "# Fit the model using the grid search estimator. \n",
    "logistic.fit(X_train, y_train)"
   ]
  },
  {
   "cell_type": "code",
   "execution_count": 19,
   "metadata": {},
   "outputs": [
    {
     "name": "stdout",
     "output_type": "stream",
     "text": [
      "{'C': 1, 'penalty': 'none'}\n",
      "0.7766549749306865\n"
     ]
    }
   ],
   "source": [
    "# List the best parameters for this dataset\n",
    "print(logistic.best_params_)\n",
    "\n",
    "# List the best score\n",
    "print(logistic.best_score_)"
   ]
  },
  {
   "cell_type": "code",
   "execution_count": 20,
   "metadata": {},
   "outputs": [
    {
     "name": "stdout",
     "output_type": "stream",
     "text": [
      "Logistic Model Training Data Score: 0.7379362960137326\n",
      "Logistic Model Testing Data Score: 0.7437070938215103\n"
     ]
    }
   ],
   "source": [
    "# Score the model\n",
    "logistic_model = logistic.best_estimator_\n",
    "print(f\"Logistic Model Training Data Score: {logistic_model.score(X_train_scaled, y_train)}\")\n",
    "print(f\"Logistic Model Testing Data Score: {logistic_model.score(X_test_scaled, y_test)}\")"
   ]
  },
  {
   "cell_type": "markdown",
   "metadata": {},
   "source": [
    "### SVM Model"
   ]
  },
  {
   "cell_type": "markdown",
   "metadata": {},
   "source": [
    "\"In the SVM algorithm, we plot each data item as a point in n-dimensional space (where n is number of features you have) with the value of each feature being the value of a particular coordinate. Then, we perform classification by finding the hyper-plane that differentiates the two classes very well.\" - www.analyticsvidhya.com"
   ]
  },
  {
   "cell_type": "code",
   "execution_count": 21,
   "metadata": {},
   "outputs": [
    {
     "data": {
      "text/plain": [
       "SVC(kernel='linear')"
      ]
     },
     "execution_count": 21,
     "metadata": {},
     "output_type": "execute_result"
    }
   ],
   "source": [
    "# creates SVC model\n",
    "svm_model = SVC(kernel='linear')\n",
    "svm_model"
   ]
  },
  {
   "cell_type": "code",
   "execution_count": 22,
   "metadata": {},
   "outputs": [],
   "source": [
    "# sets up hyperparameter grid\n",
    "param_grid = {'C': [1, 5, 10, 50], \n",
    "             'gamma': [1,5,10,50,100]}\n",
    "\n",
    "# grid search\n",
    "svm_grid = GridSearchCV(svm_model, param_grid, verbose=3)"
   ]
  },
  {
   "cell_type": "code",
   "execution_count": 23,
   "metadata": {},
   "outputs": [
    {
     "name": "stdout",
     "output_type": "stream",
     "text": [
      "Fitting 5 folds for each of 20 candidates, totalling 100 fits\n",
      "[CV] C=1, gamma=1 ....................................................\n",
      "[CV] ........................ C=1, gamma=1, score=0.742, total=   0.2s\n",
      "[CV] C=1, gamma=1 ....................................................\n"
     ]
    },
    {
     "name": "stderr",
     "output_type": "stream",
     "text": [
      "[Parallel(n_jobs=1)]: Using backend SequentialBackend with 1 concurrent workers.\n",
      "[Parallel(n_jobs=1)]: Done   1 out of   1 | elapsed:    0.2s remaining:    0.0s\n"
     ]
    },
    {
     "name": "stdout",
     "output_type": "stream",
     "text": [
      "[CV] ........................ C=1, gamma=1, score=0.733, total=   0.2s\n",
      "[CV] C=1, gamma=1 ....................................................\n",
      "[CV] ........................ C=1, gamma=1, score=0.743, total=   0.1s\n",
      "[CV] C=1, gamma=1 ....................................................\n"
     ]
    },
    {
     "name": "stderr",
     "output_type": "stream",
     "text": [
      "[Parallel(n_jobs=1)]: Done   2 out of   2 | elapsed:    0.4s remaining:    0.0s\n"
     ]
    },
    {
     "name": "stdout",
     "output_type": "stream",
     "text": [
      "[CV] ........................ C=1, gamma=1, score=0.735, total=   0.1s\n",
      "[CV] C=1, gamma=1 ....................................................\n",
      "[CV] ........................ C=1, gamma=1, score=0.738, total=   0.2s\n",
      "[CV] C=1, gamma=5 ....................................................\n",
      "[CV] ........................ C=1, gamma=5, score=0.742, total=   0.1s\n",
      "[CV] C=1, gamma=5 ....................................................\n",
      "[CV] ........................ C=1, gamma=5, score=0.733, total=   0.1s\n",
      "[CV] C=1, gamma=5 ....................................................\n",
      "[CV] ........................ C=1, gamma=5, score=0.743, total=   0.2s\n",
      "[CV] C=1, gamma=5 ....................................................\n",
      "[CV] ........................ C=1, gamma=5, score=0.735, total=   0.1s\n",
      "[CV] C=1, gamma=5 ....................................................\n",
      "[CV] ........................ C=1, gamma=5, score=0.738, total=   0.1s\n",
      "[CV] C=1, gamma=10 ...................................................\n",
      "[CV] ....................... C=1, gamma=10, score=0.742, total=   0.1s\n",
      "[CV] C=1, gamma=10 ...................................................\n",
      "[CV] ....................... C=1, gamma=10, score=0.733, total=   0.1s\n",
      "[CV] C=1, gamma=10 ...................................................\n",
      "[CV] ....................... C=1, gamma=10, score=0.743, total=   0.1s\n",
      "[CV] C=1, gamma=10 ...................................................\n",
      "[CV] ....................... C=1, gamma=10, score=0.735, total=   0.1s\n",
      "[CV] C=1, gamma=10 ...................................................\n",
      "[CV] ....................... C=1, gamma=10, score=0.738, total=   0.1s\n",
      "[CV] C=1, gamma=50 ...................................................\n",
      "[CV] ....................... C=1, gamma=50, score=0.742, total=   0.1s\n",
      "[CV] C=1, gamma=50 ...................................................\n",
      "[CV] ....................... C=1, gamma=50, score=0.733, total=   0.1s\n",
      "[CV] C=1, gamma=50 ...................................................\n",
      "[CV] ....................... C=1, gamma=50, score=0.743, total=   0.1s\n",
      "[CV] C=1, gamma=50 ...................................................\n",
      "[CV] ....................... C=1, gamma=50, score=0.735, total=   0.1s\n",
      "[CV] C=1, gamma=50 ...................................................\n",
      "[CV] ....................... C=1, gamma=50, score=0.738, total=   0.1s\n",
      "[CV] C=1, gamma=100 ..................................................\n",
      "[CV] ...................... C=1, gamma=100, score=0.742, total=   0.1s\n",
      "[CV] C=1, gamma=100 ..................................................\n",
      "[CV] ...................... C=1, gamma=100, score=0.733, total=   0.2s\n",
      "[CV] C=1, gamma=100 ..................................................\n",
      "[CV] ...................... C=1, gamma=100, score=0.743, total=   0.1s\n",
      "[CV] C=1, gamma=100 ..................................................\n",
      "[CV] ...................... C=1, gamma=100, score=0.735, total=   0.1s\n",
      "[CV] C=1, gamma=100 ..................................................\n",
      "[CV] ...................... C=1, gamma=100, score=0.738, total=   0.1s\n",
      "[CV] C=5, gamma=1 ....................................................\n",
      "[CV] ........................ C=5, gamma=1, score=0.749, total=   0.1s\n",
      "[CV] C=5, gamma=1 ....................................................\n",
      "[CV] ........................ C=5, gamma=1, score=0.787, total=   0.1s\n",
      "[CV] C=5, gamma=1 ....................................................\n",
      "[CV] ........................ C=5, gamma=1, score=0.743, total=   0.2s\n",
      "[CV] C=5, gamma=1 ....................................................\n",
      "[CV] ........................ C=5, gamma=1, score=0.732, total=   0.2s\n",
      "[CV] C=5, gamma=1 ....................................................\n",
      "[CV] ........................ C=5, gamma=1, score=0.762, total=   0.2s\n",
      "[CV] C=5, gamma=5 ....................................................\n",
      "[CV] ........................ C=5, gamma=5, score=0.749, total=   0.2s\n",
      "[CV] C=5, gamma=5 ....................................................\n",
      "[CV] ........................ C=5, gamma=5, score=0.787, total=   0.2s\n",
      "[CV] C=5, gamma=5 ....................................................\n",
      "[CV] ........................ C=5, gamma=5, score=0.743, total=   0.3s\n",
      "[CV] C=5, gamma=5 ....................................................\n",
      "[CV] ........................ C=5, gamma=5, score=0.732, total=   0.3s\n",
      "[CV] C=5, gamma=5 ....................................................\n",
      "[CV] ........................ C=5, gamma=5, score=0.762, total=   0.3s\n",
      "[CV] C=5, gamma=10 ...................................................\n",
      "[CV] ....................... C=5, gamma=10, score=0.749, total=   0.2s\n",
      "[CV] C=5, gamma=10 ...................................................\n",
      "[CV] ....................... C=5, gamma=10, score=0.787, total=   0.1s\n",
      "[CV] C=5, gamma=10 ...................................................\n",
      "[CV] ....................... C=5, gamma=10, score=0.743, total=   0.2s\n",
      "[CV] C=5, gamma=10 ...................................................\n",
      "[CV] ....................... C=5, gamma=10, score=0.732, total=   0.3s\n",
      "[CV] C=5, gamma=10 ...................................................\n",
      "[CV] ....................... C=5, gamma=10, score=0.762, total=   0.3s\n",
      "[CV] C=5, gamma=50 ...................................................\n",
      "[CV] ....................... C=5, gamma=50, score=0.749, total=   0.6s\n",
      "[CV] C=5, gamma=50 ...................................................\n",
      "[CV] ....................... C=5, gamma=50, score=0.787, total=   0.6s\n",
      "[CV] C=5, gamma=50 ...................................................\n",
      "[CV] ....................... C=5, gamma=50, score=0.743, total=   0.5s\n",
      "[CV] C=5, gamma=50 ...................................................\n",
      "[CV] ....................... C=5, gamma=50, score=0.732, total=   0.2s\n",
      "[CV] C=5, gamma=50 ...................................................\n",
      "[CV] ....................... C=5, gamma=50, score=0.762, total=   0.2s\n",
      "[CV] C=5, gamma=100 ..................................................\n",
      "[CV] ...................... C=5, gamma=100, score=0.749, total=   0.1s\n",
      "[CV] C=5, gamma=100 ..................................................\n",
      "[CV] ...................... C=5, gamma=100, score=0.787, total=   0.1s\n",
      "[CV] C=5, gamma=100 ..................................................\n",
      "[CV] ...................... C=5, gamma=100, score=0.743, total=   0.1s\n",
      "[CV] C=5, gamma=100 ..................................................\n",
      "[CV] ...................... C=5, gamma=100, score=0.732, total=   0.2s\n",
      "[CV] C=5, gamma=100 ..................................................\n",
      "[CV] ...................... C=5, gamma=100, score=0.762, total=   0.1s\n",
      "[CV] C=10, gamma=1 ...................................................\n",
      "[CV] ....................... C=10, gamma=1, score=0.741, total=   0.2s\n",
      "[CV] C=10, gamma=1 ...................................................\n",
      "[CV] ....................... C=10, gamma=1, score=0.735, total=   0.1s\n",
      "[CV] C=10, gamma=1 ...................................................\n",
      "[CV] ....................... C=10, gamma=1, score=0.765, total=   0.1s\n",
      "[CV] C=10, gamma=1 ...................................................\n",
      "[CV] ....................... C=10, gamma=1, score=0.731, total=   0.1s\n",
      "[CV] C=10, gamma=1 ...................................................\n",
      "[CV] ....................... C=10, gamma=1, score=0.740, total=   0.1s\n",
      "[CV] C=10, gamma=5 ...................................................\n",
      "[CV] ....................... C=10, gamma=5, score=0.741, total=   0.1s\n",
      "[CV] C=10, gamma=5 ...................................................\n",
      "[CV] ....................... C=10, gamma=5, score=0.735, total=   0.1s\n",
      "[CV] C=10, gamma=5 ...................................................\n",
      "[CV] ....................... C=10, gamma=5, score=0.765, total=   0.1s\n",
      "[CV] C=10, gamma=5 ...................................................\n",
      "[CV] ....................... C=10, gamma=5, score=0.731, total=   0.1s\n",
      "[CV] C=10, gamma=5 ...................................................\n",
      "[CV] ....................... C=10, gamma=5, score=0.740, total=   0.1s\n",
      "[CV] C=10, gamma=10 ..................................................\n",
      "[CV] ...................... C=10, gamma=10, score=0.741, total=   0.2s\n",
      "[CV] C=10, gamma=10 ..................................................\n",
      "[CV] ...................... C=10, gamma=10, score=0.735, total=   0.1s\n",
      "[CV] C=10, gamma=10 ..................................................\n"
     ]
    },
    {
     "name": "stdout",
     "output_type": "stream",
     "text": [
      "[CV] ...................... C=10, gamma=10, score=0.765, total=   0.2s\n",
      "[CV] C=10, gamma=10 ..................................................\n",
      "[CV] ...................... C=10, gamma=10, score=0.731, total=   0.1s\n",
      "[CV] C=10, gamma=10 ..................................................\n",
      "[CV] ...................... C=10, gamma=10, score=0.740, total=   0.2s\n",
      "[CV] C=10, gamma=50 ..................................................\n",
      "[CV] ...................... C=10, gamma=50, score=0.741, total=   0.3s\n",
      "[CV] C=10, gamma=50 ..................................................\n",
      "[CV] ...................... C=10, gamma=50, score=0.735, total=   0.1s\n",
      "[CV] C=10, gamma=50 ..................................................\n",
      "[CV] ...................... C=10, gamma=50, score=0.765, total=   0.3s\n",
      "[CV] C=10, gamma=50 ..................................................\n",
      "[CV] ...................... C=10, gamma=50, score=0.731, total=   0.1s\n",
      "[CV] C=10, gamma=50 ..................................................\n",
      "[CV] ...................... C=10, gamma=50, score=0.740, total=   0.4s\n",
      "[CV] C=10, gamma=100 .................................................\n",
      "[CV] ..................... C=10, gamma=100, score=0.741, total=   0.3s\n",
      "[CV] C=10, gamma=100 .................................................\n",
      "[CV] ..................... C=10, gamma=100, score=0.735, total=   0.2s\n",
      "[CV] C=10, gamma=100 .................................................\n",
      "[CV] ..................... C=10, gamma=100, score=0.765, total=   0.3s\n",
      "[CV] C=10, gamma=100 .................................................\n",
      "[CV] ..................... C=10, gamma=100, score=0.731, total=   0.1s\n",
      "[CV] C=10, gamma=100 .................................................\n",
      "[CV] ..................... C=10, gamma=100, score=0.740, total=   0.4s\n",
      "[CV] C=50, gamma=1 ...................................................\n",
      "[CV] ....................... C=50, gamma=1, score=0.748, total=   0.2s\n",
      "[CV] C=50, gamma=1 ...................................................\n",
      "[CV] ....................... C=50, gamma=1, score=0.736, total=   0.1s\n",
      "[CV] C=50, gamma=1 ...................................................\n",
      "[CV] ....................... C=50, gamma=1, score=0.754, total=   0.2s\n",
      "[CV] C=50, gamma=1 ...................................................\n",
      "[CV] ....................... C=50, gamma=1, score=0.740, total=   0.1s\n",
      "[CV] C=50, gamma=1 ...................................................\n",
      "[CV] ....................... C=50, gamma=1, score=0.745, total=   0.2s\n",
      "[CV] C=50, gamma=5 ...................................................\n",
      "[CV] ....................... C=50, gamma=5, score=0.748, total=   0.2s\n",
      "[CV] C=50, gamma=5 ...................................................\n",
      "[CV] ....................... C=50, gamma=5, score=0.736, total=   0.1s\n",
      "[CV] C=50, gamma=5 ...................................................\n",
      "[CV] ....................... C=50, gamma=5, score=0.754, total=   0.1s\n",
      "[CV] C=50, gamma=5 ...................................................\n",
      "[CV] ....................... C=50, gamma=5, score=0.740, total=   0.2s\n",
      "[CV] C=50, gamma=5 ...................................................\n",
      "[CV] ....................... C=50, gamma=5, score=0.745, total=   0.1s\n",
      "[CV] C=50, gamma=10 ..................................................\n",
      "[CV] ...................... C=50, gamma=10, score=0.748, total=   0.2s\n",
      "[CV] C=50, gamma=10 ..................................................\n",
      "[CV] ...................... C=50, gamma=10, score=0.736, total=   0.1s\n",
      "[CV] C=50, gamma=10 ..................................................\n",
      "[CV] ...................... C=50, gamma=10, score=0.754, total=   0.2s\n",
      "[CV] C=50, gamma=10 ..................................................\n",
      "[CV] ...................... C=50, gamma=10, score=0.740, total=   0.1s\n",
      "[CV] C=50, gamma=10 ..................................................\n",
      "[CV] ...................... C=50, gamma=10, score=0.745, total=   0.2s\n",
      "[CV] C=50, gamma=50 ..................................................\n",
      "[CV] ...................... C=50, gamma=50, score=0.748, total=   0.2s\n",
      "[CV] C=50, gamma=50 ..................................................\n",
      "[CV] ...................... C=50, gamma=50, score=0.736, total=   0.1s\n",
      "[CV] C=50, gamma=50 ..................................................\n",
      "[CV] ...................... C=50, gamma=50, score=0.754, total=   0.2s\n",
      "[CV] C=50, gamma=50 ..................................................\n",
      "[CV] ...................... C=50, gamma=50, score=0.740, total=   0.1s\n",
      "[CV] C=50, gamma=50 ..................................................\n",
      "[CV] ...................... C=50, gamma=50, score=0.745, total=   0.2s\n",
      "[CV] C=50, gamma=100 .................................................\n",
      "[CV] ..................... C=50, gamma=100, score=0.748, total=   0.2s\n",
      "[CV] C=50, gamma=100 .................................................\n",
      "[CV] ..................... C=50, gamma=100, score=0.736, total=   0.1s\n",
      "[CV] C=50, gamma=100 .................................................\n",
      "[CV] ..................... C=50, gamma=100, score=0.754, total=   0.2s\n",
      "[CV] C=50, gamma=100 .................................................\n",
      "[CV] ..................... C=50, gamma=100, score=0.740, total=   0.1s\n",
      "[CV] C=50, gamma=100 .................................................\n",
      "[CV] ..................... C=50, gamma=100, score=0.745, total=   0.1s\n"
     ]
    },
    {
     "name": "stderr",
     "output_type": "stream",
     "text": [
      "[Parallel(n_jobs=1)]: Done 100 out of 100 | elapsed:   18.2s finished\n"
     ]
    },
    {
     "data": {
      "text/plain": [
       "GridSearchCV(estimator=SVC(kernel='linear'),\n",
       "             param_grid={'C': [1, 5, 10, 50], 'gamma': [1, 5, 10, 50, 100]},\n",
       "             verbose=3)"
      ]
     },
     "execution_count": 23,
     "metadata": {},
     "output_type": "execute_result"
    }
   ],
   "source": [
    "# fits the model\n",
    "svm_grid.fit(X_train_scaled, y_train)"
   ]
  },
  {
   "cell_type": "code",
   "execution_count": 24,
   "metadata": {},
   "outputs": [
    {
     "name": "stdout",
     "output_type": "stream",
     "text": [
      "{'C': 5, 'gamma': 1}\n",
      "0.7547176882381621\n"
     ]
    }
   ],
   "source": [
    "# best parameters for the grid search\n",
    "print(svm_grid.best_params_)\n",
    "print(svm_grid.best_score_)"
   ]
  },
  {
   "cell_type": "code",
   "execution_count": 25,
   "metadata": {},
   "outputs": [
    {
     "name": "stdout",
     "output_type": "stream",
     "text": [
      "SVM Training Data Score: 0.743467480450124\n",
      "SVM Testing Data Score: 0.7145308924485125\n"
     ]
    }
   ],
   "source": [
    "# SVM Score\n",
    "svm_model = svm_grid.best_estimator_\n",
    "print(f\"SVM Training Data Score: {svm_model.score(X_train_scaled, y_train)}\")\n",
    "print(f\"SVM Testing Data Score: {svm_model.score(X_test_scaled, y_test)}\")"
   ]
  },
  {
   "cell_type": "markdown",
   "metadata": {},
   "source": [
    "### Random Forest Model"
   ]
  },
  {
   "cell_type": "markdown",
   "metadata": {},
   "source": [
    "\"Random forest, like its name implies, consists of a large number of individual decision trees that operate as an ensemble. Each individual tree in the random forest spits out a class prediction and the class with the most votes becomes our model’s prediction.\" - TDS"
   ]
  },
  {
   "cell_type": "code",
   "execution_count": 26,
   "metadata": {},
   "outputs": [
    {
     "data": {
      "text/plain": [
       "RandomForestClassifier()"
      ]
     },
     "execution_count": 26,
     "metadata": {},
     "output_type": "execute_result"
    }
   ],
   "source": [
    "# set up random forest model\n",
    "rf_model = RandomForestClassifier()\n",
    "rf_model"
   ]
  },
  {
   "cell_type": "code",
   "execution_count": 27,
   "metadata": {},
   "outputs": [],
   "source": [
    "# sets up hyperparameter grid\n",
    "param_grid = {'max_depth': [1, 5, 50], \n",
    "             \"n_estimators\": [250, 1000, 1500],\n",
    "             \"min_samples_leaf\": [1, 2, 5, 10]}\n",
    "\n",
    "# sets up the random forest grid search\n",
    "rf_grid = GridSearchCV(rf_model, param_grid, verbose=3, cv=3)"
   ]
  },
  {
   "cell_type": "code",
   "execution_count": 28,
   "metadata": {},
   "outputs": [
    {
     "name": "stdout",
     "output_type": "stream",
     "text": [
      "Fitting 3 folds for each of 36 candidates, totalling 108 fits\n",
      "[CV] max_depth=1, min_samples_leaf=1, n_estimators=250 ...............\n"
     ]
    },
    {
     "name": "stderr",
     "output_type": "stream",
     "text": [
      "[Parallel(n_jobs=1)]: Using backend SequentialBackend with 1 concurrent workers.\n"
     ]
    },
    {
     "name": "stdout",
     "output_type": "stream",
     "text": [
      "[CV]  max_depth=1, min_samples_leaf=1, n_estimators=250, score=0.505, total=   0.9s\n",
      "[CV] max_depth=1, min_samples_leaf=1, n_estimators=250 ...............\n"
     ]
    },
    {
     "name": "stderr",
     "output_type": "stream",
     "text": [
      "[Parallel(n_jobs=1)]: Done   1 out of   1 | elapsed:    0.9s remaining:    0.0s\n"
     ]
    },
    {
     "name": "stdout",
     "output_type": "stream",
     "text": [
      "[CV]  max_depth=1, min_samples_leaf=1, n_estimators=250, score=0.506, total=   0.9s\n",
      "[CV] max_depth=1, min_samples_leaf=1, n_estimators=250 ...............\n"
     ]
    },
    {
     "name": "stderr",
     "output_type": "stream",
     "text": [
      "[Parallel(n_jobs=1)]: Done   2 out of   2 | elapsed:    1.8s remaining:    0.0s\n"
     ]
    },
    {
     "name": "stdout",
     "output_type": "stream",
     "text": [
      "[CV]  max_depth=1, min_samples_leaf=1, n_estimators=250, score=0.506, total=   1.0s\n",
      "[CV] max_depth=1, min_samples_leaf=1, n_estimators=1000 ..............\n",
      "[CV]  max_depth=1, min_samples_leaf=1, n_estimators=1000, score=0.505, total=   5.7s\n",
      "[CV] max_depth=1, min_samples_leaf=1, n_estimators=1000 ..............\n",
      "[CV]  max_depth=1, min_samples_leaf=1, n_estimators=1000, score=0.506, total=   2.5s\n",
      "[CV] max_depth=1, min_samples_leaf=1, n_estimators=1000 ..............\n",
      "[CV]  max_depth=1, min_samples_leaf=1, n_estimators=1000, score=0.506, total=   3.6s\n",
      "[CV] max_depth=1, min_samples_leaf=1, n_estimators=1500 ..............\n",
      "[CV]  max_depth=1, min_samples_leaf=1, n_estimators=1500, score=0.505, total=   5.7s\n",
      "[CV] max_depth=1, min_samples_leaf=1, n_estimators=1500 ..............\n",
      "[CV]  max_depth=1, min_samples_leaf=1, n_estimators=1500, score=0.506, total=   4.3s\n",
      "[CV] max_depth=1, min_samples_leaf=1, n_estimators=1500 ..............\n",
      "[CV]  max_depth=1, min_samples_leaf=1, n_estimators=1500, score=0.506, total=   4.0s\n",
      "[CV] max_depth=1, min_samples_leaf=2, n_estimators=250 ...............\n",
      "[CV]  max_depth=1, min_samples_leaf=2, n_estimators=250, score=0.505, total=   1.0s\n",
      "[CV] max_depth=1, min_samples_leaf=2, n_estimators=250 ...............\n",
      "[CV]  max_depth=1, min_samples_leaf=2, n_estimators=250, score=0.506, total=   1.2s\n",
      "[CV] max_depth=1, min_samples_leaf=2, n_estimators=250 ...............\n",
      "[CV]  max_depth=1, min_samples_leaf=2, n_estimators=250, score=0.506, total=   1.0s\n",
      "[CV] max_depth=1, min_samples_leaf=2, n_estimators=1000 ..............\n",
      "[CV]  max_depth=1, min_samples_leaf=2, n_estimators=1000, score=0.505, total=   3.6s\n",
      "[CV] max_depth=1, min_samples_leaf=2, n_estimators=1000 ..............\n",
      "[CV]  max_depth=1, min_samples_leaf=2, n_estimators=1000, score=0.506, total=   2.5s\n",
      "[CV] max_depth=1, min_samples_leaf=2, n_estimators=1000 ..............\n",
      "[CV]  max_depth=1, min_samples_leaf=2, n_estimators=1000, score=0.506, total=   3.4s\n",
      "[CV] max_depth=1, min_samples_leaf=2, n_estimators=1500 ..............\n",
      "[CV]  max_depth=1, min_samples_leaf=2, n_estimators=1500, score=0.505, total=   4.2s\n",
      "[CV] max_depth=1, min_samples_leaf=2, n_estimators=1500 ..............\n",
      "[CV]  max_depth=1, min_samples_leaf=2, n_estimators=1500, score=0.506, total=   3.6s\n",
      "[CV] max_depth=1, min_samples_leaf=2, n_estimators=1500 ..............\n",
      "[CV]  max_depth=1, min_samples_leaf=2, n_estimators=1500, score=0.506, total=   4.4s\n",
      "[CV] max_depth=1, min_samples_leaf=5, n_estimators=250 ...............\n",
      "[CV]  max_depth=1, min_samples_leaf=5, n_estimators=250, score=0.505, total=   0.6s\n",
      "[CV] max_depth=1, min_samples_leaf=5, n_estimators=250 ...............\n",
      "[CV]  max_depth=1, min_samples_leaf=5, n_estimators=250, score=0.506, total=   0.6s\n",
      "[CV] max_depth=1, min_samples_leaf=5, n_estimators=250 ...............\n",
      "[CV]  max_depth=1, min_samples_leaf=5, n_estimators=250, score=0.506, total=   0.6s\n",
      "[CV] max_depth=1, min_samples_leaf=5, n_estimators=1000 ..............\n",
      "[CV]  max_depth=1, min_samples_leaf=5, n_estimators=1000, score=0.505, total=   2.4s\n",
      "[CV] max_depth=1, min_samples_leaf=5, n_estimators=1000 ..............\n",
      "[CV]  max_depth=1, min_samples_leaf=5, n_estimators=1000, score=0.506, total=   2.5s\n",
      "[CV] max_depth=1, min_samples_leaf=5, n_estimators=1000 ..............\n",
      "[CV]  max_depth=1, min_samples_leaf=5, n_estimators=1000, score=0.506, total=   2.4s\n",
      "[CV] max_depth=1, min_samples_leaf=5, n_estimators=1500 ..............\n",
      "[CV]  max_depth=1, min_samples_leaf=5, n_estimators=1500, score=0.505, total=   4.4s\n",
      "[CV] max_depth=1, min_samples_leaf=5, n_estimators=1500 ..............\n",
      "[CV]  max_depth=1, min_samples_leaf=5, n_estimators=1500, score=0.506, total=   4.8s\n",
      "[CV] max_depth=1, min_samples_leaf=5, n_estimators=1500 ..............\n",
      "[CV]  max_depth=1, min_samples_leaf=5, n_estimators=1500, score=0.506, total=   4.8s\n",
      "[CV] max_depth=1, min_samples_leaf=10, n_estimators=250 ..............\n",
      "[CV]  max_depth=1, min_samples_leaf=10, n_estimators=250, score=0.505, total=   0.8s\n",
      "[CV] max_depth=1, min_samples_leaf=10, n_estimators=250 ..............\n",
      "[CV]  max_depth=1, min_samples_leaf=10, n_estimators=250, score=0.506, total=   0.8s\n",
      "[CV] max_depth=1, min_samples_leaf=10, n_estimators=250 ..............\n",
      "[CV]  max_depth=1, min_samples_leaf=10, n_estimators=250, score=0.506, total=   0.8s\n",
      "[CV] max_depth=1, min_samples_leaf=10, n_estimators=1000 .............\n",
      "[CV]  max_depth=1, min_samples_leaf=10, n_estimators=1000, score=0.505, total=   4.2s\n",
      "[CV] max_depth=1, min_samples_leaf=10, n_estimators=1000 .............\n",
      "[CV]  max_depth=1, min_samples_leaf=10, n_estimators=1000, score=0.506, total=   3.1s\n",
      "[CV] max_depth=1, min_samples_leaf=10, n_estimators=1000 .............\n",
      "[CV]  max_depth=1, min_samples_leaf=10, n_estimators=1000, score=0.506, total=   4.0s\n",
      "[CV] max_depth=1, min_samples_leaf=10, n_estimators=1500 .............\n",
      "[CV]  max_depth=1, min_samples_leaf=10, n_estimators=1500, score=0.505, total=   5.4s\n",
      "[CV] max_depth=1, min_samples_leaf=10, n_estimators=1500 .............\n",
      "[CV]  max_depth=1, min_samples_leaf=10, n_estimators=1500, score=0.506, total=   5.6s\n",
      "[CV] max_depth=1, min_samples_leaf=10, n_estimators=1500 .............\n",
      "[CV]  max_depth=1, min_samples_leaf=10, n_estimators=1500, score=0.506, total=   5.0s\n",
      "[CV] max_depth=5, min_samples_leaf=1, n_estimators=250 ...............\n",
      "[CV]  max_depth=5, min_samples_leaf=1, n_estimators=250, score=0.886, total=   1.0s\n",
      "[CV] max_depth=5, min_samples_leaf=1, n_estimators=250 ...............\n",
      "[CV]  max_depth=5, min_samples_leaf=1, n_estimators=250, score=0.871, total=   1.1s\n",
      "[CV] max_depth=5, min_samples_leaf=1, n_estimators=250 ...............\n",
      "[CV]  max_depth=5, min_samples_leaf=1, n_estimators=250, score=0.856, total=   1.2s\n",
      "[CV] max_depth=5, min_samples_leaf=1, n_estimators=1000 ..............\n",
      "[CV]  max_depth=5, min_samples_leaf=1, n_estimators=1000, score=0.887, total=   5.7s\n",
      "[CV] max_depth=5, min_samples_leaf=1, n_estimators=1000 ..............\n",
      "[CV]  max_depth=5, min_samples_leaf=1, n_estimators=1000, score=0.870, total=   4.6s\n",
      "[CV] max_depth=5, min_samples_leaf=1, n_estimators=1000 ..............\n",
      "[CV]  max_depth=5, min_samples_leaf=1, n_estimators=1000, score=0.856, total=   3.9s\n",
      "[CV] max_depth=5, min_samples_leaf=1, n_estimators=1500 ..............\n",
      "[CV]  max_depth=5, min_samples_leaf=1, n_estimators=1500, score=0.886, total=   5.7s\n",
      "[CV] max_depth=5, min_samples_leaf=1, n_estimators=1500 ..............\n",
      "[CV]  max_depth=5, min_samples_leaf=1, n_estimators=1500, score=0.870, total=   5.0s\n",
      "[CV] max_depth=5, min_samples_leaf=1, n_estimators=1500 ..............\n",
      "[CV]  max_depth=5, min_samples_leaf=1, n_estimators=1500, score=0.856, total=   5.0s\n",
      "[CV] max_depth=5, min_samples_leaf=2, n_estimators=250 ...............\n",
      "[CV]  max_depth=5, min_samples_leaf=2, n_estimators=250, score=0.886, total=   0.9s\n",
      "[CV] max_depth=5, min_samples_leaf=2, n_estimators=250 ...............\n",
      "[CV]  max_depth=5, min_samples_leaf=2, n_estimators=250, score=0.872, total=   0.8s\n",
      "[CV] max_depth=5, min_samples_leaf=2, n_estimators=250 ...............\n",
      "[CV]  max_depth=5, min_samples_leaf=2, n_estimators=250, score=0.856, total=   0.9s\n",
      "[CV] max_depth=5, min_samples_leaf=2, n_estimators=1000 ..............\n",
      "[CV]  max_depth=5, min_samples_leaf=2, n_estimators=1000, score=0.886, total=   3.3s\n",
      "[CV] max_depth=5, min_samples_leaf=2, n_estimators=1000 ..............\n",
      "[CV]  max_depth=5, min_samples_leaf=2, n_estimators=1000, score=0.871, total=   3.4s\n",
      "[CV] max_depth=5, min_samples_leaf=2, n_estimators=1000 ..............\n",
      "[CV]  max_depth=5, min_samples_leaf=2, n_estimators=1000, score=0.856, total=   3.3s\n",
      "[CV] max_depth=5, min_samples_leaf=2, n_estimators=1500 ..............\n",
      "[CV]  max_depth=5, min_samples_leaf=2, n_estimators=1500, score=0.886, total=   4.9s\n",
      "[CV] max_depth=5, min_samples_leaf=2, n_estimators=1500 ..............\n",
      "[CV]  max_depth=5, min_samples_leaf=2, n_estimators=1500, score=0.870, total=   4.9s\n",
      "[CV] max_depth=5, min_samples_leaf=2, n_estimators=1500 ..............\n",
      "[CV]  max_depth=5, min_samples_leaf=2, n_estimators=1500, score=0.856, total=   4.8s\n",
      "[CV] max_depth=5, min_samples_leaf=5, n_estimators=250 ...............\n",
      "[CV]  max_depth=5, min_samples_leaf=5, n_estimators=250, score=0.886, total=   0.8s\n",
      "[CV] max_depth=5, min_samples_leaf=5, n_estimators=250 ...............\n"
     ]
    },
    {
     "name": "stdout",
     "output_type": "stream",
     "text": [
      "[CV]  max_depth=5, min_samples_leaf=5, n_estimators=250, score=0.870, total=   0.8s\n",
      "[CV] max_depth=5, min_samples_leaf=5, n_estimators=250 ...............\n",
      "[CV]  max_depth=5, min_samples_leaf=5, n_estimators=250, score=0.856, total=   0.8s\n",
      "[CV] max_depth=5, min_samples_leaf=5, n_estimators=1000 ..............\n",
      "[CV]  max_depth=5, min_samples_leaf=5, n_estimators=1000, score=0.887, total=   3.2s\n",
      "[CV] max_depth=5, min_samples_leaf=5, n_estimators=1000 ..............\n",
      "[CV]  max_depth=5, min_samples_leaf=5, n_estimators=1000, score=0.870, total=   3.2s\n",
      "[CV] max_depth=5, min_samples_leaf=5, n_estimators=1000 ..............\n",
      "[CV]  max_depth=5, min_samples_leaf=5, n_estimators=1000, score=0.856, total=   3.2s\n",
      "[CV] max_depth=5, min_samples_leaf=5, n_estimators=1500 ..............\n",
      "[CV]  max_depth=5, min_samples_leaf=5, n_estimators=1500, score=0.887, total=   4.8s\n",
      "[CV] max_depth=5, min_samples_leaf=5, n_estimators=1500 ..............\n",
      "[CV]  max_depth=5, min_samples_leaf=5, n_estimators=1500, score=0.870, total=   4.8s\n",
      "[CV] max_depth=5, min_samples_leaf=5, n_estimators=1500 ..............\n",
      "[CV]  max_depth=5, min_samples_leaf=5, n_estimators=1500, score=0.856, total=   4.8s\n",
      "[CV] max_depth=5, min_samples_leaf=10, n_estimators=250 ..............\n",
      "[CV]  max_depth=5, min_samples_leaf=10, n_estimators=250, score=0.886, total=   0.8s\n",
      "[CV] max_depth=5, min_samples_leaf=10, n_estimators=250 ..............\n",
      "[CV]  max_depth=5, min_samples_leaf=10, n_estimators=250, score=0.870, total=   0.8s\n",
      "[CV] max_depth=5, min_samples_leaf=10, n_estimators=250 ..............\n",
      "[CV]  max_depth=5, min_samples_leaf=10, n_estimators=250, score=0.856, total=   0.8s\n",
      "[CV] max_depth=5, min_samples_leaf=10, n_estimators=1000 .............\n",
      "[CV]  max_depth=5, min_samples_leaf=10, n_estimators=1000, score=0.887, total=   3.2s\n",
      "[CV] max_depth=5, min_samples_leaf=10, n_estimators=1000 .............\n",
      "[CV]  max_depth=5, min_samples_leaf=10, n_estimators=1000, score=0.870, total=   3.2s\n",
      "[CV] max_depth=5, min_samples_leaf=10, n_estimators=1000 .............\n",
      "[CV]  max_depth=5, min_samples_leaf=10, n_estimators=1000, score=0.856, total=   3.2s\n",
      "[CV] max_depth=5, min_samples_leaf=10, n_estimators=1500 .............\n",
      "[CV]  max_depth=5, min_samples_leaf=10, n_estimators=1500, score=0.886, total=   4.8s\n",
      "[CV] max_depth=5, min_samples_leaf=10, n_estimators=1500 .............\n",
      "[CV]  max_depth=5, min_samples_leaf=10, n_estimators=1500, score=0.870, total=   5.0s\n",
      "[CV] max_depth=5, min_samples_leaf=10, n_estimators=1500 .............\n",
      "[CV]  max_depth=5, min_samples_leaf=10, n_estimators=1500, score=0.856, total=   4.8s\n",
      "[CV] max_depth=50, min_samples_leaf=1, n_estimators=250 ..............\n",
      "[CV]  max_depth=50, min_samples_leaf=1, n_estimators=250, score=0.862, total=   1.4s\n",
      "[CV] max_depth=50, min_samples_leaf=1, n_estimators=250 ..............\n",
      "[CV]  max_depth=50, min_samples_leaf=1, n_estimators=250, score=0.846, total=   1.4s\n",
      "[CV] max_depth=50, min_samples_leaf=1, n_estimators=250 ..............\n",
      "[CV]  max_depth=50, min_samples_leaf=1, n_estimators=250, score=0.840, total=   1.2s\n",
      "[CV] max_depth=50, min_samples_leaf=1, n_estimators=1000 .............\n",
      "[CV]  max_depth=50, min_samples_leaf=1, n_estimators=1000, score=0.863, total=   4.7s\n",
      "[CV] max_depth=50, min_samples_leaf=1, n_estimators=1000 .............\n",
      "[CV]  max_depth=50, min_samples_leaf=1, n_estimators=1000, score=0.851, total=   4.6s\n",
      "[CV] max_depth=50, min_samples_leaf=1, n_estimators=1000 .............\n",
      "[CV]  max_depth=50, min_samples_leaf=1, n_estimators=1000, score=0.840, total=   4.5s\n",
      "[CV] max_depth=50, min_samples_leaf=1, n_estimators=1500 .............\n",
      "[CV]  max_depth=50, min_samples_leaf=1, n_estimators=1500, score=0.864, total=   7.1s\n",
      "[CV] max_depth=50, min_samples_leaf=1, n_estimators=1500 .............\n",
      "[CV]  max_depth=50, min_samples_leaf=1, n_estimators=1500, score=0.850, total=   9.6s\n",
      "[CV] max_depth=50, min_samples_leaf=1, n_estimators=1500 .............\n",
      "[CV]  max_depth=50, min_samples_leaf=1, n_estimators=1500, score=0.836, total=   7.5s\n",
      "[CV] max_depth=50, min_samples_leaf=2, n_estimators=250 ..............\n",
      "[CV]  max_depth=50, min_samples_leaf=2, n_estimators=250, score=0.875, total=   1.2s\n",
      "[CV] max_depth=50, min_samples_leaf=2, n_estimators=250 ..............\n",
      "[CV]  max_depth=50, min_samples_leaf=2, n_estimators=250, score=0.863, total=   1.2s\n",
      "[CV] max_depth=50, min_samples_leaf=2, n_estimators=250 ..............\n",
      "[CV]  max_depth=50, min_samples_leaf=2, n_estimators=250, score=0.852, total=   1.1s\n",
      "[CV] max_depth=50, min_samples_leaf=2, n_estimators=1000 .............\n",
      "[CV]  max_depth=50, min_samples_leaf=2, n_estimators=1000, score=0.878, total=   5.6s\n",
      "[CV] max_depth=50, min_samples_leaf=2, n_estimators=1000 .............\n",
      "[CV]  max_depth=50, min_samples_leaf=2, n_estimators=1000, score=0.863, total=   5.3s\n",
      "[CV] max_depth=50, min_samples_leaf=2, n_estimators=1000 .............\n",
      "[CV]  max_depth=50, min_samples_leaf=2, n_estimators=1000, score=0.851, total=   5.4s\n",
      "[CV] max_depth=50, min_samples_leaf=2, n_estimators=1500 .............\n",
      "[CV]  max_depth=50, min_samples_leaf=2, n_estimators=1500, score=0.876, total=   9.1s\n",
      "[CV] max_depth=50, min_samples_leaf=2, n_estimators=1500 .............\n",
      "[CV]  max_depth=50, min_samples_leaf=2, n_estimators=1500, score=0.864, total=   7.3s\n",
      "[CV] max_depth=50, min_samples_leaf=2, n_estimators=1500 .............\n",
      "[CV]  max_depth=50, min_samples_leaf=2, n_estimators=1500, score=0.851, total=   6.7s\n",
      "[CV] max_depth=50, min_samples_leaf=5, n_estimators=250 ..............\n",
      "[CV]  max_depth=50, min_samples_leaf=5, n_estimators=250, score=0.883, total=   1.1s\n",
      "[CV] max_depth=50, min_samples_leaf=5, n_estimators=250 ..............\n",
      "[CV]  max_depth=50, min_samples_leaf=5, n_estimators=250, score=0.870, total=   1.1s\n",
      "[CV] max_depth=50, min_samples_leaf=5, n_estimators=250 ..............\n",
      "[CV]  max_depth=50, min_samples_leaf=5, n_estimators=250, score=0.852, total=   1.3s\n",
      "[CV] max_depth=50, min_samples_leaf=5, n_estimators=1000 .............\n",
      "[CV]  max_depth=50, min_samples_leaf=5, n_estimators=1000, score=0.882, total=   4.9s\n",
      "[CV] max_depth=50, min_samples_leaf=5, n_estimators=1000 .............\n",
      "[CV]  max_depth=50, min_samples_leaf=5, n_estimators=1000, score=0.869, total=   4.6s\n",
      "[CV] max_depth=50, min_samples_leaf=5, n_estimators=1000 .............\n",
      "[CV]  max_depth=50, min_samples_leaf=5, n_estimators=1000, score=0.851, total=   4.8s\n",
      "[CV] max_depth=50, min_samples_leaf=5, n_estimators=1500 .............\n",
      "[CV]  max_depth=50, min_samples_leaf=5, n_estimators=1500, score=0.882, total=  20.4s\n",
      "[CV] max_depth=50, min_samples_leaf=5, n_estimators=1500 .............\n",
      "[CV]  max_depth=50, min_samples_leaf=5, n_estimators=1500, score=0.870, total=  13.7s\n",
      "[CV] max_depth=50, min_samples_leaf=5, n_estimators=1500 .............\n",
      "[CV]  max_depth=50, min_samples_leaf=5, n_estimators=1500, score=0.852, total=   8.4s\n",
      "[CV] max_depth=50, min_samples_leaf=10, n_estimators=250 .............\n",
      "[CV]  max_depth=50, min_samples_leaf=10, n_estimators=250, score=0.883, total=   1.7s\n",
      "[CV] max_depth=50, min_samples_leaf=10, n_estimators=250 .............\n",
      "[CV]  max_depth=50, min_samples_leaf=10, n_estimators=250, score=0.869, total=   1.2s\n",
      "[CV] max_depth=50, min_samples_leaf=10, n_estimators=250 .............\n",
      "[CV]  max_depth=50, min_samples_leaf=10, n_estimators=250, score=0.854, total=   1.0s\n",
      "[CV] max_depth=50, min_samples_leaf=10, n_estimators=1000 ............\n",
      "[CV]  max_depth=50, min_samples_leaf=10, n_estimators=1000, score=0.886, total=   4.7s\n",
      "[CV] max_depth=50, min_samples_leaf=10, n_estimators=1000 ............\n",
      "[CV]  max_depth=50, min_samples_leaf=10, n_estimators=1000, score=0.870, total=   5.3s\n",
      "[CV] max_depth=50, min_samples_leaf=10, n_estimators=1000 ............\n",
      "[CV]  max_depth=50, min_samples_leaf=10, n_estimators=1000, score=0.857, total=   4.8s\n",
      "[CV] max_depth=50, min_samples_leaf=10, n_estimators=1500 ............\n",
      "[CV]  max_depth=50, min_samples_leaf=10, n_estimators=1500, score=0.886, total=   7.9s\n",
      "[CV] max_depth=50, min_samples_leaf=10, n_estimators=1500 ............\n",
      "[CV]  max_depth=50, min_samples_leaf=10, n_estimators=1500, score=0.869, total=   9.2s\n",
      "[CV] max_depth=50, min_samples_leaf=10, n_estimators=1500 ............\n",
      "[CV]  max_depth=50, min_samples_leaf=10, n_estimators=1500, score=0.855, total=   7.7s\n"
     ]
    },
    {
     "name": "stderr",
     "output_type": "stream",
     "text": [
      "[Parallel(n_jobs=1)]: Done 108 out of 108 | elapsed:  6.8min finished\n"
     ]
    },
    {
     "data": {
      "text/plain": [
       "GridSearchCV(cv=3, estimator=RandomForestClassifier(),\n",
       "             param_grid={'max_depth': [1, 5, 50],\n",
       "                         'min_samples_leaf': [1, 2, 5, 10],\n",
       "                         'n_estimators': [250, 1000, 1500]},\n",
       "             verbose=3)"
      ]
     },
     "execution_count": 28,
     "metadata": {},
     "output_type": "execute_result"
    }
   ],
   "source": [
    "# fits the random forest\n",
    "rf_grid.fit(X_train_scaled, y_train)"
   ]
  },
  {
   "cell_type": "code",
   "execution_count": 29,
   "metadata": {},
   "outputs": [
    {
     "name": "stdout",
     "output_type": "stream",
     "text": [
      "{'max_depth': 5, 'min_samples_leaf': 1, 'n_estimators': 250}\n",
      "0.8712540665768101\n"
     ]
    }
   ],
   "source": [
    "# prints out the best parameters \n",
    "print(rf_grid.best_params_)\n",
    "print(rf_grid.best_score_)"
   ]
  },
  {
   "cell_type": "code",
   "execution_count": 30,
   "metadata": {},
   "outputs": [
    {
     "name": "stdout",
     "output_type": "stream",
     "text": [
      "RF Training Data Score: 0.8741178714476445\n",
      "RF Testing Data Score: 0.8787185354691075\n"
     ]
    }
   ],
   "source": [
    "# Random Forest Model Scoring\n",
    "rf_model = rf_grid.best_estimator_\n",
    "print(f\"RF Training Data Score: {rf_model.score(X_train_scaled, y_train)}\")\n",
    "print(f\"RF Testing Data Score: {rf_model.score(X_test_scaled, y_test)}\")"
   ]
  },
  {
   "cell_type": "code",
   "execution_count": 31,
   "metadata": {},
   "outputs": [
    {
     "data": {
      "text/plain": [
       "['rf.sav']"
      ]
     },
     "execution_count": 31,
     "metadata": {},
     "output_type": "execute_result"
    }
   ],
   "source": [
    "filename = 'rf.sav'\n",
    "joblib.dump(rf_model, filename)"
   ]
  },
  {
   "cell_type": "markdown",
   "metadata": {},
   "source": [
    "### KNN"
   ]
  },
  {
   "cell_type": "markdown",
   "metadata": {},
   "source": [
    "\"The KNN algorithm assumes that similar things exist in close proximity. In other words, similar things are near to each other.\" - TDS"
   ]
  },
  {
   "cell_type": "code",
   "execution_count": 32,
   "metadata": {},
   "outputs": [],
   "source": [
    "# creates k nearest neighbor model\n",
    "knn_model = KNeighborsClassifier(n_neighbors=5)"
   ]
  },
  {
   "cell_type": "code",
   "execution_count": 33,
   "metadata": {},
   "outputs": [],
   "source": [
    "# sets up hyperparameter grid\n",
    "param_grid = {\"leaf_size\": [5, 10, 20, 30, 40, 50],\n",
    "                \"n_neighbors\": list(range(1, 20, 2))}\n",
    "\n",
    "# sets up the grid search\n",
    "knn_grid = GridSearchCV(knn_model, param_grid, verbose=3, cv=3)"
   ]
  },
  {
   "cell_type": "code",
   "execution_count": 34,
   "metadata": {},
   "outputs": [
    {
     "name": "stdout",
     "output_type": "stream",
     "text": [
      "Fitting 3 folds for each of 60 candidates, totalling 180 fits\n",
      "[CV] leaf_size=5, n_neighbors=1 ......................................\n",
      "[CV] .......... leaf_size=5, n_neighbors=1, score=0.808, total=   0.1s\n",
      "[CV] leaf_size=5, n_neighbors=1 ......................................\n",
      "[CV] .......... leaf_size=5, n_neighbors=1, score=0.808, total=   0.1s\n",
      "[CV] leaf_size=5, n_neighbors=1 ......................................\n"
     ]
    },
    {
     "name": "stderr",
     "output_type": "stream",
     "text": [
      "[Parallel(n_jobs=1)]: Using backend SequentialBackend with 1 concurrent workers.\n",
      "[Parallel(n_jobs=1)]: Done   1 out of   1 | elapsed:    0.1s remaining:    0.0s\n",
      "[Parallel(n_jobs=1)]: Done   2 out of   2 | elapsed:    0.2s remaining:    0.0s\n"
     ]
    },
    {
     "name": "stdout",
     "output_type": "stream",
     "text": [
      "[CV] .......... leaf_size=5, n_neighbors=1, score=0.811, total=   0.2s\n",
      "[CV] leaf_size=5, n_neighbors=3 ......................................\n",
      "[CV] .......... leaf_size=5, n_neighbors=3, score=0.845, total=   0.1s\n",
      "[CV] leaf_size=5, n_neighbors=3 ......................................\n",
      "[CV] .......... leaf_size=5, n_neighbors=3, score=0.835, total=   0.1s\n",
      "[CV] leaf_size=5, n_neighbors=3 ......................................\n",
      "[CV] .......... leaf_size=5, n_neighbors=3, score=0.835, total=   0.1s\n",
      "[CV] leaf_size=5, n_neighbors=5 ......................................\n",
      "[CV] .......... leaf_size=5, n_neighbors=5, score=0.859, total=   0.1s\n",
      "[CV] leaf_size=5, n_neighbors=5 ......................................\n",
      "[CV] .......... leaf_size=5, n_neighbors=5, score=0.848, total=   0.1s\n",
      "[CV] leaf_size=5, n_neighbors=5 ......................................\n",
      "[CV] .......... leaf_size=5, n_neighbors=5, score=0.843, total=   0.1s\n",
      "[CV] leaf_size=5, n_neighbors=7 ......................................\n",
      "[CV] .......... leaf_size=5, n_neighbors=7, score=0.856, total=   0.1s\n",
      "[CV] leaf_size=5, n_neighbors=7 ......................................\n",
      "[CV] .......... leaf_size=5, n_neighbors=7, score=0.852, total=   0.1s\n",
      "[CV] leaf_size=5, n_neighbors=7 ......................................\n",
      "[CV] .......... leaf_size=5, n_neighbors=7, score=0.838, total=   0.1s\n",
      "[CV] leaf_size=5, n_neighbors=9 ......................................\n",
      "[CV] .......... leaf_size=5, n_neighbors=9, score=0.861, total=   0.1s\n",
      "[CV] leaf_size=5, n_neighbors=9 ......................................\n",
      "[CV] .......... leaf_size=5, n_neighbors=9, score=0.846, total=   0.1s\n",
      "[CV] leaf_size=5, n_neighbors=9 ......................................\n",
      "[CV] .......... leaf_size=5, n_neighbors=9, score=0.844, total=   0.1s\n",
      "[CV] leaf_size=5, n_neighbors=11 .....................................\n",
      "[CV] ......... leaf_size=5, n_neighbors=11, score=0.867, total=   0.1s\n",
      "[CV] leaf_size=5, n_neighbors=11 .....................................\n",
      "[CV] ......... leaf_size=5, n_neighbors=11, score=0.848, total=   0.1s\n",
      "[CV] leaf_size=5, n_neighbors=11 .....................................\n",
      "[CV] ......... leaf_size=5, n_neighbors=11, score=0.844, total=   0.2s\n",
      "[CV] leaf_size=5, n_neighbors=13 .....................................\n",
      "[CV] ......... leaf_size=5, n_neighbors=13, score=0.864, total=   0.1s\n",
      "[CV] leaf_size=5, n_neighbors=13 .....................................\n",
      "[CV] ......... leaf_size=5, n_neighbors=13, score=0.854, total=   0.2s\n",
      "[CV] leaf_size=5, n_neighbors=13 .....................................\n",
      "[CV] ......... leaf_size=5, n_neighbors=13, score=0.844, total=   0.1s\n",
      "[CV] leaf_size=5, n_neighbors=15 .....................................\n",
      "[CV] ......... leaf_size=5, n_neighbors=15, score=0.869, total=   0.2s\n",
      "[CV] leaf_size=5, n_neighbors=15 .....................................\n",
      "[CV] ......... leaf_size=5, n_neighbors=15, score=0.852, total=   0.2s\n",
      "[CV] leaf_size=5, n_neighbors=15 .....................................\n",
      "[CV] ......... leaf_size=5, n_neighbors=15, score=0.845, total=   0.3s\n",
      "[CV] leaf_size=5, n_neighbors=17 .....................................\n",
      "[CV] ......... leaf_size=5, n_neighbors=17, score=0.872, total=   0.1s\n",
      "[CV] leaf_size=5, n_neighbors=17 .....................................\n",
      "[CV] ......... leaf_size=5, n_neighbors=17, score=0.854, total=   0.1s\n",
      "[CV] leaf_size=5, n_neighbors=17 .....................................\n",
      "[CV] ......... leaf_size=5, n_neighbors=17, score=0.848, total=   0.3s\n",
      "[CV] leaf_size=5, n_neighbors=19 .....................................\n",
      "[CV] ......... leaf_size=5, n_neighbors=19, score=0.874, total=   0.2s\n",
      "[CV] leaf_size=5, n_neighbors=19 .....................................\n",
      "[CV] ......... leaf_size=5, n_neighbors=19, score=0.859, total=   0.2s\n",
      "[CV] leaf_size=5, n_neighbors=19 .....................................\n",
      "[CV] ......... leaf_size=5, n_neighbors=19, score=0.844, total=   0.1s\n",
      "[CV] leaf_size=10, n_neighbors=1 .....................................\n",
      "[CV] ......... leaf_size=10, n_neighbors=1, score=0.808, total=   0.1s\n",
      "[CV] leaf_size=10, n_neighbors=1 .....................................\n",
      "[CV] ......... leaf_size=10, n_neighbors=1, score=0.808, total=   0.1s\n",
      "[CV] leaf_size=10, n_neighbors=1 .....................................\n",
      "[CV] ......... leaf_size=10, n_neighbors=1, score=0.811, total=   0.1s\n",
      "[CV] leaf_size=10, n_neighbors=3 .....................................\n",
      "[CV] ......... leaf_size=10, n_neighbors=3, score=0.845, total=   0.1s\n",
      "[CV] leaf_size=10, n_neighbors=3 .....................................\n",
      "[CV] ......... leaf_size=10, n_neighbors=3, score=0.835, total=   0.1s\n",
      "[CV] leaf_size=10, n_neighbors=3 .....................................\n",
      "[CV] ......... leaf_size=10, n_neighbors=3, score=0.835, total=   0.1s\n",
      "[CV] leaf_size=10, n_neighbors=5 .....................................\n",
      "[CV] ......... leaf_size=10, n_neighbors=5, score=0.859, total=   0.1s\n",
      "[CV] leaf_size=10, n_neighbors=5 .....................................\n",
      "[CV] ......... leaf_size=10, n_neighbors=5, score=0.848, total=   0.1s\n",
      "[CV] leaf_size=10, n_neighbors=5 .....................................\n",
      "[CV] ......... leaf_size=10, n_neighbors=5, score=0.843, total=   0.1s\n",
      "[CV] leaf_size=10, n_neighbors=7 .....................................\n",
      "[CV] ......... leaf_size=10, n_neighbors=7, score=0.856, total=   0.1s\n",
      "[CV] leaf_size=10, n_neighbors=7 .....................................\n",
      "[CV] ......... leaf_size=10, n_neighbors=7, score=0.852, total=   0.1s\n",
      "[CV] leaf_size=10, n_neighbors=7 .....................................\n",
      "[CV] ......... leaf_size=10, n_neighbors=7, score=0.838, total=   0.1s\n",
      "[CV] leaf_size=10, n_neighbors=9 .....................................\n",
      "[CV] ......... leaf_size=10, n_neighbors=9, score=0.861, total=   0.1s\n",
      "[CV] leaf_size=10, n_neighbors=9 .....................................\n",
      "[CV] ......... leaf_size=10, n_neighbors=9, score=0.846, total=   0.1s\n",
      "[CV] leaf_size=10, n_neighbors=9 .....................................\n",
      "[CV] ......... leaf_size=10, n_neighbors=9, score=0.844, total=   0.1s\n",
      "[CV] leaf_size=10, n_neighbors=11 ....................................\n",
      "[CV] ........ leaf_size=10, n_neighbors=11, score=0.867, total=   0.1s\n",
      "[CV] leaf_size=10, n_neighbors=11 ....................................\n",
      "[CV] ........ leaf_size=10, n_neighbors=11, score=0.848, total=   0.1s\n",
      "[CV] leaf_size=10, n_neighbors=11 ....................................\n",
      "[CV] ........ leaf_size=10, n_neighbors=11, score=0.844, total=   0.1s\n",
      "[CV] leaf_size=10, n_neighbors=13 ....................................\n",
      "[CV] ........ leaf_size=10, n_neighbors=13, score=0.864, total=   0.1s\n",
      "[CV] leaf_size=10, n_neighbors=13 ....................................\n",
      "[CV] ........ leaf_size=10, n_neighbors=13, score=0.854, total=   0.1s\n",
      "[CV] leaf_size=10, n_neighbors=13 ....................................\n",
      "[CV] ........ leaf_size=10, n_neighbors=13, score=0.844, total=   0.1s\n",
      "[CV] leaf_size=10, n_neighbors=15 ....................................\n",
      "[CV] ........ leaf_size=10, n_neighbors=15, score=0.869, total=   0.1s\n",
      "[CV] leaf_size=10, n_neighbors=15 ....................................\n",
      "[CV] ........ leaf_size=10, n_neighbors=15, score=0.852, total=   0.1s\n",
      "[CV] leaf_size=10, n_neighbors=15 ....................................\n",
      "[CV] ........ leaf_size=10, n_neighbors=15, score=0.845, total=   0.1s\n",
      "[CV] leaf_size=10, n_neighbors=17 ....................................\n",
      "[CV] ........ leaf_size=10, n_neighbors=17, score=0.872, total=   0.1s\n",
      "[CV] leaf_size=10, n_neighbors=17 ....................................\n",
      "[CV] ........ leaf_size=10, n_neighbors=17, score=0.854, total=   0.1s\n",
      "[CV] leaf_size=10, n_neighbors=17 ....................................\n",
      "[CV] ........ leaf_size=10, n_neighbors=17, score=0.848, total=   0.1s\n",
      "[CV] leaf_size=10, n_neighbors=19 ....................................\n",
      "[CV] ........ leaf_size=10, n_neighbors=19, score=0.874, total=   0.1s\n",
      "[CV] leaf_size=10, n_neighbors=19 ....................................\n",
      "[CV] ........ leaf_size=10, n_neighbors=19, score=0.859, total=   0.1s\n",
      "[CV] leaf_size=10, n_neighbors=19 ....................................\n",
      "[CV] ........ leaf_size=10, n_neighbors=19, score=0.844, total=   0.1s\n",
      "[CV] leaf_size=20, n_neighbors=1 .....................................\n",
      "[CV] ......... leaf_size=20, n_neighbors=1, score=0.808, total=   0.1s\n",
      "[CV] leaf_size=20, n_neighbors=1 .....................................\n"
     ]
    },
    {
     "name": "stdout",
     "output_type": "stream",
     "text": [
      "[CV] ......... leaf_size=20, n_neighbors=1, score=0.808, total=   0.1s\n",
      "[CV] leaf_size=20, n_neighbors=1 .....................................\n",
      "[CV] ......... leaf_size=20, n_neighbors=1, score=0.812, total=   0.1s\n",
      "[CV] leaf_size=20, n_neighbors=3 .....................................\n",
      "[CV] ......... leaf_size=20, n_neighbors=3, score=0.845, total=   0.1s\n",
      "[CV] leaf_size=20, n_neighbors=3 .....................................\n",
      "[CV] ......... leaf_size=20, n_neighbors=3, score=0.835, total=   0.1s\n",
      "[CV] leaf_size=20, n_neighbors=3 .....................................\n",
      "[CV] ......... leaf_size=20, n_neighbors=3, score=0.835, total=   0.1s\n",
      "[CV] leaf_size=20, n_neighbors=5 .....................................\n",
      "[CV] ......... leaf_size=20, n_neighbors=5, score=0.859, total=   0.1s\n",
      "[CV] leaf_size=20, n_neighbors=5 .....................................\n",
      "[CV] ......... leaf_size=20, n_neighbors=5, score=0.848, total=   0.1s\n",
      "[CV] leaf_size=20, n_neighbors=5 .....................................\n",
      "[CV] ......... leaf_size=20, n_neighbors=5, score=0.843, total=   0.1s\n",
      "[CV] leaf_size=20, n_neighbors=7 .....................................\n",
      "[CV] ......... leaf_size=20, n_neighbors=7, score=0.857, total=   0.1s\n",
      "[CV] leaf_size=20, n_neighbors=7 .....................................\n",
      "[CV] ......... leaf_size=20, n_neighbors=7, score=0.852, total=   0.1s\n",
      "[CV] leaf_size=20, n_neighbors=7 .....................................\n",
      "[CV] ......... leaf_size=20, n_neighbors=7, score=0.838, total=   0.1s\n",
      "[CV] leaf_size=20, n_neighbors=9 .....................................\n",
      "[CV] ......... leaf_size=20, n_neighbors=9, score=0.861, total=   0.1s\n",
      "[CV] leaf_size=20, n_neighbors=9 .....................................\n",
      "[CV] ......... leaf_size=20, n_neighbors=9, score=0.846, total=   0.1s\n",
      "[CV] leaf_size=20, n_neighbors=9 .....................................\n",
      "[CV] ......... leaf_size=20, n_neighbors=9, score=0.844, total=   0.1s\n",
      "[CV] leaf_size=20, n_neighbors=11 ....................................\n",
      "[CV] ........ leaf_size=20, n_neighbors=11, score=0.867, total=   0.1s\n",
      "[CV] leaf_size=20, n_neighbors=11 ....................................\n",
      "[CV] ........ leaf_size=20, n_neighbors=11, score=0.848, total=   0.1s\n",
      "[CV] leaf_size=20, n_neighbors=11 ....................................\n",
      "[CV] ........ leaf_size=20, n_neighbors=11, score=0.844, total=   0.1s\n",
      "[CV] leaf_size=20, n_neighbors=13 ....................................\n",
      "[CV] ........ leaf_size=20, n_neighbors=13, score=0.864, total=   0.1s\n",
      "[CV] leaf_size=20, n_neighbors=13 ....................................\n",
      "[CV] ........ leaf_size=20, n_neighbors=13, score=0.854, total=   0.1s\n",
      "[CV] leaf_size=20, n_neighbors=13 ....................................\n",
      "[CV] ........ leaf_size=20, n_neighbors=13, score=0.844, total=   0.1s\n",
      "[CV] leaf_size=20, n_neighbors=15 ....................................\n",
      "[CV] ........ leaf_size=20, n_neighbors=15, score=0.869, total=   0.1s\n",
      "[CV] leaf_size=20, n_neighbors=15 ....................................\n",
      "[CV] ........ leaf_size=20, n_neighbors=15, score=0.852, total=   0.1s\n",
      "[CV] leaf_size=20, n_neighbors=15 ....................................\n",
      "[CV] ........ leaf_size=20, n_neighbors=15, score=0.845, total=   0.1s\n",
      "[CV] leaf_size=20, n_neighbors=17 ....................................\n",
      "[CV] ........ leaf_size=20, n_neighbors=17, score=0.872, total=   0.1s\n",
      "[CV] leaf_size=20, n_neighbors=17 ....................................\n",
      "[CV] ........ leaf_size=20, n_neighbors=17, score=0.854, total=   0.1s\n",
      "[CV] leaf_size=20, n_neighbors=17 ....................................\n",
      "[CV] ........ leaf_size=20, n_neighbors=17, score=0.848, total=   0.1s\n",
      "[CV] leaf_size=20, n_neighbors=19 ....................................\n",
      "[CV] ........ leaf_size=20, n_neighbors=19, score=0.874, total=   0.1s\n",
      "[CV] leaf_size=20, n_neighbors=19 ....................................\n",
      "[CV] ........ leaf_size=20, n_neighbors=19, score=0.859, total=   0.1s\n",
      "[CV] leaf_size=20, n_neighbors=19 ....................................\n",
      "[CV] ........ leaf_size=20, n_neighbors=19, score=0.844, total=   0.1s\n",
      "[CV] leaf_size=30, n_neighbors=1 .....................................\n",
      "[CV] ......... leaf_size=30, n_neighbors=1, score=0.808, total=   0.1s\n",
      "[CV] leaf_size=30, n_neighbors=1 .....................................\n",
      "[CV] ......... leaf_size=30, n_neighbors=1, score=0.808, total=   0.1s\n",
      "[CV] leaf_size=30, n_neighbors=1 .....................................\n",
      "[CV] ......... leaf_size=30, n_neighbors=1, score=0.811, total=   0.1s\n",
      "[CV] leaf_size=30, n_neighbors=3 .....................................\n",
      "[CV] ......... leaf_size=30, n_neighbors=3, score=0.845, total=   0.1s\n",
      "[CV] leaf_size=30, n_neighbors=3 .....................................\n",
      "[CV] ......... leaf_size=30, n_neighbors=3, score=0.835, total=   0.1s\n",
      "[CV] leaf_size=30, n_neighbors=3 .....................................\n",
      "[CV] ......... leaf_size=30, n_neighbors=3, score=0.835, total=   0.1s\n",
      "[CV] leaf_size=30, n_neighbors=5 .....................................\n",
      "[CV] ......... leaf_size=30, n_neighbors=5, score=0.858, total=   0.1s\n",
      "[CV] leaf_size=30, n_neighbors=5 .....................................\n",
      "[CV] ......... leaf_size=30, n_neighbors=5, score=0.848, total=   0.1s\n",
      "[CV] leaf_size=30, n_neighbors=5 .....................................\n",
      "[CV] ......... leaf_size=30, n_neighbors=5, score=0.843, total=   0.1s\n",
      "[CV] leaf_size=30, n_neighbors=7 .....................................\n",
      "[CV] ......... leaf_size=30, n_neighbors=7, score=0.856, total=   0.1s\n",
      "[CV] leaf_size=30, n_neighbors=7 .....................................\n",
      "[CV] ......... leaf_size=30, n_neighbors=7, score=0.852, total=   0.1s\n",
      "[CV] leaf_size=30, n_neighbors=7 .....................................\n",
      "[CV] ......... leaf_size=30, n_neighbors=7, score=0.838, total=   0.1s\n",
      "[CV] leaf_size=30, n_neighbors=9 .....................................\n",
      "[CV] ......... leaf_size=30, n_neighbors=9, score=0.862, total=   0.1s\n",
      "[CV] leaf_size=30, n_neighbors=9 .....................................\n",
      "[CV] ......... leaf_size=30, n_neighbors=9, score=0.846, total=   0.1s\n",
      "[CV] leaf_size=30, n_neighbors=9 .....................................\n",
      "[CV] ......... leaf_size=30, n_neighbors=9, score=0.844, total=   0.1s\n",
      "[CV] leaf_size=30, n_neighbors=11 ....................................\n",
      "[CV] ........ leaf_size=30, n_neighbors=11, score=0.867, total=   0.2s\n",
      "[CV] leaf_size=30, n_neighbors=11 ....................................\n",
      "[CV] ........ leaf_size=30, n_neighbors=11, score=0.848, total=   0.1s\n",
      "[CV] leaf_size=30, n_neighbors=11 ....................................\n",
      "[CV] ........ leaf_size=30, n_neighbors=11, score=0.844, total=   0.1s\n",
      "[CV] leaf_size=30, n_neighbors=13 ....................................\n",
      "[CV] ........ leaf_size=30, n_neighbors=13, score=0.864, total=   0.1s\n",
      "[CV] leaf_size=30, n_neighbors=13 ....................................\n",
      "[CV] ........ leaf_size=30, n_neighbors=13, score=0.854, total=   0.1s\n",
      "[CV] leaf_size=30, n_neighbors=13 ....................................\n",
      "[CV] ........ leaf_size=30, n_neighbors=13, score=0.844, total=   0.1s\n",
      "[CV] leaf_size=30, n_neighbors=15 ....................................\n",
      "[CV] ........ leaf_size=30, n_neighbors=15, score=0.869, total=   0.1s\n",
      "[CV] leaf_size=30, n_neighbors=15 ....................................\n",
      "[CV] ........ leaf_size=30, n_neighbors=15, score=0.852, total=   0.1s\n",
      "[CV] leaf_size=30, n_neighbors=15 ....................................\n",
      "[CV] ........ leaf_size=30, n_neighbors=15, score=0.845, total=   0.1s\n",
      "[CV] leaf_size=30, n_neighbors=17 ....................................\n",
      "[CV] ........ leaf_size=30, n_neighbors=17, score=0.872, total=   0.1s\n",
      "[CV] leaf_size=30, n_neighbors=17 ....................................\n",
      "[CV] ........ leaf_size=30, n_neighbors=17, score=0.854, total=   0.1s\n",
      "[CV] leaf_size=30, n_neighbors=17 ....................................\n",
      "[CV] ........ leaf_size=30, n_neighbors=17, score=0.848, total=   0.1s\n",
      "[CV] leaf_size=30, n_neighbors=19 ....................................\n",
      "[CV] ........ leaf_size=30, n_neighbors=19, score=0.874, total=   0.1s\n",
      "[CV] leaf_size=30, n_neighbors=19 ....................................\n",
      "[CV] ........ leaf_size=30, n_neighbors=19, score=0.859, total=   0.1s\n",
      "[CV] leaf_size=30, n_neighbors=19 ....................................\n"
     ]
    },
    {
     "name": "stdout",
     "output_type": "stream",
     "text": [
      "[CV] ........ leaf_size=30, n_neighbors=19, score=0.844, total=   0.1s\n",
      "[CV] leaf_size=40, n_neighbors=1 .....................................\n",
      "[CV] ......... leaf_size=40, n_neighbors=1, score=0.808, total=   0.1s\n",
      "[CV] leaf_size=40, n_neighbors=1 .....................................\n",
      "[CV] ......... leaf_size=40, n_neighbors=1, score=0.808, total=   0.1s\n",
      "[CV] leaf_size=40, n_neighbors=1 .....................................\n",
      "[CV] ......... leaf_size=40, n_neighbors=1, score=0.811, total=   0.1s\n",
      "[CV] leaf_size=40, n_neighbors=3 .....................................\n",
      "[CV] ......... leaf_size=40, n_neighbors=3, score=0.845, total=   0.1s\n",
      "[CV] leaf_size=40, n_neighbors=3 .....................................\n",
      "[CV] ......... leaf_size=40, n_neighbors=3, score=0.835, total=   0.1s\n",
      "[CV] leaf_size=40, n_neighbors=3 .....................................\n",
      "[CV] ......... leaf_size=40, n_neighbors=3, score=0.835, total=   0.1s\n",
      "[CV] leaf_size=40, n_neighbors=5 .....................................\n",
      "[CV] ......... leaf_size=40, n_neighbors=5, score=0.858, total=   0.1s\n",
      "[CV] leaf_size=40, n_neighbors=5 .....................................\n",
      "[CV] ......... leaf_size=40, n_neighbors=5, score=0.848, total=   0.1s\n",
      "[CV] leaf_size=40, n_neighbors=5 .....................................\n",
      "[CV] ......... leaf_size=40, n_neighbors=5, score=0.843, total=   0.1s\n",
      "[CV] leaf_size=40, n_neighbors=7 .....................................\n",
      "[CV] ......... leaf_size=40, n_neighbors=7, score=0.856, total=   0.1s\n",
      "[CV] leaf_size=40, n_neighbors=7 .....................................\n",
      "[CV] ......... leaf_size=40, n_neighbors=7, score=0.852, total=   0.1s\n",
      "[CV] leaf_size=40, n_neighbors=7 .....................................\n",
      "[CV] ......... leaf_size=40, n_neighbors=7, score=0.838, total=   0.1s\n",
      "[CV] leaf_size=40, n_neighbors=9 .....................................\n",
      "[CV] ......... leaf_size=40, n_neighbors=9, score=0.862, total=   0.1s\n",
      "[CV] leaf_size=40, n_neighbors=9 .....................................\n",
      "[CV] ......... leaf_size=40, n_neighbors=9, score=0.846, total=   0.1s\n",
      "[CV] leaf_size=40, n_neighbors=9 .....................................\n",
      "[CV] ......... leaf_size=40, n_neighbors=9, score=0.844, total=   0.1s\n",
      "[CV] leaf_size=40, n_neighbors=11 ....................................\n",
      "[CV] ........ leaf_size=40, n_neighbors=11, score=0.867, total=   0.1s\n",
      "[CV] leaf_size=40, n_neighbors=11 ....................................\n",
      "[CV] ........ leaf_size=40, n_neighbors=11, score=0.848, total=   0.1s\n",
      "[CV] leaf_size=40, n_neighbors=11 ....................................\n",
      "[CV] ........ leaf_size=40, n_neighbors=11, score=0.844, total=   0.1s\n",
      "[CV] leaf_size=40, n_neighbors=13 ....................................\n",
      "[CV] ........ leaf_size=40, n_neighbors=13, score=0.864, total=   0.1s\n",
      "[CV] leaf_size=40, n_neighbors=13 ....................................\n",
      "[CV] ........ leaf_size=40, n_neighbors=13, score=0.854, total=   0.1s\n",
      "[CV] leaf_size=40, n_neighbors=13 ....................................\n",
      "[CV] ........ leaf_size=40, n_neighbors=13, score=0.844, total=   0.1s\n",
      "[CV] leaf_size=40, n_neighbors=15 ....................................\n",
      "[CV] ........ leaf_size=40, n_neighbors=15, score=0.869, total=   0.1s\n",
      "[CV] leaf_size=40, n_neighbors=15 ....................................\n",
      "[CV] ........ leaf_size=40, n_neighbors=15, score=0.852, total=   0.1s\n",
      "[CV] leaf_size=40, n_neighbors=15 ....................................\n",
      "[CV] ........ leaf_size=40, n_neighbors=15, score=0.845, total=   0.1s\n",
      "[CV] leaf_size=40, n_neighbors=17 ....................................\n",
      "[CV] ........ leaf_size=40, n_neighbors=17, score=0.872, total=   0.1s\n",
      "[CV] leaf_size=40, n_neighbors=17 ....................................\n",
      "[CV] ........ leaf_size=40, n_neighbors=17, score=0.854, total=   0.1s\n",
      "[CV] leaf_size=40, n_neighbors=17 ....................................\n",
      "[CV] ........ leaf_size=40, n_neighbors=17, score=0.848, total=   0.1s\n",
      "[CV] leaf_size=40, n_neighbors=19 ....................................\n",
      "[CV] ........ leaf_size=40, n_neighbors=19, score=0.874, total=   0.1s\n",
      "[CV] leaf_size=40, n_neighbors=19 ....................................\n",
      "[CV] ........ leaf_size=40, n_neighbors=19, score=0.859, total=   0.1s\n",
      "[CV] leaf_size=40, n_neighbors=19 ....................................\n",
      "[CV] ........ leaf_size=40, n_neighbors=19, score=0.844, total=   0.1s\n",
      "[CV] leaf_size=50, n_neighbors=1 .....................................\n",
      "[CV] ......... leaf_size=50, n_neighbors=1, score=0.808, total=   0.1s\n",
      "[CV] leaf_size=50, n_neighbors=1 .....................................\n",
      "[CV] ......... leaf_size=50, n_neighbors=1, score=0.808, total=   0.1s\n",
      "[CV] leaf_size=50, n_neighbors=1 .....................................\n",
      "[CV] ......... leaf_size=50, n_neighbors=1, score=0.811, total=   0.1s\n",
      "[CV] leaf_size=50, n_neighbors=3 .....................................\n",
      "[CV] ......... leaf_size=50, n_neighbors=3, score=0.845, total=   0.1s\n",
      "[CV] leaf_size=50, n_neighbors=3 .....................................\n",
      "[CV] ......... leaf_size=50, n_neighbors=3, score=0.835, total=   0.1s\n",
      "[CV] leaf_size=50, n_neighbors=3 .....................................\n",
      "[CV] ......... leaf_size=50, n_neighbors=3, score=0.835, total=   0.1s\n",
      "[CV] leaf_size=50, n_neighbors=5 .....................................\n",
      "[CV] ......... leaf_size=50, n_neighbors=5, score=0.858, total=   0.1s\n",
      "[CV] leaf_size=50, n_neighbors=5 .....................................\n",
      "[CV] ......... leaf_size=50, n_neighbors=5, score=0.848, total=   0.1s\n",
      "[CV] leaf_size=50, n_neighbors=5 .....................................\n",
      "[CV] ......... leaf_size=50, n_neighbors=5, score=0.843, total=   0.1s\n",
      "[CV] leaf_size=50, n_neighbors=7 .....................................\n",
      "[CV] ......... leaf_size=50, n_neighbors=7, score=0.856, total=   0.1s\n",
      "[CV] leaf_size=50, n_neighbors=7 .....................................\n",
      "[CV] ......... leaf_size=50, n_neighbors=7, score=0.852, total=   0.1s\n",
      "[CV] leaf_size=50, n_neighbors=7 .....................................\n",
      "[CV] ......... leaf_size=50, n_neighbors=7, score=0.838, total=   0.1s\n",
      "[CV] leaf_size=50, n_neighbors=9 .....................................\n",
      "[CV] ......... leaf_size=50, n_neighbors=9, score=0.862, total=   0.1s\n",
      "[CV] leaf_size=50, n_neighbors=9 .....................................\n",
      "[CV] ......... leaf_size=50, n_neighbors=9, score=0.846, total=   0.1s\n",
      "[CV] leaf_size=50, n_neighbors=9 .....................................\n",
      "[CV] ......... leaf_size=50, n_neighbors=9, score=0.844, total=   0.1s\n",
      "[CV] leaf_size=50, n_neighbors=11 ....................................\n",
      "[CV] ........ leaf_size=50, n_neighbors=11, score=0.867, total=   0.1s\n",
      "[CV] leaf_size=50, n_neighbors=11 ....................................\n",
      "[CV] ........ leaf_size=50, n_neighbors=11, score=0.848, total=   0.1s\n",
      "[CV] leaf_size=50, n_neighbors=11 ....................................\n",
      "[CV] ........ leaf_size=50, n_neighbors=11, score=0.844, total=   0.1s\n",
      "[CV] leaf_size=50, n_neighbors=13 ....................................\n",
      "[CV] ........ leaf_size=50, n_neighbors=13, score=0.864, total=   0.1s\n",
      "[CV] leaf_size=50, n_neighbors=13 ....................................\n",
      "[CV] ........ leaf_size=50, n_neighbors=13, score=0.854, total=   0.1s\n",
      "[CV] leaf_size=50, n_neighbors=13 ....................................\n",
      "[CV] ........ leaf_size=50, n_neighbors=13, score=0.844, total=   0.1s\n",
      "[CV] leaf_size=50, n_neighbors=15 ....................................\n",
      "[CV] ........ leaf_size=50, n_neighbors=15, score=0.869, total=   0.1s\n",
      "[CV] leaf_size=50, n_neighbors=15 ....................................\n",
      "[CV] ........ leaf_size=50, n_neighbors=15, score=0.852, total=   0.1s\n",
      "[CV] leaf_size=50, n_neighbors=15 ....................................\n",
      "[CV] ........ leaf_size=50, n_neighbors=15, score=0.845, total=   0.1s\n",
      "[CV] leaf_size=50, n_neighbors=17 ....................................\n",
      "[CV] ........ leaf_size=50, n_neighbors=17, score=0.872, total=   0.1s\n",
      "[CV] leaf_size=50, n_neighbors=17 ....................................\n",
      "[CV] ........ leaf_size=50, n_neighbors=17, score=0.854, total=   0.1s\n",
      "[CV] leaf_size=50, n_neighbors=17 ....................................\n",
      "[CV] ........ leaf_size=50, n_neighbors=17, score=0.848, total=   0.1s\n",
      "[CV] leaf_size=50, n_neighbors=19 ....................................\n"
     ]
    },
    {
     "name": "stdout",
     "output_type": "stream",
     "text": [
      "[CV] ........ leaf_size=50, n_neighbors=19, score=0.874, total=   0.1s\n",
      "[CV] leaf_size=50, n_neighbors=19 ....................................\n",
      "[CV] ........ leaf_size=50, n_neighbors=19, score=0.859, total=   0.1s\n",
      "[CV] leaf_size=50, n_neighbors=19 ....................................\n",
      "[CV] ........ leaf_size=50, n_neighbors=19, score=0.844, total=   0.1s\n"
     ]
    },
    {
     "name": "stderr",
     "output_type": "stream",
     "text": [
      "[Parallel(n_jobs=1)]: Done 180 out of 180 | elapsed:   19.5s finished\n"
     ]
    },
    {
     "data": {
      "text/plain": [
       "GridSearchCV(cv=3, estimator=KNeighborsClassifier(),\n",
       "             param_grid={'leaf_size': [5, 10, 20, 30, 40, 50],\n",
       "                         'n_neighbors': [1, 3, 5, 7, 9, 11, 13, 15, 17, 19]},\n",
       "             verbose=3)"
      ]
     },
     "execution_count": 34,
     "metadata": {},
     "output_type": "execute_result"
    }
   ],
   "source": [
    "# fits the k nearest neighbor/grid search model to X and y\n",
    "knn_grid.fit(X_train_scaled, y_train)"
   ]
  },
  {
   "cell_type": "code",
   "execution_count": 35,
   "metadata": {},
   "outputs": [
    {
     "name": "stdout",
     "output_type": "stream",
     "text": [
      "{'leaf_size': 5, 'n_neighbors': 19}\n",
      "0.8588565469321496\n"
     ]
    }
   ],
   "source": [
    "# prints out the best parameters \n",
    "print(knn_grid.best_params_)\n",
    "print(knn_grid.best_score_)"
   ]
  },
  {
   "cell_type": "code",
   "execution_count": 36,
   "metadata": {},
   "outputs": [
    {
     "name": "stdout",
     "output_type": "stream",
     "text": [
      "KNN Training Data Score: 0.8695403395002861\n",
      "KNN Testing Data Score: 0.8655606407322655\n"
     ]
    }
   ],
   "source": [
    "# K Nearest Neighbor Model Scoring\n",
    "knn_model = knn_grid.best_estimator_\n",
    "print(f\"KNN Training Data Score: {knn_model.score(X_train_scaled, y_train)}\")\n",
    "print(f\"KNN Testing Data Score: {knn_model.score(X_test_scaled, y_test)}\")"
   ]
  },
  {
   "cell_type": "markdown",
   "metadata": {},
   "source": [
    "## Summary of Models"
   ]
  },
  {
   "cell_type": "code",
   "execution_count": 37,
   "metadata": {},
   "outputs": [
    {
     "name": "stdout",
     "output_type": "stream",
     "text": [
      "Logistic Model Training Data Score: 0.7379362960137326\n",
      "Logistic Model Testing Data Score: 0.7437070938215103\n",
      "---------------------------------------------------------------\n",
      "SVM Training Data Score: 0.743467480450124\n",
      "SVM Testing Data Score: 0.7145308924485125\n",
      "---------------------------------------------------------------\n",
      "RF Training Data Score: 0.8741178714476445\n",
      "RF Testing Data Score: 0.8787185354691075\n",
      "---------------------------------------------------------------\n",
      "KNN Training Data Score: 0.8695403395002861\n",
      "KNN Testing Data Score: 0.8655606407322655\n"
     ]
    }
   ],
   "source": [
    "print(f\"Logistic Model Training Data Score: {logistic_model.score(X_train_scaled, y_train)}\")\n",
    "print(f\"Logistic Model Testing Data Score: {logistic_model.score(X_test_scaled, y_test)}\")\n",
    "print(\"---------------------------------------------------------------\")\n",
    "\n",
    "print(f\"SVM Training Data Score: {svm_model.score(X_train_scaled, y_train)}\")\n",
    "print(f\"SVM Testing Data Score: {svm_model.score(X_test_scaled, y_test)}\")\n",
    "\n",
    "print(\"---------------------------------------------------------------\")\n",
    "print(f\"RF Training Data Score: {rf_model.score(X_train_scaled, y_train)}\")\n",
    "print(f\"RF Testing Data Score: {rf_model.score(X_test_scaled, y_test)}\")\n",
    "\n",
    "print(\"---------------------------------------------------------------\")\n",
    "print(f\"KNN Training Data Score: {knn_model.score(X_train_scaled, y_train)}\")\n",
    "print(f\"KNN Testing Data Score: {knn_model.score(X_test_scaled, y_test)}\")\n"
   ]
  },
  {
   "cell_type": "markdown",
   "metadata": {},
   "source": [
    "## Deep Neural Network"
   ]
  },
  {
   "cell_type": "code",
   "execution_count": 39,
   "metadata": {},
   "outputs": [],
   "source": [
    "from sklearn.preprocessing import LabelEncoder\n",
    "\n",
    "label_encoder = LabelEncoder()\n",
    "label_encoder.fit(y_train)\n",
    "encoded_y_train = label_encoder.transform(y_train)\n",
    "label_encoder.fit(y_test)\n",
    "encoded_y_test = label_encoder.transform(y_test)"
   ]
  },
  {
   "cell_type": "code",
   "execution_count": 40,
   "metadata": {},
   "outputs": [
    {
     "name": "stdout",
     "output_type": "stream",
     "text": [
      "[[1. 0. 0.]\n",
      " [0. 0. 1.]\n",
      " [0. 0. 1.]\n",
      " ...\n",
      " [0. 0. 1.]\n",
      " [0. 0. 1.]\n",
      " [0. 0. 1.]]\n",
      "[[0. 0. 1.]\n",
      " [1. 0. 0.]\n",
      " [0. 0. 1.]\n",
      " ...\n",
      " [0. 1. 0.]\n",
      " [0. 1. 0.]\n",
      " [0. 1. 0.]]\n"
     ]
    }
   ],
   "source": [
    "from tensorflow.keras.utils import to_categorical\n",
    "\n",
    "y_train_categorical = to_categorical(encoded_y_train)\n",
    "y_test_categorical = to_categorical(encoded_y_test)\n",
    "print(y_train_categorical)\n",
    "print(y_test_categorical)"
   ]
  },
  {
   "cell_type": "code",
   "execution_count": 42,
   "metadata": {},
   "outputs": [
    {
     "name": "stdout",
     "output_type": "stream",
     "text": [
      "(5243, 5)\n",
      "(5243, 3)\n"
     ]
    }
   ],
   "source": [
    "from tensorflow.keras.models import Sequential\n",
    "\n",
    "deep_model = Sequential()\n",
    "print(X_train_scaled.shape)\n",
    "print(y_train_categorical.shape)"
   ]
  },
  {
   "cell_type": "code",
   "execution_count": 43,
   "metadata": {},
   "outputs": [
    {
     "name": "stdout",
     "output_type": "stream",
     "text": [
      "Model: \"sequential_1\"\n",
      "_________________________________________________________________\n",
      "Layer (type)                 Output Shape              Param #   \n",
      "=================================================================\n",
      "dense (Dense)                (None, 100)               600       \n",
      "_________________________________________________________________\n",
      "dense_1 (Dense)              (None, 100)               10100     \n",
      "_________________________________________________________________\n",
      "dense_2 (Dense)              (None, 100)               10100     \n",
      "_________________________________________________________________\n",
      "dense_3 (Dense)              (None, 3)                 303       \n",
      "=================================================================\n",
      "Total params: 21,103\n",
      "Trainable params: 21,103\n",
      "Non-trainable params: 0\n",
      "_________________________________________________________________\n"
     ]
    }
   ],
   "source": [
    "from tensorflow.keras.layers import Dense\n",
    "\n",
    "deep_model.add(Dense(units=100, activation='relu', input_dim=5))\n",
    "deep_model.add(Dense(units=100, activation='relu'))\n",
    "deep_model.add(Dense(units=100, activation='relu'))\n",
    "deep_model.add(Dense(units=3, activation='softmax'))\n",
    "\n",
    "deep_model.summary()"
   ]
  },
  {
   "cell_type": "code",
   "execution_count": 44,
   "metadata": {},
   "outputs": [],
   "source": [
    "deep_model.compile(optimizer='adam',\n",
    "              loss='categorical_crossentropy',\n",
    "              metrics=['accuracy'])"
   ]
  },
  {
   "cell_type": "code",
   "execution_count": 45,
   "metadata": {},
   "outputs": [
    {
     "name": "stdout",
     "output_type": "stream",
     "text": [
      "Epoch 1/100\n",
      "164/164 - 0s - loss: 0.5473 - accuracy: 0.6874\n",
      "Epoch 2/100\n",
      "164/164 - 0s - loss: 0.4439 - accuracy: 0.7341\n",
      "Epoch 3/100\n",
      "164/164 - 0s - loss: 0.4429 - accuracy: 0.7419\n",
      "Epoch 4/100\n",
      "164/164 - 0s - loss: 0.4431 - accuracy: 0.7505\n",
      "Epoch 5/100\n",
      "164/164 - 0s - loss: 0.4427 - accuracy: 0.7419\n",
      "Epoch 6/100\n",
      "164/164 - 0s - loss: 0.4411 - accuracy: 0.7440\n",
      "Epoch 7/100\n",
      "164/164 - 0s - loss: 0.4418 - accuracy: 0.7379\n",
      "Epoch 8/100\n",
      "164/164 - 0s - loss: 0.4388 - accuracy: 0.7541\n",
      "Epoch 9/100\n",
      "164/164 - 0s - loss: 0.4406 - accuracy: 0.7589\n",
      "Epoch 10/100\n",
      "164/164 - 0s - loss: 0.4356 - accuracy: 0.7690\n",
      "Epoch 11/100\n",
      "164/164 - 0s - loss: 0.4404 - accuracy: 0.7526\n",
      "Epoch 12/100\n",
      "164/164 - 0s - loss: 0.4363 - accuracy: 0.7583\n",
      "Epoch 13/100\n",
      "164/164 - 0s - loss: 0.4348 - accuracy: 0.7768\n",
      "Epoch 14/100\n",
      "164/164 - 0s - loss: 0.4338 - accuracy: 0.7700\n",
      "Epoch 15/100\n",
      "164/164 - 0s - loss: 0.4311 - accuracy: 0.7995\n",
      "Epoch 16/100\n",
      "164/164 - 1s - loss: 0.4327 - accuracy: 0.7856\n",
      "Epoch 17/100\n",
      "164/164 - 1s - loss: 0.4285 - accuracy: 0.7953\n",
      "Epoch 18/100\n",
      "164/164 - 1s - loss: 0.4285 - accuracy: 0.7799\n",
      "Epoch 19/100\n",
      "164/164 - 0s - loss: 0.4257 - accuracy: 0.7957\n",
      "Epoch 20/100\n",
      "164/164 - 0s - loss: 0.4188 - accuracy: 0.8175\n",
      "Epoch 21/100\n",
      "164/164 - 0s - loss: 0.4124 - accuracy: 0.8152\n",
      "Epoch 22/100\n",
      "164/164 - 0s - loss: 0.4049 - accuracy: 0.8257\n",
      "Epoch 23/100\n",
      "164/164 - 0s - loss: 0.4040 - accuracy: 0.8232\n",
      "Epoch 24/100\n",
      "164/164 - 0s - loss: 0.3968 - accuracy: 0.8337\n",
      "Epoch 25/100\n",
      "164/164 - 1s - loss: 0.3938 - accuracy: 0.8379\n",
      "Epoch 26/100\n",
      "164/164 - 0s - loss: 0.3872 - accuracy: 0.8390\n",
      "Epoch 27/100\n",
      "164/164 - 0s - loss: 0.3830 - accuracy: 0.8423\n",
      "Epoch 28/100\n",
      "164/164 - 0s - loss: 0.3801 - accuracy: 0.8514\n",
      "Epoch 29/100\n",
      "164/164 - 0s - loss: 0.3762 - accuracy: 0.8444\n",
      "Epoch 30/100\n",
      "164/164 - 0s - loss: 0.3703 - accuracy: 0.8518\n",
      "Epoch 31/100\n",
      "164/164 - 0s - loss: 0.3758 - accuracy: 0.8459\n",
      "Epoch 32/100\n",
      "164/164 - 0s - loss: 0.3687 - accuracy: 0.8526\n",
      "Epoch 33/100\n",
      "164/164 - 0s - loss: 0.3652 - accuracy: 0.8512\n",
      "Epoch 34/100\n",
      "164/164 - 0s - loss: 0.3661 - accuracy: 0.8545\n",
      "Epoch 35/100\n",
      "164/164 - 0s - loss: 0.3607 - accuracy: 0.8550\n",
      "Epoch 36/100\n",
      "164/164 - 0s - loss: 0.3622 - accuracy: 0.8550\n",
      "Epoch 37/100\n",
      "164/164 - 0s - loss: 0.3682 - accuracy: 0.8524\n",
      "Epoch 38/100\n",
      "164/164 - 0s - loss: 0.3584 - accuracy: 0.8583\n",
      "Epoch 39/100\n",
      "164/164 - 0s - loss: 0.3563 - accuracy: 0.8604\n",
      "Epoch 40/100\n",
      "164/164 - 0s - loss: 0.3604 - accuracy: 0.8568\n",
      "Epoch 41/100\n",
      "164/164 - 0s - loss: 0.3629 - accuracy: 0.8568\n",
      "Epoch 42/100\n",
      "164/164 - 1s - loss: 0.3601 - accuracy: 0.8537\n",
      "Epoch 43/100\n",
      "164/164 - 1s - loss: 0.3571 - accuracy: 0.8571\n",
      "Epoch 44/100\n",
      "164/164 - 1s - loss: 0.3564 - accuracy: 0.8606\n",
      "Epoch 45/100\n",
      "164/164 - 0s - loss: 0.3569 - accuracy: 0.8608\n",
      "Epoch 46/100\n",
      "164/164 - 0s - loss: 0.3559 - accuracy: 0.8606\n",
      "Epoch 47/100\n",
      "164/164 - 0s - loss: 0.3534 - accuracy: 0.8619\n",
      "Epoch 48/100\n",
      "164/164 - 1s - loss: 0.3557 - accuracy: 0.8587\n",
      "Epoch 49/100\n",
      "164/164 - 0s - loss: 0.3517 - accuracy: 0.8617\n",
      "Epoch 50/100\n",
      "164/164 - 1s - loss: 0.3515 - accuracy: 0.8627\n",
      "Epoch 51/100\n",
      "164/164 - 0s - loss: 0.3529 - accuracy: 0.8579\n",
      "Epoch 52/100\n",
      "164/164 - 0s - loss: 0.3577 - accuracy: 0.8556\n",
      "Epoch 53/100\n",
      "164/164 - 0s - loss: 0.3543 - accuracy: 0.8592\n",
      "Epoch 54/100\n",
      "164/164 - 0s - loss: 0.3503 - accuracy: 0.8596\n",
      "Epoch 55/100\n",
      "164/164 - 0s - loss: 0.3519 - accuracy: 0.8617\n",
      "Epoch 56/100\n",
      "164/164 - 0s - loss: 0.3483 - accuracy: 0.8613\n",
      "Epoch 57/100\n",
      "164/164 - 0s - loss: 0.3553 - accuracy: 0.8570\n",
      "Epoch 58/100\n",
      "164/164 - 0s - loss: 0.3551 - accuracy: 0.8570\n",
      "Epoch 59/100\n",
      "164/164 - 0s - loss: 0.3558 - accuracy: 0.8564\n",
      "Epoch 60/100\n",
      "164/164 - 0s - loss: 0.3544 - accuracy: 0.8575\n",
      "Epoch 61/100\n",
      "164/164 - 0s - loss: 0.3502 - accuracy: 0.8629\n",
      "Epoch 62/100\n",
      "164/164 - 0s - loss: 0.3479 - accuracy: 0.8621\n",
      "Epoch 63/100\n",
      "164/164 - 0s - loss: 0.3516 - accuracy: 0.8581\n",
      "Epoch 64/100\n",
      "164/164 - 0s - loss: 0.3487 - accuracy: 0.8646\n",
      "Epoch 65/100\n",
      "164/164 - 0s - loss: 0.3479 - accuracy: 0.8627\n",
      "Epoch 66/100\n",
      "164/164 - 0s - loss: 0.3499 - accuracy: 0.8591\n",
      "Epoch 67/100\n",
      "164/164 - 0s - loss: 0.3504 - accuracy: 0.8594\n",
      "Epoch 68/100\n",
      "164/164 - 0s - loss: 0.3594 - accuracy: 0.8570\n",
      "Epoch 69/100\n",
      "164/164 - 0s - loss: 0.3494 - accuracy: 0.8621\n",
      "Epoch 70/100\n",
      "164/164 - 0s - loss: 0.3507 - accuracy: 0.8577\n",
      "Epoch 71/100\n",
      "164/164 - 0s - loss: 0.3527 - accuracy: 0.8600\n",
      "Epoch 72/100\n",
      "164/164 - 0s - loss: 0.3512 - accuracy: 0.8591\n",
      "Epoch 73/100\n",
      "164/164 - 0s - loss: 0.3633 - accuracy: 0.8503\n",
      "Epoch 74/100\n",
      "164/164 - 0s - loss: 0.3518 - accuracy: 0.8611\n",
      "Epoch 75/100\n",
      "164/164 - 0s - loss: 0.3477 - accuracy: 0.8674\n",
      "Epoch 76/100\n",
      "164/164 - 0s - loss: 0.3498 - accuracy: 0.8623\n",
      "Epoch 77/100\n",
      "164/164 - 0s - loss: 0.3488 - accuracy: 0.8610\n",
      "Epoch 78/100\n",
      "164/164 - 0s - loss: 0.3496 - accuracy: 0.8610\n",
      "Epoch 79/100\n",
      "164/164 - 0s - loss: 0.3512 - accuracy: 0.8589\n",
      "Epoch 80/100\n",
      "164/164 - 0s - loss: 0.3481 - accuracy: 0.8600\n",
      "Epoch 81/100\n",
      "164/164 - 0s - loss: 0.3499 - accuracy: 0.8600\n",
      "Epoch 82/100\n",
      "164/164 - 0s - loss: 0.3469 - accuracy: 0.8596\n",
      "Epoch 83/100\n",
      "164/164 - 0s - loss: 0.3513 - accuracy: 0.8583\n",
      "Epoch 84/100\n",
      "164/164 - 0s - loss: 0.3458 - accuracy: 0.8646\n",
      "Epoch 85/100\n",
      "164/164 - 0s - loss: 0.3480 - accuracy: 0.8596\n",
      "Epoch 86/100\n",
      "164/164 - 0s - loss: 0.3461 - accuracy: 0.8631\n",
      "Epoch 87/100\n",
      "164/164 - 0s - loss: 0.3494 - accuracy: 0.8632\n",
      "Epoch 88/100\n",
      "164/164 - 0s - loss: 0.3513 - accuracy: 0.8615\n",
      "Epoch 89/100\n",
      "164/164 - 0s - loss: 0.3502 - accuracy: 0.8594\n",
      "Epoch 90/100\n",
      "164/164 - 0s - loss: 0.3491 - accuracy: 0.8608\n",
      "Epoch 91/100\n",
      "164/164 - 0s - loss: 0.3498 - accuracy: 0.8592\n",
      "Epoch 92/100\n",
      "164/164 - 0s - loss: 0.3450 - accuracy: 0.8642\n",
      "Epoch 93/100\n",
      "164/164 - 0s - loss: 0.3483 - accuracy: 0.8591\n",
      "Epoch 94/100\n",
      "164/164 - 0s - loss: 0.3469 - accuracy: 0.8623\n",
      "Epoch 95/100\n",
      "164/164 - 0s - loss: 0.3497 - accuracy: 0.8619\n",
      "Epoch 96/100\n",
      "164/164 - 0s - loss: 0.3492 - accuracy: 0.8577\n",
      "Epoch 97/100\n",
      "164/164 - 0s - loss: 0.3533 - accuracy: 0.8577\n",
      "Epoch 98/100\n",
      "164/164 - 0s - loss: 0.3504 - accuracy: 0.8596\n",
      "Epoch 99/100\n",
      "164/164 - 0s - loss: 0.3568 - accuracy: 0.8539\n",
      "Epoch 100/100\n",
      "164/164 - 0s - loss: 0.3466 - accuracy: 0.8625\n"
     ]
    },
    {
     "data": {
      "text/plain": [
       "<tensorflow.python.keras.callbacks.History at 0x7feb3fea9940>"
      ]
     },
     "execution_count": 45,
     "metadata": {},
     "output_type": "execute_result"
    }
   ],
   "source": [
    "deep_model.fit(\n",
    "    X_train_scaled,\n",
    "    y_train_categorical,\n",
    "    epochs=100,\n",
    "    shuffle=True,\n",
    "    verbose=2\n",
    ")"
   ]
  },
  {
   "cell_type": "code",
   "execution_count": 46,
   "metadata": {},
   "outputs": [
    {
     "name": "stdout",
     "output_type": "stream",
     "text": [
      "55/55 - 0s - loss: 0.3573 - accuracy: 0.8701\n",
      "Loss: 0.35729509592056274, Accuracy: 0.8701372742652893\n"
     ]
    }
   ],
   "source": [
    "model_loss, model_accuracy = deep_model.evaluate(\n",
    "    X_test_scaled, y_test_categorical, verbose=2)\n",
    "print(f\"Loss: {model_loss}, Accuracy: {model_accuracy}\")"
   ]
  },
  {
   "cell_type": "code",
   "execution_count": null,
   "metadata": {},
   "outputs": [],
   "source": []
  }
 ],
 "metadata": {
  "kernel_info": {
   "name": "dev"
  },
  "kernelspec": {
   "display_name": "Python 3",
   "language": "python",
   "name": "python3"
  },
  "language_info": {
   "codemirror_mode": {
    "name": "ipython",
    "version": 3
   },
   "file_extension": ".py",
   "mimetype": "text/x-python",
   "name": "python",
   "nbconvert_exporter": "python",
   "pygments_lexer": "ipython3",
   "version": "3.6.10"
  },
  "nteract": {
   "version": "0.12.3"
  }
 },
 "nbformat": 4,
 "nbformat_minor": 2
}
