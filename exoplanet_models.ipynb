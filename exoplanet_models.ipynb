{
 "cells": [
  {
   "cell_type": "markdown",
   "metadata": {},
   "source": [
    "# Exoplanet Machine Learning Dataset"
   ]
  },
  {
   "cell_type": "code",
   "execution_count": 1,
   "metadata": {},
   "outputs": [],
   "source": [
    "# Update sklearn to prevent version mismatches\n",
    "#!pip install sklearn --upgrade"
   ]
  },
  {
   "cell_type": "code",
   "execution_count": 2,
   "metadata": {},
   "outputs": [],
   "source": [
    "# install joblib. \n",
    "# !pip install joblib"
   ]
  },
  {
   "cell_type": "code",
   "execution_count": 3,
   "metadata": {},
   "outputs": [],
   "source": [
    "import pandas as pd"
   ]
  },
  {
   "cell_type": "markdown",
   "metadata": {},
   "source": [
    "## Data Exploration and Cleaning"
   ]
  },
  {
   "cell_type": "code",
   "execution_count": 4,
   "metadata": {},
   "outputs": [
    {
     "data": {
      "text/html": [
       "<div>\n",
       "<style scoped>\n",
       "    .dataframe tbody tr th:only-of-type {\n",
       "        vertical-align: middle;\n",
       "    }\n",
       "\n",
       "    .dataframe tbody tr th {\n",
       "        vertical-align: top;\n",
       "    }\n",
       "\n",
       "    .dataframe thead th {\n",
       "        text-align: right;\n",
       "    }\n",
       "</style>\n",
       "<table border=\"1\" class=\"dataframe\">\n",
       "  <thead>\n",
       "    <tr style=\"text-align: right;\">\n",
       "      <th></th>\n",
       "      <th>koi_disposition</th>\n",
       "      <th>koi_fpflag_nt</th>\n",
       "      <th>koi_fpflag_ss</th>\n",
       "      <th>koi_fpflag_co</th>\n",
       "      <th>koi_fpflag_ec</th>\n",
       "      <th>koi_period</th>\n",
       "      <th>koi_period_err1</th>\n",
       "      <th>koi_period_err2</th>\n",
       "      <th>koi_time0bk</th>\n",
       "      <th>koi_time0bk_err1</th>\n",
       "      <th>...</th>\n",
       "      <th>koi_steff_err2</th>\n",
       "      <th>koi_slogg</th>\n",
       "      <th>koi_slogg_err1</th>\n",
       "      <th>koi_slogg_err2</th>\n",
       "      <th>koi_srad</th>\n",
       "      <th>koi_srad_err1</th>\n",
       "      <th>koi_srad_err2</th>\n",
       "      <th>ra</th>\n",
       "      <th>dec</th>\n",
       "      <th>koi_kepmag</th>\n",
       "    </tr>\n",
       "  </thead>\n",
       "  <tbody>\n",
       "    <tr>\n",
       "      <th>0</th>\n",
       "      <td>CONFIRMED</td>\n",
       "      <td>0</td>\n",
       "      <td>0</td>\n",
       "      <td>0</td>\n",
       "      <td>0</td>\n",
       "      <td>54.418383</td>\n",
       "      <td>2.479000e-04</td>\n",
       "      <td>-2.479000e-04</td>\n",
       "      <td>162.513840</td>\n",
       "      <td>0.003520</td>\n",
       "      <td>...</td>\n",
       "      <td>-81</td>\n",
       "      <td>4.467</td>\n",
       "      <td>0.064</td>\n",
       "      <td>-0.096</td>\n",
       "      <td>0.927</td>\n",
       "      <td>0.105</td>\n",
       "      <td>-0.061</td>\n",
       "      <td>291.93423</td>\n",
       "      <td>48.141651</td>\n",
       "      <td>15.347</td>\n",
       "    </tr>\n",
       "    <tr>\n",
       "      <th>1</th>\n",
       "      <td>FALSE POSITIVE</td>\n",
       "      <td>0</td>\n",
       "      <td>1</td>\n",
       "      <td>0</td>\n",
       "      <td>0</td>\n",
       "      <td>19.899140</td>\n",
       "      <td>1.490000e-05</td>\n",
       "      <td>-1.490000e-05</td>\n",
       "      <td>175.850252</td>\n",
       "      <td>0.000581</td>\n",
       "      <td>...</td>\n",
       "      <td>-176</td>\n",
       "      <td>4.544</td>\n",
       "      <td>0.044</td>\n",
       "      <td>-0.176</td>\n",
       "      <td>0.868</td>\n",
       "      <td>0.233</td>\n",
       "      <td>-0.078</td>\n",
       "      <td>297.00482</td>\n",
       "      <td>48.134129</td>\n",
       "      <td>15.436</td>\n",
       "    </tr>\n",
       "    <tr>\n",
       "      <th>2</th>\n",
       "      <td>FALSE POSITIVE</td>\n",
       "      <td>0</td>\n",
       "      <td>1</td>\n",
       "      <td>0</td>\n",
       "      <td>0</td>\n",
       "      <td>1.736952</td>\n",
       "      <td>2.630000e-07</td>\n",
       "      <td>-2.630000e-07</td>\n",
       "      <td>170.307565</td>\n",
       "      <td>0.000115</td>\n",
       "      <td>...</td>\n",
       "      <td>-174</td>\n",
       "      <td>4.564</td>\n",
       "      <td>0.053</td>\n",
       "      <td>-0.168</td>\n",
       "      <td>0.791</td>\n",
       "      <td>0.201</td>\n",
       "      <td>-0.067</td>\n",
       "      <td>285.53461</td>\n",
       "      <td>48.285210</td>\n",
       "      <td>15.597</td>\n",
       "    </tr>\n",
       "    <tr>\n",
       "      <th>3</th>\n",
       "      <td>CONFIRMED</td>\n",
       "      <td>0</td>\n",
       "      <td>0</td>\n",
       "      <td>0</td>\n",
       "      <td>0</td>\n",
       "      <td>2.525592</td>\n",
       "      <td>3.760000e-06</td>\n",
       "      <td>-3.760000e-06</td>\n",
       "      <td>171.595550</td>\n",
       "      <td>0.001130</td>\n",
       "      <td>...</td>\n",
       "      <td>-211</td>\n",
       "      <td>4.438</td>\n",
       "      <td>0.070</td>\n",
       "      <td>-0.210</td>\n",
       "      <td>1.046</td>\n",
       "      <td>0.334</td>\n",
       "      <td>-0.133</td>\n",
       "      <td>288.75488</td>\n",
       "      <td>48.226200</td>\n",
       "      <td>15.509</td>\n",
       "    </tr>\n",
       "    <tr>\n",
       "      <th>4</th>\n",
       "      <td>CONFIRMED</td>\n",
       "      <td>0</td>\n",
       "      <td>0</td>\n",
       "      <td>0</td>\n",
       "      <td>0</td>\n",
       "      <td>4.134435</td>\n",
       "      <td>1.050000e-05</td>\n",
       "      <td>-1.050000e-05</td>\n",
       "      <td>172.979370</td>\n",
       "      <td>0.001900</td>\n",
       "      <td>...</td>\n",
       "      <td>-232</td>\n",
       "      <td>4.486</td>\n",
       "      <td>0.054</td>\n",
       "      <td>-0.229</td>\n",
       "      <td>0.972</td>\n",
       "      <td>0.315</td>\n",
       "      <td>-0.105</td>\n",
       "      <td>296.28613</td>\n",
       "      <td>48.224670</td>\n",
       "      <td>15.714</td>\n",
       "    </tr>\n",
       "    <tr>\n",
       "      <th>...</th>\n",
       "      <td>...</td>\n",
       "      <td>...</td>\n",
       "      <td>...</td>\n",
       "      <td>...</td>\n",
       "      <td>...</td>\n",
       "      <td>...</td>\n",
       "      <td>...</td>\n",
       "      <td>...</td>\n",
       "      <td>...</td>\n",
       "      <td>...</td>\n",
       "      <td>...</td>\n",
       "      <td>...</td>\n",
       "      <td>...</td>\n",
       "      <td>...</td>\n",
       "      <td>...</td>\n",
       "      <td>...</td>\n",
       "      <td>...</td>\n",
       "      <td>...</td>\n",
       "      <td>...</td>\n",
       "      <td>...</td>\n",
       "      <td>...</td>\n",
       "    </tr>\n",
       "    <tr>\n",
       "      <th>6986</th>\n",
       "      <td>FALSE POSITIVE</td>\n",
       "      <td>0</td>\n",
       "      <td>0</td>\n",
       "      <td>0</td>\n",
       "      <td>1</td>\n",
       "      <td>8.589871</td>\n",
       "      <td>1.846000e-04</td>\n",
       "      <td>-1.846000e-04</td>\n",
       "      <td>132.016100</td>\n",
       "      <td>0.015700</td>\n",
       "      <td>...</td>\n",
       "      <td>-152</td>\n",
       "      <td>4.296</td>\n",
       "      <td>0.231</td>\n",
       "      <td>-0.189</td>\n",
       "      <td>1.088</td>\n",
       "      <td>0.313</td>\n",
       "      <td>-0.228</td>\n",
       "      <td>298.74921</td>\n",
       "      <td>46.973351</td>\n",
       "      <td>14.478</td>\n",
       "    </tr>\n",
       "    <tr>\n",
       "      <th>6987</th>\n",
       "      <td>FALSE POSITIVE</td>\n",
       "      <td>0</td>\n",
       "      <td>1</td>\n",
       "      <td>1</td>\n",
       "      <td>0</td>\n",
       "      <td>0.527699</td>\n",
       "      <td>1.160000e-07</td>\n",
       "      <td>-1.160000e-07</td>\n",
       "      <td>131.705093</td>\n",
       "      <td>0.000170</td>\n",
       "      <td>...</td>\n",
       "      <td>-166</td>\n",
       "      <td>4.529</td>\n",
       "      <td>0.035</td>\n",
       "      <td>-0.196</td>\n",
       "      <td>0.903</td>\n",
       "      <td>0.237</td>\n",
       "      <td>-0.079</td>\n",
       "      <td>297.18875</td>\n",
       "      <td>47.093819</td>\n",
       "      <td>14.082</td>\n",
       "    </tr>\n",
       "    <tr>\n",
       "      <th>6988</th>\n",
       "      <td>CANDIDATE</td>\n",
       "      <td>0</td>\n",
       "      <td>0</td>\n",
       "      <td>0</td>\n",
       "      <td>0</td>\n",
       "      <td>1.739849</td>\n",
       "      <td>1.780000e-05</td>\n",
       "      <td>-1.780000e-05</td>\n",
       "      <td>133.001270</td>\n",
       "      <td>0.007690</td>\n",
       "      <td>...</td>\n",
       "      <td>-220</td>\n",
       "      <td>4.444</td>\n",
       "      <td>0.056</td>\n",
       "      <td>-0.224</td>\n",
       "      <td>1.031</td>\n",
       "      <td>0.341</td>\n",
       "      <td>-0.114</td>\n",
       "      <td>286.50937</td>\n",
       "      <td>47.163219</td>\n",
       "      <td>14.757</td>\n",
       "    </tr>\n",
       "    <tr>\n",
       "      <th>6989</th>\n",
       "      <td>FALSE POSITIVE</td>\n",
       "      <td>0</td>\n",
       "      <td>0</td>\n",
       "      <td>1</td>\n",
       "      <td>0</td>\n",
       "      <td>0.681402</td>\n",
       "      <td>2.430000e-06</td>\n",
       "      <td>-2.430000e-06</td>\n",
       "      <td>132.181750</td>\n",
       "      <td>0.002850</td>\n",
       "      <td>...</td>\n",
       "      <td>-236</td>\n",
       "      <td>4.447</td>\n",
       "      <td>0.056</td>\n",
       "      <td>-0.224</td>\n",
       "      <td>1.041</td>\n",
       "      <td>0.341</td>\n",
       "      <td>-0.114</td>\n",
       "      <td>294.16489</td>\n",
       "      <td>47.176281</td>\n",
       "      <td>15.385</td>\n",
       "    </tr>\n",
       "    <tr>\n",
       "      <th>6990</th>\n",
       "      <td>FALSE POSITIVE</td>\n",
       "      <td>0</td>\n",
       "      <td>0</td>\n",
       "      <td>1</td>\n",
       "      <td>1</td>\n",
       "      <td>4.856035</td>\n",
       "      <td>6.360000e-05</td>\n",
       "      <td>-6.360000e-05</td>\n",
       "      <td>135.993300</td>\n",
       "      <td>0.010800</td>\n",
       "      <td>...</td>\n",
       "      <td>-225</td>\n",
       "      <td>4.385</td>\n",
       "      <td>0.054</td>\n",
       "      <td>-0.216</td>\n",
       "      <td>1.193</td>\n",
       "      <td>0.410</td>\n",
       "      <td>-0.137</td>\n",
       "      <td>297.00977</td>\n",
       "      <td>47.121021</td>\n",
       "      <td>14.826</td>\n",
       "    </tr>\n",
       "  </tbody>\n",
       "</table>\n",
       "<p>6991 rows × 41 columns</p>\n",
       "</div>"
      ],
      "text/plain": [
       "     koi_disposition  koi_fpflag_nt  koi_fpflag_ss  koi_fpflag_co  \\\n",
       "0          CONFIRMED              0              0              0   \n",
       "1     FALSE POSITIVE              0              1              0   \n",
       "2     FALSE POSITIVE              0              1              0   \n",
       "3          CONFIRMED              0              0              0   \n",
       "4          CONFIRMED              0              0              0   \n",
       "...              ...            ...            ...            ...   \n",
       "6986  FALSE POSITIVE              0              0              0   \n",
       "6987  FALSE POSITIVE              0              1              1   \n",
       "6988       CANDIDATE              0              0              0   \n",
       "6989  FALSE POSITIVE              0              0              1   \n",
       "6990  FALSE POSITIVE              0              0              1   \n",
       "\n",
       "      koi_fpflag_ec  koi_period  koi_period_err1  koi_period_err2  \\\n",
       "0                 0   54.418383     2.479000e-04    -2.479000e-04   \n",
       "1                 0   19.899140     1.490000e-05    -1.490000e-05   \n",
       "2                 0    1.736952     2.630000e-07    -2.630000e-07   \n",
       "3                 0    2.525592     3.760000e-06    -3.760000e-06   \n",
       "4                 0    4.134435     1.050000e-05    -1.050000e-05   \n",
       "...             ...         ...              ...              ...   \n",
       "6986              1    8.589871     1.846000e-04    -1.846000e-04   \n",
       "6987              0    0.527699     1.160000e-07    -1.160000e-07   \n",
       "6988              0    1.739849     1.780000e-05    -1.780000e-05   \n",
       "6989              0    0.681402     2.430000e-06    -2.430000e-06   \n",
       "6990              1    4.856035     6.360000e-05    -6.360000e-05   \n",
       "\n",
       "      koi_time0bk  koi_time0bk_err1  ...  koi_steff_err2  koi_slogg  \\\n",
       "0      162.513840          0.003520  ...             -81      4.467   \n",
       "1      175.850252          0.000581  ...            -176      4.544   \n",
       "2      170.307565          0.000115  ...            -174      4.564   \n",
       "3      171.595550          0.001130  ...            -211      4.438   \n",
       "4      172.979370          0.001900  ...            -232      4.486   \n",
       "...           ...               ...  ...             ...        ...   \n",
       "6986   132.016100          0.015700  ...            -152      4.296   \n",
       "6987   131.705093          0.000170  ...            -166      4.529   \n",
       "6988   133.001270          0.007690  ...            -220      4.444   \n",
       "6989   132.181750          0.002850  ...            -236      4.447   \n",
       "6990   135.993300          0.010800  ...            -225      4.385   \n",
       "\n",
       "      koi_slogg_err1  koi_slogg_err2  koi_srad  koi_srad_err1  koi_srad_err2  \\\n",
       "0              0.064          -0.096     0.927          0.105         -0.061   \n",
       "1              0.044          -0.176     0.868          0.233         -0.078   \n",
       "2              0.053          -0.168     0.791          0.201         -0.067   \n",
       "3              0.070          -0.210     1.046          0.334         -0.133   \n",
       "4              0.054          -0.229     0.972          0.315         -0.105   \n",
       "...              ...             ...       ...            ...            ...   \n",
       "6986           0.231          -0.189     1.088          0.313         -0.228   \n",
       "6987           0.035          -0.196     0.903          0.237         -0.079   \n",
       "6988           0.056          -0.224     1.031          0.341         -0.114   \n",
       "6989           0.056          -0.224     1.041          0.341         -0.114   \n",
       "6990           0.054          -0.216     1.193          0.410         -0.137   \n",
       "\n",
       "             ra        dec  koi_kepmag  \n",
       "0     291.93423  48.141651      15.347  \n",
       "1     297.00482  48.134129      15.436  \n",
       "2     285.53461  48.285210      15.597  \n",
       "3     288.75488  48.226200      15.509  \n",
       "4     296.28613  48.224670      15.714  \n",
       "...         ...        ...         ...  \n",
       "6986  298.74921  46.973351      14.478  \n",
       "6987  297.18875  47.093819      14.082  \n",
       "6988  286.50937  47.163219      14.757  \n",
       "6989  294.16489  47.176281      15.385  \n",
       "6990  297.00977  47.121021      14.826  \n",
       "\n",
       "[6991 rows x 41 columns]"
      ]
     },
     "execution_count": 4,
     "metadata": {},
     "output_type": "execute_result"
    }
   ],
   "source": [
    "# Reading the provided dataset\n",
    "df = pd.read_csv(\"exoplanet_data.csv\")\n",
    "df"
   ]
  },
  {
   "cell_type": "code",
   "execution_count": 5,
   "metadata": {},
   "outputs": [
    {
     "data": {
      "text/plain": [
       "koi_disposition       object\n",
       "koi_fpflag_nt          int64\n",
       "koi_fpflag_ss          int64\n",
       "koi_fpflag_co          int64\n",
       "koi_fpflag_ec          int64\n",
       "koi_period           float64\n",
       "koi_period_err1      float64\n",
       "koi_period_err2      float64\n",
       "koi_time0bk          float64\n",
       "koi_time0bk_err1     float64\n",
       "koi_time0bk_err2     float64\n",
       "koi_impact           float64\n",
       "koi_impact_err1      float64\n",
       "koi_impact_err2      float64\n",
       "koi_duration         float64\n",
       "koi_duration_err1    float64\n",
       "koi_duration_err2    float64\n",
       "koi_depth            float64\n",
       "koi_depth_err1       float64\n",
       "koi_depth_err2       float64\n",
       "koi_prad             float64\n",
       "koi_prad_err1        float64\n",
       "koi_prad_err2        float64\n",
       "koi_teq                int64\n",
       "koi_insol            float64\n",
       "koi_insol_err1       float64\n",
       "koi_insol_err2       float64\n",
       "koi_model_snr        float64\n",
       "koi_tce_plnt_num       int64\n",
       "koi_steff              int64\n",
       "koi_steff_err1         int64\n",
       "koi_steff_err2         int64\n",
       "koi_slogg            float64\n",
       "koi_slogg_err1       float64\n",
       "koi_slogg_err2       float64\n",
       "koi_srad             float64\n",
       "koi_srad_err1        float64\n",
       "koi_srad_err2        float64\n",
       "ra                   float64\n",
       "dec                  float64\n",
       "koi_kepmag           float64\n",
       "dtype: object"
      ]
     },
     "execution_count": 5,
     "metadata": {},
     "output_type": "execute_result"
    }
   ],
   "source": [
    "df.dtypes\n",
    "# all are numbers expect koi_disp"
   ]
  },
  {
   "cell_type": "code",
   "execution_count": 6,
   "metadata": {},
   "outputs": [
    {
     "data": {
      "text/plain": [
       "array(['CONFIRMED', 'FALSE POSITIVE', 'CANDIDATE'], dtype=object)"
      ]
     },
     "execution_count": 6,
     "metadata": {},
     "output_type": "execute_result"
    }
   ],
   "source": [
    "# checking unique values \n",
    "types = df[\"koi_disposition\"].unique()\n",
    "types"
   ]
  },
  {
   "cell_type": "code",
   "execution_count": 7,
   "metadata": {},
   "outputs": [
    {
     "data": {
      "text/plain": [
       "koi_disposition      0\n",
       "koi_fpflag_nt        0\n",
       "koi_fpflag_ss        0\n",
       "koi_fpflag_co        0\n",
       "koi_fpflag_ec        0\n",
       "koi_period           0\n",
       "koi_period_err1      0\n",
       "koi_period_err2      0\n",
       "koi_time0bk          0\n",
       "koi_time0bk_err1     0\n",
       "koi_time0bk_err2     0\n",
       "koi_impact           0\n",
       "koi_impact_err1      0\n",
       "koi_impact_err2      0\n",
       "koi_duration         0\n",
       "koi_duration_err1    0\n",
       "koi_duration_err2    0\n",
       "koi_depth            0\n",
       "koi_depth_err1       0\n",
       "koi_depth_err2       0\n",
       "koi_prad             0\n",
       "koi_prad_err1        0\n",
       "koi_prad_err2        0\n",
       "koi_teq              0\n",
       "koi_insol            0\n",
       "koi_insol_err1       0\n",
       "koi_insol_err2       0\n",
       "koi_model_snr        0\n",
       "koi_tce_plnt_num     0\n",
       "koi_steff            0\n",
       "koi_steff_err1       0\n",
       "koi_steff_err2       0\n",
       "koi_slogg            0\n",
       "koi_slogg_err1       0\n",
       "koi_slogg_err2       0\n",
       "koi_srad             0\n",
       "koi_srad_err1        0\n",
       "koi_srad_err2        0\n",
       "ra                   0\n",
       "dec                  0\n",
       "koi_kepmag           0\n",
       "dtype: int64"
      ]
     },
     "execution_count": 7,
     "metadata": {},
     "output_type": "execute_result"
    }
   ],
   "source": [
    "# checking for nans\n",
    "df.isnull().sum()"
   ]
  },
  {
   "cell_type": "markdown",
   "metadata": {},
   "source": [
    "## Select your features "
   ]
  },
  {
   "cell_type": "code",
   "execution_count": 8,
   "metadata": {},
   "outputs": [],
   "source": [
    "# Set x as every column except koi_dis\n",
    "X = df.drop(\"koi_disposition\", axis=1)\n",
    "# Set y to koi_dis\n",
    "y = df[\"koi_disposition\"]"
   ]
  },
  {
   "cell_type": "code",
   "execution_count": 9,
   "metadata": {},
   "outputs": [
    {
     "data": {
      "text/plain": [
       "[(0.11244928956525081, 'koi_fpflag_co'),\n",
       " (0.09539988189020576, 'koi_fpflag_nt'),\n",
       " (0.0624487180313217, 'koi_model_snr'),\n",
       " (0.06201620743395646, 'koi_fpflag_ss'),\n",
       " (0.054746112249074386, 'koi_prad'),\n",
       " (0.03722462340015902, 'koi_prad_err1'),\n",
       " (0.036351055491291785, 'koi_fpflag_ec'),\n",
       " (0.03422835698355081, 'koi_duration_err1'),\n",
       " (0.033693823154724585, 'koi_duration_err2'),\n",
       " (0.03262291367585332, 'koi_prad_err2'),\n",
       " (0.03244824889516049, 'koi_steff_err1'),\n",
       " (0.02691942064734593, 'koi_steff_err2'),\n",
       " (0.022855778588003264, 'koi_duration'),\n",
       " (0.021696377586824366, 'koi_time0bk_err2'),\n",
       " (0.01969202667773827, 'koi_period'),\n",
       " (0.019323746818660135, 'koi_depth'),\n",
       " (0.018538934912990246, 'koi_time0bk_err1'),\n",
       " (0.018511582679384294, 'koi_insol_err1'),\n",
       " (0.01769132704767722, 'koi_impact'),\n",
       " (0.016616613837322526, 'koi_period_err2'),\n",
       " (0.01578870445841781, 'koi_period_err1'),\n",
       " (0.015715560561119887, 'koi_teq'),\n",
       " (0.015709714183829115, 'koi_insol'),\n",
       " (0.014046270104407883, 'koi_insol_err2'),\n",
       " (0.01359038253793965, 'koi_time0bk'),\n",
       " (0.013424793101762828, 'koi_depth_err1'),\n",
       " (0.012622274450930721, 'koi_depth_err2'),\n",
       " (0.011890933271753897, 'ra'),\n",
       " (0.01117989397797186, 'koi_kepmag'),\n",
       " (0.010925492638354694, 'koi_srad_err1'),\n",
       " (0.010923407345735778, 'dec'),\n",
       " (0.01038098484956746, 'koi_impact_err2'),\n",
       " (0.010338467349939031, 'koi_impact_err1'),\n",
       " (0.00955646103311614, 'koi_slogg_err2'),\n",
       " (0.009356758873648712, 'koi_steff'),\n",
       " (0.009088624916585289, 'koi_slogg'),\n",
       " (0.009020302387971002, 'koi_srad'),\n",
       " (0.008942698804972735, 'koi_slogg_err1'),\n",
       " (0.008697301010335569, 'koi_srad_err2'),\n",
       " (0.0033259345751445336, 'koi_tce_plnt_num')]"
      ]
     },
     "execution_count": 9,
     "metadata": {},
     "output_type": "execute_result"
    }
   ],
   "source": [
    "# Set features. This will also be used as your x values.\n",
    "from sklearn.ensemble import RandomForestClassifier\n",
    "\n",
    "# Create a random forest classifier\n",
    "rf = RandomForestClassifier(n_estimators=200)\n",
    "rf = rf.fit(X,y)\n",
    "\n",
    "# Random Forests in sklearn will automatically calculate feature importance\n",
    "# in this case it would be the petal \n",
    "importances = rf.feature_importances_\n",
    "\n",
    "# We can sort the features by their importance\n",
    "sorted(zip(rf.feature_importances_, X.columns), reverse=True)"
   ]
  },
  {
   "cell_type": "code",
   "execution_count": 10,
   "metadata": {},
   "outputs": [],
   "source": [
    "# chosing the top important features\n",
    "X = df[['koi_fpflag_co', 'koi_fpflag_nt', 'koi_fpflag_ss', 'koi_model_snr', 'koi_prad']]"
   ]
  },
  {
   "cell_type": "markdown",
   "metadata": {},
   "source": [
    "## Create a Train Test Split\n",
    "\n",
    "Use `koi_disposition` for the y values"
   ]
  },
  {
   "cell_type": "code",
   "execution_count": 11,
   "metadata": {},
   "outputs": [],
   "source": [
    "# split the data up between training and testing data (3/4:1/4)\n",
    "from sklearn.model_selection import train_test_split\n",
    "X_train, X_test, y_train, y_test = train_test_split(X, y, random_state=42)"
   ]
  },
  {
   "cell_type": "code",
   "execution_count": 12,
   "metadata": {},
   "outputs": [
    {
     "data": {
      "text/html": [
       "<div>\n",
       "<style scoped>\n",
       "    .dataframe tbody tr th:only-of-type {\n",
       "        vertical-align: middle;\n",
       "    }\n",
       "\n",
       "    .dataframe tbody tr th {\n",
       "        vertical-align: top;\n",
       "    }\n",
       "\n",
       "    .dataframe thead th {\n",
       "        text-align: right;\n",
       "    }\n",
       "</style>\n",
       "<table border=\"1\" class=\"dataframe\">\n",
       "  <thead>\n",
       "    <tr style=\"text-align: right;\">\n",
       "      <th></th>\n",
       "      <th>koi_fpflag_co</th>\n",
       "      <th>koi_fpflag_nt</th>\n",
       "      <th>koi_fpflag_ss</th>\n",
       "      <th>koi_model_snr</th>\n",
       "      <th>koi_prad</th>\n",
       "    </tr>\n",
       "  </thead>\n",
       "  <tbody>\n",
       "    <tr>\n",
       "      <th>6122</th>\n",
       "      <td>0</td>\n",
       "      <td>0</td>\n",
       "      <td>0</td>\n",
       "      <td>10.8</td>\n",
       "      <td>1.24</td>\n",
       "    </tr>\n",
       "    <tr>\n",
       "      <th>6370</th>\n",
       "      <td>0</td>\n",
       "      <td>0</td>\n",
       "      <td>1</td>\n",
       "      <td>13.8</td>\n",
       "      <td>0.86</td>\n",
       "    </tr>\n",
       "    <tr>\n",
       "      <th>2879</th>\n",
       "      <td>0</td>\n",
       "      <td>1</td>\n",
       "      <td>0</td>\n",
       "      <td>254.3</td>\n",
       "      <td>3.21</td>\n",
       "    </tr>\n",
       "    <tr>\n",
       "      <th>107</th>\n",
       "      <td>0</td>\n",
       "      <td>0</td>\n",
       "      <td>0</td>\n",
       "      <td>38.4</td>\n",
       "      <td>2.25</td>\n",
       "    </tr>\n",
       "    <tr>\n",
       "      <th>29</th>\n",
       "      <td>0</td>\n",
       "      <td>0</td>\n",
       "      <td>0</td>\n",
       "      <td>696.5</td>\n",
       "      <td>12.21</td>\n",
       "    </tr>\n",
       "  </tbody>\n",
       "</table>\n",
       "</div>"
      ],
      "text/plain": [
       "      koi_fpflag_co  koi_fpflag_nt  koi_fpflag_ss  koi_model_snr  koi_prad\n",
       "6122              0              0              0           10.8      1.24\n",
       "6370              0              0              1           13.8      0.86\n",
       "2879              0              1              0          254.3      3.21\n",
       "107               0              0              0           38.4      2.25\n",
       "29                0              0              0          696.5     12.21"
      ]
     },
     "execution_count": 12,
     "metadata": {},
     "output_type": "execute_result"
    }
   ],
   "source": [
    "X_train.head()"
   ]
  },
  {
   "cell_type": "markdown",
   "metadata": {},
   "source": [
    "## Pre-Processing"
   ]
  },
  {
   "cell_type": "code",
   "execution_count": 13,
   "metadata": {},
   "outputs": [],
   "source": [
    "# Scale your data\n",
    "# do not scale Y because it is categorical \n",
    "from sklearn.preprocessing import MinMaxScaler\n",
    "\n",
    "X_scaler = MinMaxScaler().fit(X_train)\n",
    "X_train_scaled = X_scaler.transform(X_train)\n",
    "X_test_scaled = X_scaler.transform(X_test)\n"
   ]
  },
  {
   "cell_type": "markdown",
   "metadata": {},
   "source": [
    "## Train the Model & Tune Hyperparameters\n",
    "\n"
   ]
  },
  {
   "cell_type": "markdown",
   "metadata": {},
   "source": [
    "### Logistic Regression Model"
   ]
  },
  {
   "cell_type": "markdown",
   "metadata": {},
   "source": [
    "Logistic Regression is used when the dependent variable(target) is categorical."
   ]
  },
  {
   "cell_type": "code",
   "execution_count": 14,
   "metadata": {},
   "outputs": [
    {
     "data": {
      "text/plain": [
       "LogisticRegression(max_iter=1000)"
      ]
     },
     "execution_count": 14,
     "metadata": {},
     "output_type": "execute_result"
    }
   ],
   "source": [
    "# Create a Logistic Regression Model\n",
    "from sklearn.linear_model import LogisticRegression\n",
    "logistic_classifier = LogisticRegression(max_iter = 1000)\n",
    "logistic_classifier"
   ]
  },
  {
   "cell_type": "code",
   "execution_count": 15,
   "metadata": {},
   "outputs": [],
   "source": [
    "# Set up hyperparameter grid \n",
    "from sklearn.model_selection import GridSearchCV\n",
    "param_grid = {'C': [1, 5, 10, 50],\n",
    "              'penalty': ('l2', 'none')}\n",
    "\n",
    "# Set up the grid search\n",
    "logistic = GridSearchCV(logistic_classifier, param_grid, verbose=3)"
   ]
  },
  {
   "cell_type": "code",
   "execution_count": 16,
   "metadata": {},
   "outputs": [
    {
     "name": "stdout",
     "output_type": "stream",
     "text": [
      "Fitting 5 folds for each of 8 candidates, totalling 40 fits\n",
      "[CV] C=1, penalty=l2 .................................................\n"
     ]
    },
    {
     "name": "stderr",
     "output_type": "stream",
     "text": [
      "[Parallel(n_jobs=1)]: Using backend SequentialBackend with 1 concurrent workers.\n"
     ]
    },
    {
     "name": "stdout",
     "output_type": "stream",
     "text": [
      "[CV] ..................... C=1, penalty=l2, score=0.785, total=   1.1s\n",
      "[CV] C=1, penalty=l2 .................................................\n"
     ]
    },
    {
     "name": "stderr",
     "output_type": "stream",
     "text": [
      "[Parallel(n_jobs=1)]: Done   1 out of   1 | elapsed:    1.1s remaining:    0.0s\n"
     ]
    },
    {
     "name": "stdout",
     "output_type": "stream",
     "text": [
      "[CV] ..................... C=1, penalty=l2, score=0.776, total=   1.1s\n",
      "[CV] C=1, penalty=l2 .................................................\n"
     ]
    },
    {
     "name": "stderr",
     "output_type": "stream",
     "text": [
      "[Parallel(n_jobs=1)]: Done   2 out of   2 | elapsed:    2.2s remaining:    0.0s\n"
     ]
    },
    {
     "name": "stdout",
     "output_type": "stream",
     "text": [
      "[CV] ..................... C=1, penalty=l2, score=0.761, total=   0.9s\n",
      "[CV] C=1, penalty=l2 .................................................\n",
      "[CV] ..................... C=1, penalty=l2, score=0.778, total=   0.9s\n",
      "[CV] C=1, penalty=l2 .................................................\n",
      "[CV] ..................... C=1, penalty=l2, score=0.774, total=   0.3s\n",
      "[CV] C=1, penalty=none ...............................................\n",
      "[CV] ................... C=1, penalty=none, score=0.788, total=   0.5s\n",
      "[CV] C=1, penalty=none ...............................................\n",
      "[CV] ................... C=1, penalty=none, score=0.777, total=   0.5s\n",
      "[CV] C=1, penalty=none ...............................................\n",
      "[CV] ................... C=1, penalty=none, score=0.763, total=   0.5s\n",
      "[CV] C=1, penalty=none ...............................................\n",
      "[CV] ................... C=1, penalty=none, score=0.781, total=   1.0s\n",
      "[CV] C=1, penalty=none ...............................................\n",
      "[CV] ................... C=1, penalty=none, score=0.775, total=   0.4s\n",
      "[CV] C=5, penalty=l2 .................................................\n",
      "[CV] ..................... C=5, penalty=l2, score=0.786, total=   0.4s\n",
      "[CV] C=5, penalty=l2 .................................................\n",
      "[CV] ..................... C=5, penalty=l2, score=0.775, total=   0.3s\n",
      "[CV] C=5, penalty=l2 .................................................\n",
      "[CV] ..................... C=5, penalty=l2, score=0.762, total=   0.5s\n",
      "[CV] C=5, penalty=l2 .................................................\n",
      "[CV] ..................... C=5, penalty=l2, score=0.779, total=   1.0s\n",
      "[CV] C=5, penalty=l2 .................................................\n",
      "[CV] ..................... C=5, penalty=l2, score=0.775, total=   1.0s\n",
      "[CV] C=5, penalty=none ...............................................\n"
     ]
    },
    {
     "name": "stderr",
     "output_type": "stream",
     "text": [
      "/Users/kasiakalemba/opt/anaconda3/envs/PythonData2020_2/lib/python3.6/site-packages/sklearn/linear_model/_logistic.py:1321: UserWarning: Setting penalty='none' will ignore the C and l1_ratio parameters\n",
      "  \"Setting penalty='none' will ignore the C and l1_ratio \"\n"
     ]
    },
    {
     "name": "stdout",
     "output_type": "stream",
     "text": [
      "[CV] ................... C=5, penalty=none, score=0.788, total=   0.9s\n",
      "[CV] C=5, penalty=none ...............................................\n"
     ]
    },
    {
     "name": "stderr",
     "output_type": "stream",
     "text": [
      "/Users/kasiakalemba/opt/anaconda3/envs/PythonData2020_2/lib/python3.6/site-packages/sklearn/linear_model/_logistic.py:1321: UserWarning: Setting penalty='none' will ignore the C and l1_ratio parameters\n",
      "  \"Setting penalty='none' will ignore the C and l1_ratio \"\n"
     ]
    },
    {
     "name": "stdout",
     "output_type": "stream",
     "text": [
      "[CV] ................... C=5, penalty=none, score=0.777, total=   0.5s\n",
      "[CV] C=5, penalty=none ...............................................\n"
     ]
    },
    {
     "name": "stderr",
     "output_type": "stream",
     "text": [
      "/Users/kasiakalemba/opt/anaconda3/envs/PythonData2020_2/lib/python3.6/site-packages/sklearn/linear_model/_logistic.py:1321: UserWarning: Setting penalty='none' will ignore the C and l1_ratio parameters\n",
      "  \"Setting penalty='none' will ignore the C and l1_ratio \"\n"
     ]
    },
    {
     "name": "stdout",
     "output_type": "stream",
     "text": [
      "[CV] ................... C=5, penalty=none, score=0.763, total=   0.5s\n",
      "[CV] C=5, penalty=none ...............................................\n"
     ]
    },
    {
     "name": "stderr",
     "output_type": "stream",
     "text": [
      "/Users/kasiakalemba/opt/anaconda3/envs/PythonData2020_2/lib/python3.6/site-packages/sklearn/linear_model/_logistic.py:1321: UserWarning: Setting penalty='none' will ignore the C and l1_ratio parameters\n",
      "  \"Setting penalty='none' will ignore the C and l1_ratio \"\n"
     ]
    },
    {
     "name": "stdout",
     "output_type": "stream",
     "text": [
      "[CV] ................... C=5, penalty=none, score=0.781, total=   1.1s\n",
      "[CV] C=5, penalty=none ...............................................\n"
     ]
    },
    {
     "name": "stderr",
     "output_type": "stream",
     "text": [
      "/Users/kasiakalemba/opt/anaconda3/envs/PythonData2020_2/lib/python3.6/site-packages/sklearn/linear_model/_logistic.py:1321: UserWarning: Setting penalty='none' will ignore the C and l1_ratio parameters\n",
      "  \"Setting penalty='none' will ignore the C and l1_ratio \"\n"
     ]
    },
    {
     "name": "stdout",
     "output_type": "stream",
     "text": [
      "[CV] ................... C=5, penalty=none, score=0.775, total=   0.9s\n",
      "[CV] C=10, penalty=l2 ................................................\n",
      "[CV] .................... C=10, penalty=l2, score=0.789, total=   1.1s\n",
      "[CV] C=10, penalty=l2 ................................................\n",
      "[CV] .................... C=10, penalty=l2, score=0.776, total=   0.4s\n",
      "[CV] C=10, penalty=l2 ................................................\n",
      "[CV] .................... C=10, penalty=l2, score=0.764, total=   0.7s\n",
      "[CV] C=10, penalty=l2 ................................................\n",
      "[CV] .................... C=10, penalty=l2, score=0.778, total=   0.5s\n",
      "[CV] C=10, penalty=l2 ................................................\n",
      "[CV] .................... C=10, penalty=l2, score=0.775, total=   0.3s\n",
      "[CV] C=10, penalty=none ..............................................\n"
     ]
    },
    {
     "name": "stderr",
     "output_type": "stream",
     "text": [
      "/Users/kasiakalemba/opt/anaconda3/envs/PythonData2020_2/lib/python3.6/site-packages/sklearn/linear_model/_logistic.py:1321: UserWarning: Setting penalty='none' will ignore the C and l1_ratio parameters\n",
      "  \"Setting penalty='none' will ignore the C and l1_ratio \"\n"
     ]
    },
    {
     "name": "stdout",
     "output_type": "stream",
     "text": [
      "[CV] .................. C=10, penalty=none, score=0.788, total=   0.4s\n",
      "[CV] C=10, penalty=none ..............................................\n"
     ]
    },
    {
     "name": "stderr",
     "output_type": "stream",
     "text": [
      "/Users/kasiakalemba/opt/anaconda3/envs/PythonData2020_2/lib/python3.6/site-packages/sklearn/linear_model/_logistic.py:1321: UserWarning: Setting penalty='none' will ignore the C and l1_ratio parameters\n",
      "  \"Setting penalty='none' will ignore the C and l1_ratio \"\n"
     ]
    },
    {
     "name": "stdout",
     "output_type": "stream",
     "text": [
      "[CV] .................. C=10, penalty=none, score=0.777, total=   0.5s\n",
      "[CV] C=10, penalty=none ..............................................\n"
     ]
    },
    {
     "name": "stderr",
     "output_type": "stream",
     "text": [
      "/Users/kasiakalemba/opt/anaconda3/envs/PythonData2020_2/lib/python3.6/site-packages/sklearn/linear_model/_logistic.py:1321: UserWarning: Setting penalty='none' will ignore the C and l1_ratio parameters\n",
      "  \"Setting penalty='none' will ignore the C and l1_ratio \"\n"
     ]
    },
    {
     "name": "stdout",
     "output_type": "stream",
     "text": [
      "[CV] .................. C=10, penalty=none, score=0.763, total=   0.6s\n",
      "[CV] C=10, penalty=none ..............................................\n"
     ]
    },
    {
     "name": "stderr",
     "output_type": "stream",
     "text": [
      "/Users/kasiakalemba/opt/anaconda3/envs/PythonData2020_2/lib/python3.6/site-packages/sklearn/linear_model/_logistic.py:1321: UserWarning: Setting penalty='none' will ignore the C and l1_ratio parameters\n",
      "  \"Setting penalty='none' will ignore the C and l1_ratio \"\n"
     ]
    },
    {
     "name": "stdout",
     "output_type": "stream",
     "text": [
      "[CV] .................. C=10, penalty=none, score=0.781, total=   1.3s\n",
      "[CV] C=10, penalty=none ..............................................\n"
     ]
    },
    {
     "name": "stderr",
     "output_type": "stream",
     "text": [
      "/Users/kasiakalemba/opt/anaconda3/envs/PythonData2020_2/lib/python3.6/site-packages/sklearn/linear_model/_logistic.py:1321: UserWarning: Setting penalty='none' will ignore the C and l1_ratio parameters\n",
      "  \"Setting penalty='none' will ignore the C and l1_ratio \"\n"
     ]
    },
    {
     "name": "stdout",
     "output_type": "stream",
     "text": [
      "[CV] .................. C=10, penalty=none, score=0.775, total=   0.5s\n",
      "[CV] C=50, penalty=l2 ................................................\n",
      "[CV] .................... C=50, penalty=l2, score=0.786, total=   1.5s\n",
      "[CV] C=50, penalty=l2 ................................................\n",
      "[CV] .................... C=50, penalty=l2, score=0.776, total=   0.4s\n",
      "[CV] C=50, penalty=l2 ................................................\n",
      "[CV] .................... C=50, penalty=l2, score=0.764, total=   0.8s\n",
      "[CV] C=50, penalty=l2 ................................................\n",
      "[CV] .................... C=50, penalty=l2, score=0.778, total=   0.9s\n",
      "[CV] C=50, penalty=l2 ................................................\n",
      "[CV] .................... C=50, penalty=l2, score=0.774, total=   0.4s\n",
      "[CV] C=50, penalty=none ..............................................\n"
     ]
    },
    {
     "name": "stderr",
     "output_type": "stream",
     "text": [
      "/Users/kasiakalemba/opt/anaconda3/envs/PythonData2020_2/lib/python3.6/site-packages/sklearn/linear_model/_logistic.py:1321: UserWarning: Setting penalty='none' will ignore the C and l1_ratio parameters\n",
      "  \"Setting penalty='none' will ignore the C and l1_ratio \"\n"
     ]
    },
    {
     "name": "stdout",
     "output_type": "stream",
     "text": [
      "[CV] .................. C=50, penalty=none, score=0.788, total=   0.6s\n",
      "[CV] C=50, penalty=none ..............................................\n"
     ]
    },
    {
     "name": "stderr",
     "output_type": "stream",
     "text": [
      "/Users/kasiakalemba/opt/anaconda3/envs/PythonData2020_2/lib/python3.6/site-packages/sklearn/linear_model/_logistic.py:1321: UserWarning: Setting penalty='none' will ignore the C and l1_ratio parameters\n",
      "  \"Setting penalty='none' will ignore the C and l1_ratio \"\n"
     ]
    },
    {
     "name": "stdout",
     "output_type": "stream",
     "text": [
      "[CV] .................. C=50, penalty=none, score=0.777, total=   0.5s\n",
      "[CV] C=50, penalty=none ..............................................\n"
     ]
    },
    {
     "name": "stderr",
     "output_type": "stream",
     "text": [
      "/Users/kasiakalemba/opt/anaconda3/envs/PythonData2020_2/lib/python3.6/site-packages/sklearn/linear_model/_logistic.py:1321: UserWarning: Setting penalty='none' will ignore the C and l1_ratio parameters\n",
      "  \"Setting penalty='none' will ignore the C and l1_ratio \"\n"
     ]
    },
    {
     "name": "stdout",
     "output_type": "stream",
     "text": [
      "[CV] .................. C=50, penalty=none, score=0.763, total=   0.9s\n",
      "[CV] C=50, penalty=none ..............................................\n"
     ]
    },
    {
     "name": "stderr",
     "output_type": "stream",
     "text": [
      "/Users/kasiakalemba/opt/anaconda3/envs/PythonData2020_2/lib/python3.6/site-packages/sklearn/linear_model/_logistic.py:1321: UserWarning: Setting penalty='none' will ignore the C and l1_ratio parameters\n",
      "  \"Setting penalty='none' will ignore the C and l1_ratio \"\n"
     ]
    },
    {
     "name": "stdout",
     "output_type": "stream",
     "text": [
      "[CV] .................. C=50, penalty=none, score=0.781, total=   1.1s\n",
      "[CV] C=50, penalty=none ..............................................\n"
     ]
    },
    {
     "name": "stderr",
     "output_type": "stream",
     "text": [
      "/Users/kasiakalemba/opt/anaconda3/envs/PythonData2020_2/lib/python3.6/site-packages/sklearn/linear_model/_logistic.py:1321: UserWarning: Setting penalty='none' will ignore the C and l1_ratio parameters\n",
      "  \"Setting penalty='none' will ignore the C and l1_ratio \"\n"
     ]
    },
    {
     "name": "stdout",
     "output_type": "stream",
     "text": [
      "[CV] .................. C=50, penalty=none, score=0.775, total=   0.5s\n"
     ]
    },
    {
     "name": "stderr",
     "output_type": "stream",
     "text": [
      "[Parallel(n_jobs=1)]: Done  40 out of  40 | elapsed:   28.4s finished\n"
     ]
    },
    {
     "data": {
      "text/plain": [
       "GridSearchCV(estimator=LogisticRegression(max_iter=1000),\n",
       "             param_grid={'C': [1, 5, 10, 50], 'penalty': ('l2', 'none')},\n",
       "             verbose=3)"
      ]
     },
     "execution_count": 16,
     "metadata": {},
     "output_type": "execute_result"
    }
   ],
   "source": [
    "# Fit the model using the grid search estimator. \n",
    "logistic.fit(X_train, y_train)"
   ]
  },
  {
   "cell_type": "code",
   "execution_count": 17,
   "metadata": {},
   "outputs": [
    {
     "name": "stdout",
     "output_type": "stream",
     "text": [
      "{'C': 1, 'penalty': 'none'}\n",
      "0.7766549749306865\n"
     ]
    }
   ],
   "source": [
    "# List the best parameters for this dataset\n",
    "print(logistic.best_params_)\n",
    "\n",
    "# List the best score\n",
    "print(logistic.best_score_)"
   ]
  },
  {
   "cell_type": "code",
   "execution_count": 18,
   "metadata": {},
   "outputs": [
    {
     "name": "stdout",
     "output_type": "stream",
     "text": [
      "Logistic Model Training Data Score: 0.7379362960137326\n",
      "Logistic Model Testing Data Score: 0.7437070938215103\n"
     ]
    }
   ],
   "source": [
    "# Score the model\n",
    "logistic_model = logistic.best_estimator_\n",
    "print(f\"Logistic Model Training Data Score: {logistic_model.score(X_train_scaled, y_train)}\")\n",
    "print(f\"Logistic Model Testing Data Score: {logistic_model.score(X_test_scaled, y_test)}\")"
   ]
  },
  {
   "cell_type": "markdown",
   "metadata": {},
   "source": [
    "### Save the Model"
   ]
  },
  {
   "cell_type": "code",
   "execution_count": 19,
   "metadata": {},
   "outputs": [
    {
     "data": {
      "text/plain": [
       "['logistic_model.sav']"
      ]
     },
     "execution_count": 19,
     "metadata": {},
     "output_type": "execute_result"
    }
   ],
   "source": [
    "import joblib\n",
    "filename = 'logistic_model.sav'\n",
    "joblib.dump(logistic_model, filename)"
   ]
  },
  {
   "cell_type": "markdown",
   "metadata": {},
   "source": [
    "### SVM Model"
   ]
  },
  {
   "cell_type": "markdown",
   "metadata": {},
   "source": [
    "\"In the SVM algorithm, we plot each data item as a point in n-dimensional space (where n is number of features you have) with the value of each feature being the value of a particular coordinate. Then, we perform classification by finding the hyper-plane that differentiates the two classes very well.\" - www.analyticsvidhya.com"
   ]
  },
  {
   "cell_type": "code",
   "execution_count": 20,
   "metadata": {},
   "outputs": [
    {
     "data": {
      "text/plain": [
       "SVC(kernel='linear')"
      ]
     },
     "execution_count": 20,
     "metadata": {},
     "output_type": "execute_result"
    }
   ],
   "source": [
    "from sklearn.svm import SVC\n",
    "\n",
    "# creates SVC model\n",
    "svm_model = SVC(kernel='linear')\n",
    "svm_model"
   ]
  },
  {
   "cell_type": "code",
   "execution_count": 21,
   "metadata": {},
   "outputs": [],
   "source": [
    "# sets up hyperparameter grid\n",
    "param_grid = {'C': [1, 5, 10, 50], \n",
    "             'gamma': [1,5,10,50,100]}\n",
    "\n",
    "# grid search\n",
    "svm_grid = GridSearchCV(svm_model, param_grid, verbose=3)"
   ]
  },
  {
   "cell_type": "code",
   "execution_count": 22,
   "metadata": {},
   "outputs": [
    {
     "name": "stdout",
     "output_type": "stream",
     "text": [
      "Fitting 5 folds for each of 20 candidates, totalling 100 fits\n",
      "[CV] C=1, gamma=1 ....................................................\n"
     ]
    },
    {
     "name": "stderr",
     "output_type": "stream",
     "text": [
      "[Parallel(n_jobs=1)]: Using backend SequentialBackend with 1 concurrent workers.\n"
     ]
    },
    {
     "name": "stdout",
     "output_type": "stream",
     "text": [
      "[CV] ........................ C=1, gamma=1, score=0.742, total=   0.3s\n",
      "[CV] C=1, gamma=1 ....................................................\n",
      "[CV] ........................ C=1, gamma=1, score=0.733, total=   0.2s\n",
      "[CV] C=1, gamma=1 ....................................................\n"
     ]
    },
    {
     "name": "stderr",
     "output_type": "stream",
     "text": [
      "[Parallel(n_jobs=1)]: Done   1 out of   1 | elapsed:    0.3s remaining:    0.0s\n",
      "[Parallel(n_jobs=1)]: Done   2 out of   2 | elapsed:    0.5s remaining:    0.0s\n"
     ]
    },
    {
     "name": "stdout",
     "output_type": "stream",
     "text": [
      "[CV] ........................ C=1, gamma=1, score=0.743, total=   0.2s\n",
      "[CV] C=1, gamma=1 ....................................................\n",
      "[CV] ........................ C=1, gamma=1, score=0.735, total=   0.1s\n",
      "[CV] C=1, gamma=1 ....................................................\n",
      "[CV] ........................ C=1, gamma=1, score=0.738, total=   0.2s\n",
      "[CV] C=1, gamma=5 ....................................................\n",
      "[CV] ........................ C=1, gamma=5, score=0.742, total=   0.1s\n",
      "[CV] C=1, gamma=5 ....................................................\n",
      "[CV] ........................ C=1, gamma=5, score=0.733, total=   0.4s\n",
      "[CV] C=1, gamma=5 ....................................................\n",
      "[CV] ........................ C=1, gamma=5, score=0.743, total=   0.3s\n",
      "[CV] C=1, gamma=5 ....................................................\n",
      "[CV] ........................ C=1, gamma=5, score=0.735, total=   0.1s\n",
      "[CV] C=1, gamma=5 ....................................................\n",
      "[CV] ........................ C=1, gamma=5, score=0.738, total=   0.2s\n",
      "[CV] C=1, gamma=10 ...................................................\n",
      "[CV] ....................... C=1, gamma=10, score=0.742, total=   0.2s\n",
      "[CV] C=1, gamma=10 ...................................................\n",
      "[CV] ....................... C=1, gamma=10, score=0.733, total=   0.2s\n",
      "[CV] C=1, gamma=10 ...................................................\n",
      "[CV] ....................... C=1, gamma=10, score=0.743, total=   0.2s\n",
      "[CV] C=1, gamma=10 ...................................................\n",
      "[CV] ....................... C=1, gamma=10, score=0.735, total=   0.2s\n",
      "[CV] C=1, gamma=10 ...................................................\n",
      "[CV] ....................... C=1, gamma=10, score=0.738, total=   0.1s\n",
      "[CV] C=1, gamma=50 ...................................................\n",
      "[CV] ....................... C=1, gamma=50, score=0.742, total=   0.2s\n",
      "[CV] C=1, gamma=50 ...................................................\n",
      "[CV] ....................... C=1, gamma=50, score=0.733, total=   0.1s\n",
      "[CV] C=1, gamma=50 ...................................................\n",
      "[CV] ....................... C=1, gamma=50, score=0.743, total=   0.1s\n",
      "[CV] C=1, gamma=50 ...................................................\n",
      "[CV] ....................... C=1, gamma=50, score=0.735, total=   0.1s\n",
      "[CV] C=1, gamma=50 ...................................................\n",
      "[CV] ....................... C=1, gamma=50, score=0.738, total=   0.2s\n",
      "[CV] C=1, gamma=100 ..................................................\n",
      "[CV] ...................... C=1, gamma=100, score=0.742, total=   0.1s\n",
      "[CV] C=1, gamma=100 ..................................................\n",
      "[CV] ...................... C=1, gamma=100, score=0.733, total=   0.2s\n",
      "[CV] C=1, gamma=100 ..................................................\n",
      "[CV] ...................... C=1, gamma=100, score=0.743, total=   0.1s\n",
      "[CV] C=1, gamma=100 ..................................................\n",
      "[CV] ...................... C=1, gamma=100, score=0.735, total=   0.1s\n",
      "[CV] C=1, gamma=100 ..................................................\n",
      "[CV] ...................... C=1, gamma=100, score=0.738, total=   0.1s\n",
      "[CV] C=5, gamma=1 ....................................................\n",
      "[CV] ........................ C=5, gamma=1, score=0.749, total=   0.2s\n",
      "[CV] C=5, gamma=1 ....................................................\n",
      "[CV] ........................ C=5, gamma=1, score=0.787, total=   0.1s\n",
      "[CV] C=5, gamma=1 ....................................................\n",
      "[CV] ........................ C=5, gamma=1, score=0.743, total=   0.1s\n",
      "[CV] C=5, gamma=1 ....................................................\n",
      "[CV] ........................ C=5, gamma=1, score=0.732, total=   0.1s\n",
      "[CV] C=5, gamma=1 ....................................................\n",
      "[CV] ........................ C=5, gamma=1, score=0.762, total=   0.2s\n",
      "[CV] C=5, gamma=5 ....................................................\n",
      "[CV] ........................ C=5, gamma=5, score=0.749, total=   0.2s\n",
      "[CV] C=5, gamma=5 ....................................................\n",
      "[CV] ........................ C=5, gamma=5, score=0.787, total=   0.1s\n",
      "[CV] C=5, gamma=5 ....................................................\n",
      "[CV] ........................ C=5, gamma=5, score=0.743, total=   0.1s\n",
      "[CV] C=5, gamma=5 ....................................................\n",
      "[CV] ........................ C=5, gamma=5, score=0.732, total=   0.1s\n",
      "[CV] C=5, gamma=5 ....................................................\n",
      "[CV] ........................ C=5, gamma=5, score=0.762, total=   0.2s\n",
      "[CV] C=5, gamma=10 ...................................................\n",
      "[CV] ....................... C=5, gamma=10, score=0.749, total=   0.2s\n",
      "[CV] C=5, gamma=10 ...................................................\n",
      "[CV] ....................... C=5, gamma=10, score=0.787, total=   0.1s\n",
      "[CV] C=5, gamma=10 ...................................................\n",
      "[CV] ....................... C=5, gamma=10, score=0.743, total=   0.2s\n",
      "[CV] C=5, gamma=10 ...................................................\n",
      "[CV] ....................... C=5, gamma=10, score=0.732, total=   0.1s\n",
      "[CV] C=5, gamma=10 ...................................................\n",
      "[CV] ....................... C=5, gamma=10, score=0.762, total=   0.1s\n",
      "[CV] C=5, gamma=50 ...................................................\n",
      "[CV] ....................... C=5, gamma=50, score=0.749, total=   0.1s\n",
      "[CV] C=5, gamma=50 ...................................................\n",
      "[CV] ....................... C=5, gamma=50, score=0.787, total=   0.2s\n",
      "[CV] C=5, gamma=50 ...................................................\n",
      "[CV] ....................... C=5, gamma=50, score=0.743, total=   0.1s\n",
      "[CV] C=5, gamma=50 ...................................................\n",
      "[CV] ....................... C=5, gamma=50, score=0.732, total=   0.1s\n",
      "[CV] C=5, gamma=50 ...................................................\n",
      "[CV] ....................... C=5, gamma=50, score=0.762, total=   0.1s\n",
      "[CV] C=5, gamma=100 ..................................................\n",
      "[CV] ...................... C=5, gamma=100, score=0.749, total=   0.1s\n",
      "[CV] C=5, gamma=100 ..................................................\n",
      "[CV] ...................... C=5, gamma=100, score=0.787, total=   0.1s\n",
      "[CV] C=5, gamma=100 ..................................................\n",
      "[CV] ...................... C=5, gamma=100, score=0.743, total=   0.1s\n",
      "[CV] C=5, gamma=100 ..................................................\n",
      "[CV] ...................... C=5, gamma=100, score=0.732, total=   0.1s\n",
      "[CV] C=5, gamma=100 ..................................................\n",
      "[CV] ...................... C=5, gamma=100, score=0.762, total=   0.2s\n",
      "[CV] C=10, gamma=1 ...................................................\n",
      "[CV] ....................... C=10, gamma=1, score=0.741, total=   0.2s\n",
      "[CV] C=10, gamma=1 ...................................................\n",
      "[CV] ....................... C=10, gamma=1, score=0.735, total=   0.3s\n",
      "[CV] C=10, gamma=1 ...................................................\n",
      "[CV] ....................... C=10, gamma=1, score=0.765, total=   0.4s\n",
      "[CV] C=10, gamma=1 ...................................................\n",
      "[CV] ....................... C=10, gamma=1, score=0.731, total=   0.7s\n",
      "[CV] C=10, gamma=1 ...................................................\n",
      "[CV] ....................... C=10, gamma=1, score=0.740, total=   0.3s\n",
      "[CV] C=10, gamma=5 ...................................................\n",
      "[CV] ....................... C=10, gamma=5, score=0.741, total=   0.4s\n",
      "[CV] C=10, gamma=5 ...................................................\n",
      "[CV] ....................... C=10, gamma=5, score=0.735, total=   0.2s\n",
      "[CV] C=10, gamma=5 ...................................................\n",
      "[CV] ....................... C=10, gamma=5, score=0.765, total=   0.2s\n",
      "[CV] C=10, gamma=5 ...................................................\n",
      "[CV] ....................... C=10, gamma=5, score=0.731, total=   0.3s\n",
      "[CV] C=10, gamma=5 ...................................................\n",
      "[CV] ....................... C=10, gamma=5, score=0.740, total=   0.3s\n",
      "[CV] C=10, gamma=10 ..................................................\n",
      "[CV] ...................... C=10, gamma=10, score=0.741, total=   0.1s\n",
      "[CV] C=10, gamma=10 ..................................................\n"
     ]
    },
    {
     "name": "stdout",
     "output_type": "stream",
     "text": [
      "[CV] ...................... C=10, gamma=10, score=0.735, total=   0.1s\n",
      "[CV] C=10, gamma=10 ..................................................\n",
      "[CV] ...................... C=10, gamma=10, score=0.765, total=   0.1s\n",
      "[CV] C=10, gamma=10 ..................................................\n",
      "[CV] ...................... C=10, gamma=10, score=0.731, total=   0.1s\n",
      "[CV] C=10, gamma=10 ..................................................\n",
      "[CV] ...................... C=10, gamma=10, score=0.740, total=   0.1s\n",
      "[CV] C=10, gamma=50 ..................................................\n",
      "[CV] ...................... C=10, gamma=50, score=0.741, total=   0.5s\n",
      "[CV] C=10, gamma=50 ..................................................\n",
      "[CV] ...................... C=10, gamma=50, score=0.735, total=   0.6s\n",
      "[CV] C=10, gamma=50 ..................................................\n",
      "[CV] ...................... C=10, gamma=50, score=0.765, total=   0.5s\n",
      "[CV] C=10, gamma=50 ..................................................\n",
      "[CV] ...................... C=10, gamma=50, score=0.731, total=   0.3s\n",
      "[CV] C=10, gamma=50 ..................................................\n",
      "[CV] ...................... C=10, gamma=50, score=0.740, total=   0.2s\n",
      "[CV] C=10, gamma=100 .................................................\n",
      "[CV] ..................... C=10, gamma=100, score=0.741, total=   0.3s\n",
      "[CV] C=10, gamma=100 .................................................\n",
      "[CV] ..................... C=10, gamma=100, score=0.735, total=   0.3s\n",
      "[CV] C=10, gamma=100 .................................................\n",
      "[CV] ..................... C=10, gamma=100, score=0.765, total=   0.3s\n",
      "[CV] C=10, gamma=100 .................................................\n",
      "[CV] ..................... C=10, gamma=100, score=0.731, total=   0.3s\n",
      "[CV] C=10, gamma=100 .................................................\n",
      "[CV] ..................... C=10, gamma=100, score=0.740, total=   0.3s\n",
      "[CV] C=50, gamma=1 ...................................................\n",
      "[CV] ....................... C=50, gamma=1, score=0.748, total=   0.2s\n",
      "[CV] C=50, gamma=1 ...................................................\n",
      "[CV] ....................... C=50, gamma=1, score=0.736, total=   0.2s\n",
      "[CV] C=50, gamma=1 ...................................................\n",
      "[CV] ....................... C=50, gamma=1, score=0.754, total=   0.3s\n",
      "[CV] C=50, gamma=1 ...................................................\n",
      "[CV] ....................... C=50, gamma=1, score=0.740, total=   0.7s\n",
      "[CV] C=50, gamma=1 ...................................................\n",
      "[CV] ....................... C=50, gamma=1, score=0.745, total=   0.5s\n",
      "[CV] C=50, gamma=5 ...................................................\n",
      "[CV] ....................... C=50, gamma=5, score=0.748, total=   0.7s\n",
      "[CV] C=50, gamma=5 ...................................................\n",
      "[CV] ....................... C=50, gamma=5, score=0.736, total=   0.8s\n",
      "[CV] C=50, gamma=5 ...................................................\n",
      "[CV] ....................... C=50, gamma=5, score=0.754, total=   0.4s\n",
      "[CV] C=50, gamma=5 ...................................................\n",
      "[CV] ....................... C=50, gamma=5, score=0.740, total=   0.4s\n",
      "[CV] C=50, gamma=5 ...................................................\n",
      "[CV] ....................... C=50, gamma=5, score=0.745, total=   0.8s\n",
      "[CV] C=50, gamma=10 ..................................................\n",
      "[CV] ...................... C=50, gamma=10, score=0.748, total=   0.9s\n",
      "[CV] C=50, gamma=10 ..................................................\n",
      "[CV] ...................... C=50, gamma=10, score=0.736, total=   0.4s\n",
      "[CV] C=50, gamma=10 ..................................................\n",
      "[CV] ...................... C=50, gamma=10, score=0.754, total=   0.2s\n",
      "[CV] C=50, gamma=10 ..................................................\n",
      "[CV] ...................... C=50, gamma=10, score=0.740, total=   0.1s\n",
      "[CV] C=50, gamma=10 ..................................................\n",
      "[CV] ...................... C=50, gamma=10, score=0.745, total=   0.2s\n",
      "[CV] C=50, gamma=50 ..................................................\n",
      "[CV] ...................... C=50, gamma=50, score=0.748, total=   0.2s\n",
      "[CV] C=50, gamma=50 ..................................................\n",
      "[CV] ...................... C=50, gamma=50, score=0.736, total=   0.1s\n",
      "[CV] C=50, gamma=50 ..................................................\n",
      "[CV] ...................... C=50, gamma=50, score=0.754, total=   0.1s\n",
      "[CV] C=50, gamma=50 ..................................................\n",
      "[CV] ...................... C=50, gamma=50, score=0.740, total=   0.1s\n",
      "[CV] C=50, gamma=50 ..................................................\n",
      "[CV] ...................... C=50, gamma=50, score=0.745, total=   0.2s\n",
      "[CV] C=50, gamma=100 .................................................\n",
      "[CV] ..................... C=50, gamma=100, score=0.748, total=   0.1s\n",
      "[CV] C=50, gamma=100 .................................................\n",
      "[CV] ..................... C=50, gamma=100, score=0.736, total=   0.1s\n",
      "[CV] C=50, gamma=100 .................................................\n",
      "[CV] ..................... C=50, gamma=100, score=0.754, total=   0.1s\n",
      "[CV] C=50, gamma=100 .................................................\n",
      "[CV] ..................... C=50, gamma=100, score=0.740, total=   0.2s\n",
      "[CV] C=50, gamma=100 .................................................\n",
      "[CV] ..................... C=50, gamma=100, score=0.745, total=   0.2s\n"
     ]
    },
    {
     "name": "stderr",
     "output_type": "stream",
     "text": [
      "[Parallel(n_jobs=1)]: Done 100 out of 100 | elapsed:   24.4s finished\n"
     ]
    },
    {
     "data": {
      "text/plain": [
       "GridSearchCV(estimator=SVC(kernel='linear'),\n",
       "             param_grid={'C': [1, 5, 10, 50], 'gamma': [1, 5, 10, 50, 100]},\n",
       "             verbose=3)"
      ]
     },
     "execution_count": 22,
     "metadata": {},
     "output_type": "execute_result"
    }
   ],
   "source": [
    "# fits the model\n",
    "svm_grid.fit(X_train_scaled, y_train)"
   ]
  },
  {
   "cell_type": "code",
   "execution_count": 23,
   "metadata": {},
   "outputs": [
    {
     "name": "stdout",
     "output_type": "stream",
     "text": [
      "{'C': 5, 'gamma': 1}\n",
      "0.7547176882381621\n"
     ]
    }
   ],
   "source": [
    "# best parameters for the grid search\n",
    "print(svm_grid.best_params_)\n",
    "print(svm_grid.best_score_)"
   ]
  },
  {
   "cell_type": "code",
   "execution_count": 24,
   "metadata": {},
   "outputs": [
    {
     "name": "stdout",
     "output_type": "stream",
     "text": [
      "SVM Training Data Score: 0.743467480450124\n",
      "SVM Testing Data Score: 0.7145308924485125\n"
     ]
    }
   ],
   "source": [
    "# SVM Score\n",
    "svm_model = svm_grid.best_estimator_\n",
    "print(f\"SVM Training Data Score: {svm_model.score(X_train_scaled, y_train)}\")\n",
    "print(f\"SVM Testing Data Score: {svm_model.score(X_test_scaled, y_test)}\")"
   ]
  },
  {
   "cell_type": "markdown",
   "metadata": {},
   "source": [
    "### Random Forest Model"
   ]
  },
  {
   "cell_type": "markdown",
   "metadata": {},
   "source": [
    "\"Random forest, like its name implies, consists of a large number of individual decision trees that operate as an ensemble. Each individual tree in the random forest spits out a class prediction and the class with the most votes becomes our model’s prediction.\" - TDS"
   ]
  },
  {
   "cell_type": "code",
   "execution_count": 25,
   "metadata": {},
   "outputs": [
    {
     "data": {
      "text/plain": [
       "RandomForestClassifier()"
      ]
     },
     "execution_count": 25,
     "metadata": {},
     "output_type": "execute_result"
    }
   ],
   "source": [
    "# set up random forest model\n",
    "rf_model = RandomForestClassifier()\n",
    "rf_model"
   ]
  },
  {
   "cell_type": "code",
   "execution_count": 26,
   "metadata": {},
   "outputs": [],
   "source": [
    "# sets up hyperparameter grid\n",
    "param_grid = {'max_depth': [1, 5, 50], \n",
    "             \"n_estimators\": [250, 500, 1000, 1500],\n",
    "             \"min_samples_leaf\": [1, 2, 5, 10]}\n",
    "\n",
    "# sets up the random forest grid search\n",
    "rf_grid = GridSearchCV(rf_model, param_grid, verbose=3, cv=3)"
   ]
  },
  {
   "cell_type": "code",
   "execution_count": 27,
   "metadata": {},
   "outputs": [
    {
     "name": "stdout",
     "output_type": "stream",
     "text": [
      "Fitting 3 folds for each of 48 candidates, totalling 144 fits\n",
      "[CV] max_depth=1, min_samples_leaf=1, n_estimators=250 ...............\n"
     ]
    },
    {
     "name": "stderr",
     "output_type": "stream",
     "text": [
      "[Parallel(n_jobs=1)]: Using backend SequentialBackend with 1 concurrent workers.\n"
     ]
    },
    {
     "name": "stdout",
     "output_type": "stream",
     "text": [
      "[CV]  max_depth=1, min_samples_leaf=1, n_estimators=250, score=0.505, total=   0.8s\n",
      "[CV] max_depth=1, min_samples_leaf=1, n_estimators=250 ...............\n"
     ]
    },
    {
     "name": "stderr",
     "output_type": "stream",
     "text": [
      "[Parallel(n_jobs=1)]: Done   1 out of   1 | elapsed:    0.8s remaining:    0.0s\n"
     ]
    },
    {
     "name": "stdout",
     "output_type": "stream",
     "text": [
      "[CV]  max_depth=1, min_samples_leaf=1, n_estimators=250, score=0.506, total=   0.7s\n",
      "[CV] max_depth=1, min_samples_leaf=1, n_estimators=250 ...............\n"
     ]
    },
    {
     "name": "stderr",
     "output_type": "stream",
     "text": [
      "[Parallel(n_jobs=1)]: Done   2 out of   2 | elapsed:    1.5s remaining:    0.0s\n"
     ]
    },
    {
     "name": "stdout",
     "output_type": "stream",
     "text": [
      "[CV]  max_depth=1, min_samples_leaf=1, n_estimators=250, score=0.506, total=   0.7s\n",
      "[CV] max_depth=1, min_samples_leaf=1, n_estimators=500 ...............\n",
      "[CV]  max_depth=1, min_samples_leaf=1, n_estimators=500, score=0.505, total=   1.4s\n",
      "[CV] max_depth=1, min_samples_leaf=1, n_estimators=500 ...............\n",
      "[CV]  max_depth=1, min_samples_leaf=1, n_estimators=500, score=0.506, total=   1.4s\n",
      "[CV] max_depth=1, min_samples_leaf=1, n_estimators=500 ...............\n",
      "[CV]  max_depth=1, min_samples_leaf=1, n_estimators=500, score=0.506, total=   1.3s\n",
      "[CV] max_depth=1, min_samples_leaf=1, n_estimators=1000 ..............\n",
      "[CV]  max_depth=1, min_samples_leaf=1, n_estimators=1000, score=0.505, total=   2.6s\n",
      "[CV] max_depth=1, min_samples_leaf=1, n_estimators=1000 ..............\n",
      "[CV]  max_depth=1, min_samples_leaf=1, n_estimators=1000, score=0.506, total=   2.5s\n",
      "[CV] max_depth=1, min_samples_leaf=1, n_estimators=1000 ..............\n",
      "[CV]  max_depth=1, min_samples_leaf=1, n_estimators=1000, score=0.506, total=   2.7s\n",
      "[CV] max_depth=1, min_samples_leaf=1, n_estimators=1500 ..............\n",
      "[CV]  max_depth=1, min_samples_leaf=1, n_estimators=1500, score=0.505, total=   3.8s\n",
      "[CV] max_depth=1, min_samples_leaf=1, n_estimators=1500 ..............\n",
      "[CV]  max_depth=1, min_samples_leaf=1, n_estimators=1500, score=0.506, total=   4.0s\n",
      "[CV] max_depth=1, min_samples_leaf=1, n_estimators=1500 ..............\n",
      "[CV]  max_depth=1, min_samples_leaf=1, n_estimators=1500, score=0.506, total=   5.1s\n",
      "[CV] max_depth=1, min_samples_leaf=2, n_estimators=250 ...............\n",
      "[CV]  max_depth=1, min_samples_leaf=2, n_estimators=250, score=0.505, total=   0.6s\n",
      "[CV] max_depth=1, min_samples_leaf=2, n_estimators=250 ...............\n",
      "[CV]  max_depth=1, min_samples_leaf=2, n_estimators=250, score=0.506, total=   0.8s\n",
      "[CV] max_depth=1, min_samples_leaf=2, n_estimators=250 ...............\n",
      "[CV]  max_depth=1, min_samples_leaf=2, n_estimators=250, score=0.506, total=   0.7s\n",
      "[CV] max_depth=1, min_samples_leaf=2, n_estimators=500 ...............\n",
      "[CV]  max_depth=1, min_samples_leaf=2, n_estimators=500, score=0.505, total=   1.9s\n",
      "[CV] max_depth=1, min_samples_leaf=2, n_estimators=500 ...............\n",
      "[CV]  max_depth=1, min_samples_leaf=2, n_estimators=500, score=0.506, total=   2.7s\n",
      "[CV] max_depth=1, min_samples_leaf=2, n_estimators=500 ...............\n",
      "[CV]  max_depth=1, min_samples_leaf=2, n_estimators=500, score=0.506, total=   3.0s\n",
      "[CV] max_depth=1, min_samples_leaf=2, n_estimators=1000 ..............\n",
      "[CV]  max_depth=1, min_samples_leaf=2, n_estimators=1000, score=0.505, total=   6.7s\n",
      "[CV] max_depth=1, min_samples_leaf=2, n_estimators=1000 ..............\n",
      "[CV]  max_depth=1, min_samples_leaf=2, n_estimators=1000, score=0.506, total=   6.3s\n",
      "[CV] max_depth=1, min_samples_leaf=2, n_estimators=1000 ..............\n",
      "[CV]  max_depth=1, min_samples_leaf=2, n_estimators=1000, score=0.506, total=   3.7s\n",
      "[CV] max_depth=1, min_samples_leaf=2, n_estimators=1500 ..............\n",
      "[CV]  max_depth=1, min_samples_leaf=2, n_estimators=1500, score=0.505, total=   5.2s\n",
      "[CV] max_depth=1, min_samples_leaf=2, n_estimators=1500 ..............\n",
      "[CV]  max_depth=1, min_samples_leaf=2, n_estimators=1500, score=0.506, total=   6.7s\n",
      "[CV] max_depth=1, min_samples_leaf=2, n_estimators=1500 ..............\n",
      "[CV]  max_depth=1, min_samples_leaf=2, n_estimators=1500, score=0.506, total=   7.2s\n",
      "[CV] max_depth=1, min_samples_leaf=5, n_estimators=250 ...............\n",
      "[CV]  max_depth=1, min_samples_leaf=5, n_estimators=250, score=0.505, total=   0.9s\n",
      "[CV] max_depth=1, min_samples_leaf=5, n_estimators=250 ...............\n",
      "[CV]  max_depth=1, min_samples_leaf=5, n_estimators=250, score=0.506, total=   0.8s\n",
      "[CV] max_depth=1, min_samples_leaf=5, n_estimators=250 ...............\n",
      "[CV]  max_depth=1, min_samples_leaf=5, n_estimators=250, score=0.506, total=   0.8s\n",
      "[CV] max_depth=1, min_samples_leaf=5, n_estimators=500 ...............\n",
      "[CV]  max_depth=1, min_samples_leaf=5, n_estimators=500, score=0.505, total=   1.6s\n",
      "[CV] max_depth=1, min_samples_leaf=5, n_estimators=500 ...............\n",
      "[CV]  max_depth=1, min_samples_leaf=5, n_estimators=500, score=0.506, total=   1.7s\n",
      "[CV] max_depth=1, min_samples_leaf=5, n_estimators=500 ...............\n",
      "[CV]  max_depth=1, min_samples_leaf=5, n_estimators=500, score=0.506, total=   1.4s\n",
      "[CV] max_depth=1, min_samples_leaf=5, n_estimators=1000 ..............\n",
      "[CV]  max_depth=1, min_samples_leaf=5, n_estimators=1000, score=0.505, total=   4.9s\n",
      "[CV] max_depth=1, min_samples_leaf=5, n_estimators=1000 ..............\n",
      "[CV]  max_depth=1, min_samples_leaf=5, n_estimators=1000, score=0.506, total=  10.8s\n",
      "[CV] max_depth=1, min_samples_leaf=5, n_estimators=1000 ..............\n",
      "[CV]  max_depth=1, min_samples_leaf=5, n_estimators=1000, score=0.506, total=  10.2s\n",
      "[CV] max_depth=1, min_samples_leaf=5, n_estimators=1500 ..............\n",
      "[CV]  max_depth=1, min_samples_leaf=5, n_estimators=1500, score=0.505, total=  14.7s\n",
      "[CV] max_depth=1, min_samples_leaf=5, n_estimators=1500 ..............\n",
      "[CV]  max_depth=1, min_samples_leaf=5, n_estimators=1500, score=0.506, total=   5.5s\n",
      "[CV] max_depth=1, min_samples_leaf=5, n_estimators=1500 ..............\n",
      "[CV]  max_depth=1, min_samples_leaf=5, n_estimators=1500, score=0.506, total=   4.5s\n",
      "[CV] max_depth=1, min_samples_leaf=10, n_estimators=250 ..............\n",
      "[CV]  max_depth=1, min_samples_leaf=10, n_estimators=250, score=0.505, total=   0.7s\n",
      "[CV] max_depth=1, min_samples_leaf=10, n_estimators=250 ..............\n",
      "[CV]  max_depth=1, min_samples_leaf=10, n_estimators=250, score=0.506, total=   0.8s\n",
      "[CV] max_depth=1, min_samples_leaf=10, n_estimators=250 ..............\n",
      "[CV]  max_depth=1, min_samples_leaf=10, n_estimators=250, score=0.506, total=   0.7s\n",
      "[CV] max_depth=1, min_samples_leaf=10, n_estimators=500 ..............\n",
      "[CV]  max_depth=1, min_samples_leaf=10, n_estimators=500, score=0.505, total=   2.7s\n",
      "[CV] max_depth=1, min_samples_leaf=10, n_estimators=500 ..............\n",
      "[CV]  max_depth=1, min_samples_leaf=10, n_estimators=500, score=0.506, total=   8.9s\n",
      "[CV] max_depth=1, min_samples_leaf=10, n_estimators=500 ..............\n",
      "[CV]  max_depth=1, min_samples_leaf=10, n_estimators=500, score=0.506, total=  14.2s\n",
      "[CV] max_depth=1, min_samples_leaf=10, n_estimators=1000 .............\n",
      "[CV]  max_depth=1, min_samples_leaf=10, n_estimators=1000, score=0.505, total=   8.5s\n",
      "[CV] max_depth=1, min_samples_leaf=10, n_estimators=1000 .............\n",
      "[CV]  max_depth=1, min_samples_leaf=10, n_estimators=1000, score=0.506, total=   3.5s\n",
      "[CV] max_depth=1, min_samples_leaf=10, n_estimators=1000 .............\n",
      "[CV]  max_depth=1, min_samples_leaf=10, n_estimators=1000, score=0.506, total=   2.9s\n",
      "[CV] max_depth=1, min_samples_leaf=10, n_estimators=1500 .............\n",
      "[CV]  max_depth=1, min_samples_leaf=10, n_estimators=1500, score=0.505, total=   4.3s\n",
      "[CV] max_depth=1, min_samples_leaf=10, n_estimators=1500 .............\n",
      "[CV]  max_depth=1, min_samples_leaf=10, n_estimators=1500, score=0.506, total=   4.2s\n",
      "[CV] max_depth=1, min_samples_leaf=10, n_estimators=1500 .............\n",
      "[CV]  max_depth=1, min_samples_leaf=10, n_estimators=1500, score=0.506, total=   4.7s\n",
      "[CV] max_depth=5, min_samples_leaf=1, n_estimators=250 ...............\n",
      "[CV]  max_depth=5, min_samples_leaf=1, n_estimators=250, score=0.886, total=   2.0s\n",
      "[CV] max_depth=5, min_samples_leaf=1, n_estimators=250 ...............\n",
      "[CV]  max_depth=5, min_samples_leaf=1, n_estimators=250, score=0.870, total=   2.6s\n",
      "[CV] max_depth=5, min_samples_leaf=1, n_estimators=250 ...............\n",
      "[CV]  max_depth=5, min_samples_leaf=1, n_estimators=250, score=0.856, total=   1.1s\n",
      "[CV] max_depth=5, min_samples_leaf=1, n_estimators=500 ...............\n",
      "[CV]  max_depth=5, min_samples_leaf=1, n_estimators=500, score=0.886, total=   1.8s\n",
      "[CV] max_depth=5, min_samples_leaf=1, n_estimators=500 ...............\n",
      "[CV]  max_depth=5, min_samples_leaf=1, n_estimators=500, score=0.871, total=   1.9s\n",
      "[CV] max_depth=5, min_samples_leaf=1, n_estimators=500 ...............\n",
      "[CV]  max_depth=5, min_samples_leaf=1, n_estimators=500, score=0.856, total=   2.2s\n",
      "[CV] max_depth=5, min_samples_leaf=1, n_estimators=1000 ..............\n",
      "[CV]  max_depth=5, min_samples_leaf=1, n_estimators=1000, score=0.886, total=   6.9s\n",
      "[CV] max_depth=5, min_samples_leaf=1, n_estimators=1000 ..............\n"
     ]
    },
    {
     "name": "stdout",
     "output_type": "stream",
     "text": [
      "[CV]  max_depth=5, min_samples_leaf=1, n_estimators=1000, score=0.870, total=   6.4s\n",
      "[CV] max_depth=5, min_samples_leaf=1, n_estimators=1000 ..............\n",
      "[CV]  max_depth=5, min_samples_leaf=1, n_estimators=1000, score=0.856, total=   3.8s\n",
      "[CV] max_depth=5, min_samples_leaf=1, n_estimators=1500 ..............\n",
      "[CV]  max_depth=5, min_samples_leaf=1, n_estimators=1500, score=0.887, total=   6.0s\n",
      "[CV] max_depth=5, min_samples_leaf=1, n_estimators=1500 ..............\n",
      "[CV]  max_depth=5, min_samples_leaf=1, n_estimators=1500, score=0.870, total=   5.8s\n",
      "[CV] max_depth=5, min_samples_leaf=1, n_estimators=1500 ..............\n",
      "[CV]  max_depth=5, min_samples_leaf=1, n_estimators=1500, score=0.856, total=   5.6s\n",
      "[CV] max_depth=5, min_samples_leaf=2, n_estimators=250 ...............\n",
      "[CV]  max_depth=5, min_samples_leaf=2, n_estimators=250, score=0.886, total=   0.9s\n",
      "[CV] max_depth=5, min_samples_leaf=2, n_estimators=250 ...............\n",
      "[CV]  max_depth=5, min_samples_leaf=2, n_estimators=250, score=0.870, total=   1.0s\n",
      "[CV] max_depth=5, min_samples_leaf=2, n_estimators=250 ...............\n",
      "[CV]  max_depth=5, min_samples_leaf=2, n_estimators=250, score=0.856, total=   1.1s\n",
      "[CV] max_depth=5, min_samples_leaf=2, n_estimators=500 ...............\n",
      "[CV]  max_depth=5, min_samples_leaf=2, n_estimators=500, score=0.887, total=   1.8s\n",
      "[CV] max_depth=5, min_samples_leaf=2, n_estimators=500 ...............\n",
      "[CV]  max_depth=5, min_samples_leaf=2, n_estimators=500, score=0.870, total=   1.9s\n",
      "[CV] max_depth=5, min_samples_leaf=2, n_estimators=500 ...............\n",
      "[CV]  max_depth=5, min_samples_leaf=2, n_estimators=500, score=0.856, total=   1.7s\n",
      "[CV] max_depth=5, min_samples_leaf=2, n_estimators=1000 ..............\n",
      "[CV]  max_depth=5, min_samples_leaf=2, n_estimators=1000, score=0.886, total=   3.4s\n",
      "[CV] max_depth=5, min_samples_leaf=2, n_estimators=1000 ..............\n",
      "[CV]  max_depth=5, min_samples_leaf=2, n_estimators=1000, score=0.870, total=   3.3s\n",
      "[CV] max_depth=5, min_samples_leaf=2, n_estimators=1000 ..............\n",
      "[CV]  max_depth=5, min_samples_leaf=2, n_estimators=1000, score=0.856, total=   3.3s\n",
      "[CV] max_depth=5, min_samples_leaf=2, n_estimators=1500 ..............\n",
      "[CV]  max_depth=5, min_samples_leaf=2, n_estimators=1500, score=0.886, total=   6.0s\n",
      "[CV] max_depth=5, min_samples_leaf=2, n_estimators=1500 ..............\n",
      "[CV]  max_depth=5, min_samples_leaf=2, n_estimators=1500, score=0.870, total=   5.5s\n",
      "[CV] max_depth=5, min_samples_leaf=2, n_estimators=1500 ..............\n",
      "[CV]  max_depth=5, min_samples_leaf=2, n_estimators=1500, score=0.856, total=   5.3s\n",
      "[CV] max_depth=5, min_samples_leaf=5, n_estimators=250 ...............\n",
      "[CV]  max_depth=5, min_samples_leaf=5, n_estimators=250, score=0.886, total=   1.0s\n",
      "[CV] max_depth=5, min_samples_leaf=5, n_estimators=250 ...............\n",
      "[CV]  max_depth=5, min_samples_leaf=5, n_estimators=250, score=0.871, total=   0.8s\n",
      "[CV] max_depth=5, min_samples_leaf=5, n_estimators=250 ...............\n",
      "[CV]  max_depth=5, min_samples_leaf=5, n_estimators=250, score=0.856, total=   0.8s\n",
      "[CV] max_depth=5, min_samples_leaf=5, n_estimators=500 ...............\n",
      "[CV]  max_depth=5, min_samples_leaf=5, n_estimators=500, score=0.887, total=   1.8s\n",
      "[CV] max_depth=5, min_samples_leaf=5, n_estimators=500 ...............\n",
      "[CV]  max_depth=5, min_samples_leaf=5, n_estimators=500, score=0.870, total=   1.7s\n",
      "[CV] max_depth=5, min_samples_leaf=5, n_estimators=500 ...............\n",
      "[CV]  max_depth=5, min_samples_leaf=5, n_estimators=500, score=0.856, total=   2.1s\n",
      "[CV] max_depth=5, min_samples_leaf=5, n_estimators=1000 ..............\n",
      "[CV]  max_depth=5, min_samples_leaf=5, n_estimators=1000, score=0.886, total=   4.2s\n",
      "[CV] max_depth=5, min_samples_leaf=5, n_estimators=1000 ..............\n",
      "[CV]  max_depth=5, min_samples_leaf=5, n_estimators=1000, score=0.870, total=   5.9s\n",
      "[CV] max_depth=5, min_samples_leaf=5, n_estimators=1000 ..............\n",
      "[CV]  max_depth=5, min_samples_leaf=5, n_estimators=1000, score=0.856, total=   3.2s\n",
      "[CV] max_depth=5, min_samples_leaf=5, n_estimators=1500 ..............\n",
      "[CV]  max_depth=5, min_samples_leaf=5, n_estimators=1500, score=0.887, total=   5.8s\n",
      "[CV] max_depth=5, min_samples_leaf=5, n_estimators=1500 ..............\n",
      "[CV]  max_depth=5, min_samples_leaf=5, n_estimators=1500, score=0.870, total=   6.8s\n",
      "[CV] max_depth=5, min_samples_leaf=5, n_estimators=1500 ..............\n",
      "[CV]  max_depth=5, min_samples_leaf=5, n_estimators=1500, score=0.856, total=   6.6s\n",
      "[CV] max_depth=5, min_samples_leaf=10, n_estimators=250 ..............\n",
      "[CV]  max_depth=5, min_samples_leaf=10, n_estimators=250, score=0.887, total=   1.0s\n",
      "[CV] max_depth=5, min_samples_leaf=10, n_estimators=250 ..............\n",
      "[CV]  max_depth=5, min_samples_leaf=10, n_estimators=250, score=0.870, total=   1.0s\n",
      "[CV] max_depth=5, min_samples_leaf=10, n_estimators=250 ..............\n",
      "[CV]  max_depth=5, min_samples_leaf=10, n_estimators=250, score=0.856, total=   1.2s\n",
      "[CV] max_depth=5, min_samples_leaf=10, n_estimators=500 ..............\n",
      "[CV]  max_depth=5, min_samples_leaf=10, n_estimators=500, score=0.887, total=   3.3s\n",
      "[CV] max_depth=5, min_samples_leaf=10, n_estimators=500 ..............\n",
      "[CV]  max_depth=5, min_samples_leaf=10, n_estimators=500, score=0.870, total=   3.8s\n",
      "[CV] max_depth=5, min_samples_leaf=10, n_estimators=500 ..............\n",
      "[CV]  max_depth=5, min_samples_leaf=10, n_estimators=500, score=0.856, total=   2.4s\n",
      "[CV] max_depth=5, min_samples_leaf=10, n_estimators=1000 .............\n",
      "[CV]  max_depth=5, min_samples_leaf=10, n_estimators=1000, score=0.887, total=   6.1s\n",
      "[CV] max_depth=5, min_samples_leaf=10, n_estimators=1000 .............\n",
      "[CV]  max_depth=5, min_samples_leaf=10, n_estimators=1000, score=0.870, total=   6.8s\n",
      "[CV] max_depth=5, min_samples_leaf=10, n_estimators=1000 .............\n",
      "[CV]  max_depth=5, min_samples_leaf=10, n_estimators=1000, score=0.856, total=   4.1s\n",
      "[CV] max_depth=5, min_samples_leaf=10, n_estimators=1500 .............\n",
      "[CV]  max_depth=5, min_samples_leaf=10, n_estimators=1500, score=0.886, total=   5.7s\n",
      "[CV] max_depth=5, min_samples_leaf=10, n_estimators=1500 .............\n",
      "[CV]  max_depth=5, min_samples_leaf=10, n_estimators=1500, score=0.870, total=   5.3s\n",
      "[CV] max_depth=5, min_samples_leaf=10, n_estimators=1500 .............\n",
      "[CV]  max_depth=5, min_samples_leaf=10, n_estimators=1500, score=0.856, total=  11.4s\n",
      "[CV] max_depth=50, min_samples_leaf=1, n_estimators=250 ..............\n",
      "[CV]  max_depth=50, min_samples_leaf=1, n_estimators=250, score=0.863, total=   3.4s\n",
      "[CV] max_depth=50, min_samples_leaf=1, n_estimators=250 ..............\n",
      "[CV]  max_depth=50, min_samples_leaf=1, n_estimators=250, score=0.851, total=   1.8s\n",
      "[CV] max_depth=50, min_samples_leaf=1, n_estimators=250 ..............\n",
      "[CV]  max_depth=50, min_samples_leaf=1, n_estimators=250, score=0.837, total=   2.4s\n",
      "[CV] max_depth=50, min_samples_leaf=1, n_estimators=500 ..............\n",
      "[CV]  max_depth=50, min_samples_leaf=1, n_estimators=500, score=0.866, total=   4.1s\n",
      "[CV] max_depth=50, min_samples_leaf=1, n_estimators=500 ..............\n",
      "[CV]  max_depth=50, min_samples_leaf=1, n_estimators=500, score=0.851, total=   2.9s\n",
      "[CV] max_depth=50, min_samples_leaf=1, n_estimators=500 ..............\n",
      "[CV]  max_depth=50, min_samples_leaf=1, n_estimators=500, score=0.839, total=   2.5s\n",
      "[CV] max_depth=50, min_samples_leaf=1, n_estimators=1000 .............\n",
      "[CV]  max_depth=50, min_samples_leaf=1, n_estimators=1000, score=0.862, total=   4.9s\n",
      "[CV] max_depth=50, min_samples_leaf=1, n_estimators=1000 .............\n",
      "[CV]  max_depth=50, min_samples_leaf=1, n_estimators=1000, score=0.851, total=   4.6s\n",
      "[CV] max_depth=50, min_samples_leaf=1, n_estimators=1000 .............\n",
      "[CV]  max_depth=50, min_samples_leaf=1, n_estimators=1000, score=0.840, total=   4.6s\n",
      "[CV] max_depth=50, min_samples_leaf=1, n_estimators=1500 .............\n",
      "[CV]  max_depth=50, min_samples_leaf=1, n_estimators=1500, score=0.862, total=   7.4s\n",
      "[CV] max_depth=50, min_samples_leaf=1, n_estimators=1500 .............\n",
      "[CV]  max_depth=50, min_samples_leaf=1, n_estimators=1500, score=0.850, total=   7.2s\n",
      "[CV] max_depth=50, min_samples_leaf=1, n_estimators=1500 .............\n",
      "[CV]  max_depth=50, min_samples_leaf=1, n_estimators=1500, score=0.839, total=   7.1s\n",
      "[CV] max_depth=50, min_samples_leaf=2, n_estimators=250 ..............\n"
     ]
    },
    {
     "name": "stdout",
     "output_type": "stream",
     "text": [
      "[CV]  max_depth=50, min_samples_leaf=2, n_estimators=250, score=0.876, total=   1.3s\n",
      "[CV] max_depth=50, min_samples_leaf=2, n_estimators=250 ..............\n",
      "[CV]  max_depth=50, min_samples_leaf=2, n_estimators=250, score=0.864, total=   1.1s\n",
      "[CV] max_depth=50, min_samples_leaf=2, n_estimators=250 ..............\n",
      "[CV]  max_depth=50, min_samples_leaf=2, n_estimators=250, score=0.851, total=   1.1s\n",
      "[CV] max_depth=50, min_samples_leaf=2, n_estimators=500 ..............\n",
      "[CV]  max_depth=50, min_samples_leaf=2, n_estimators=500, score=0.874, total=   6.8s\n",
      "[CV] max_depth=50, min_samples_leaf=2, n_estimators=500 ..............\n",
      "[CV]  max_depth=50, min_samples_leaf=2, n_estimators=500, score=0.863, total=   2.9s\n",
      "[CV] max_depth=50, min_samples_leaf=2, n_estimators=500 ..............\n",
      "[CV]  max_depth=50, min_samples_leaf=2, n_estimators=500, score=0.852, total=   2.6s\n",
      "[CV] max_depth=50, min_samples_leaf=2, n_estimators=1000 .............\n",
      "[CV]  max_depth=50, min_samples_leaf=2, n_estimators=1000, score=0.877, total=   5.2s\n",
      "[CV] max_depth=50, min_samples_leaf=2, n_estimators=1000 .............\n",
      "[CV]  max_depth=50, min_samples_leaf=2, n_estimators=1000, score=0.863, total=   4.7s\n",
      "[CV] max_depth=50, min_samples_leaf=2, n_estimators=1000 .............\n",
      "[CV]  max_depth=50, min_samples_leaf=2, n_estimators=1000, score=0.851, total=   4.4s\n",
      "[CV] max_depth=50, min_samples_leaf=2, n_estimators=1500 .............\n",
      "[CV]  max_depth=50, min_samples_leaf=2, n_estimators=1500, score=0.877, total=   6.9s\n",
      "[CV] max_depth=50, min_samples_leaf=2, n_estimators=1500 .............\n",
      "[CV]  max_depth=50, min_samples_leaf=2, n_estimators=1500, score=0.864, total=   6.7s\n",
      "[CV] max_depth=50, min_samples_leaf=2, n_estimators=1500 .............\n",
      "[CV]  max_depth=50, min_samples_leaf=2, n_estimators=1500, score=0.851, total=   6.6s\n",
      "[CV] max_depth=50, min_samples_leaf=5, n_estimators=250 ..............\n",
      "[CV]  max_depth=50, min_samples_leaf=5, n_estimators=250, score=0.882, total=   1.0s\n",
      "[CV] max_depth=50, min_samples_leaf=5, n_estimators=250 ..............\n",
      "[CV]  max_depth=50, min_samples_leaf=5, n_estimators=250, score=0.869, total=   1.0s\n",
      "[CV] max_depth=50, min_samples_leaf=5, n_estimators=250 ..............\n",
      "[CV]  max_depth=50, min_samples_leaf=5, n_estimators=250, score=0.853, total=   1.0s\n",
      "[CV] max_depth=50, min_samples_leaf=5, n_estimators=500 ..............\n",
      "[CV]  max_depth=50, min_samples_leaf=5, n_estimators=500, score=0.881, total=   2.0s\n",
      "[CV] max_depth=50, min_samples_leaf=5, n_estimators=500 ..............\n",
      "[CV]  max_depth=50, min_samples_leaf=5, n_estimators=500, score=0.869, total=   2.0s\n",
      "[CV] max_depth=50, min_samples_leaf=5, n_estimators=500 ..............\n",
      "[CV]  max_depth=50, min_samples_leaf=5, n_estimators=500, score=0.853, total=   2.1s\n",
      "[CV] max_depth=50, min_samples_leaf=5, n_estimators=1000 .............\n",
      "[CV]  max_depth=50, min_samples_leaf=5, n_estimators=1000, score=0.881, total=   4.1s\n",
      "[CV] max_depth=50, min_samples_leaf=5, n_estimators=1000 .............\n",
      "[CV]  max_depth=50, min_samples_leaf=5, n_estimators=1000, score=0.871, total=   4.1s\n",
      "[CV] max_depth=50, min_samples_leaf=5, n_estimators=1000 .............\n",
      "[CV]  max_depth=50, min_samples_leaf=5, n_estimators=1000, score=0.851, total=   4.1s\n",
      "[CV] max_depth=50, min_samples_leaf=5, n_estimators=1500 .............\n",
      "[CV]  max_depth=50, min_samples_leaf=5, n_estimators=1500, score=0.880, total=   6.4s\n",
      "[CV] max_depth=50, min_samples_leaf=5, n_estimators=1500 .............\n",
      "[CV]  max_depth=50, min_samples_leaf=5, n_estimators=1500, score=0.870, total=   6.1s\n",
      "[CV] max_depth=50, min_samples_leaf=5, n_estimators=1500 .............\n",
      "[CV]  max_depth=50, min_samples_leaf=5, n_estimators=1500, score=0.852, total=   6.1s\n",
      "[CV] max_depth=50, min_samples_leaf=10, n_estimators=250 .............\n",
      "[CV]  max_depth=50, min_samples_leaf=10, n_estimators=250, score=0.886, total=   1.0s\n",
      "[CV] max_depth=50, min_samples_leaf=10, n_estimators=250 .............\n",
      "[CV]  max_depth=50, min_samples_leaf=10, n_estimators=250, score=0.870, total=   1.0s\n",
      "[CV] max_depth=50, min_samples_leaf=10, n_estimators=250 .............\n",
      "[CV]  max_depth=50, min_samples_leaf=10, n_estimators=250, score=0.857, total=   0.9s\n",
      "[CV] max_depth=50, min_samples_leaf=10, n_estimators=500 .............\n",
      "[CV]  max_depth=50, min_samples_leaf=10, n_estimators=500, score=0.886, total=   2.0s\n",
      "[CV] max_depth=50, min_samples_leaf=10, n_estimators=500 .............\n",
      "[CV]  max_depth=50, min_samples_leaf=10, n_estimators=500, score=0.870, total=   1.9s\n",
      "[CV] max_depth=50, min_samples_leaf=10, n_estimators=500 .............\n",
      "[CV]  max_depth=50, min_samples_leaf=10, n_estimators=500, score=0.856, total=   1.9s\n",
      "[CV] max_depth=50, min_samples_leaf=10, n_estimators=1000 ............\n",
      "[CV]  max_depth=50, min_samples_leaf=10, n_estimators=1000, score=0.886, total=   3.9s\n",
      "[CV] max_depth=50, min_samples_leaf=10, n_estimators=1000 ............\n",
      "[CV]  max_depth=50, min_samples_leaf=10, n_estimators=1000, score=0.871, total=   3.8s\n",
      "[CV] max_depth=50, min_samples_leaf=10, n_estimators=1000 ............\n",
      "[CV]  max_depth=50, min_samples_leaf=10, n_estimators=1000, score=0.856, total=   3.8s\n",
      "[CV] max_depth=50, min_samples_leaf=10, n_estimators=1500 ............\n",
      "[CV]  max_depth=50, min_samples_leaf=10, n_estimators=1500, score=0.886, total=   5.8s\n",
      "[CV] max_depth=50, min_samples_leaf=10, n_estimators=1500 ............\n",
      "[CV]  max_depth=50, min_samples_leaf=10, n_estimators=1500, score=0.870, total=   5.7s\n",
      "[CV] max_depth=50, min_samples_leaf=10, n_estimators=1500 ............\n",
      "[CV]  max_depth=50, min_samples_leaf=10, n_estimators=1500, score=0.856, total=   5.7s\n"
     ]
    },
    {
     "name": "stderr",
     "output_type": "stream",
     "text": [
      "[Parallel(n_jobs=1)]: Done 144 out of 144 | elapsed:  9.0min finished\n"
     ]
    },
    {
     "data": {
      "text/plain": [
       "GridSearchCV(cv=3, estimator=RandomForestClassifier(),\n",
       "             param_grid={'max_depth': [1, 5, 50],\n",
       "                         'min_samples_leaf': [1, 2, 5, 10],\n",
       "                         'n_estimators': [250, 500, 1000, 1500]},\n",
       "             verbose=3)"
      ]
     },
     "execution_count": 27,
     "metadata": {},
     "output_type": "execute_result"
    }
   ],
   "source": [
    "# fits the random forest\n",
    "rf_grid.fit(X_train_scaled, y_train)"
   ]
  },
  {
   "cell_type": "code",
   "execution_count": 28,
   "metadata": {},
   "outputs": [
    {
     "name": "stdout",
     "output_type": "stream",
     "text": [
      "{'max_depth': 5, 'min_samples_leaf': 1, 'n_estimators': 1500}\n",
      "0.8712540665768101\n"
     ]
    }
   ],
   "source": [
    "# prints out the best parameters \n",
    "print(rf_grid.best_params_)\n",
    "print(rf_grid.best_score_)"
   ]
  },
  {
   "cell_type": "code",
   "execution_count": 29,
   "metadata": {},
   "outputs": [
    {
     "name": "stdout",
     "output_type": "stream",
     "text": [
      "RF Training Data Score: 0.8743086019454511\n",
      "RF Testing Data Score: 0.8787185354691075\n"
     ]
    }
   ],
   "source": [
    "# Random Forest Model Scoring\n",
    "rf_model = rf_grid.best_estimator_\n",
    "print(f\"RF Training Data Score: {rf_model.score(X_train_scaled, y_train)}\")\n",
    "print(f\"RF Testing Data Score: {rf_model.score(X_test_scaled, y_test)}\")"
   ]
  },
  {
   "cell_type": "markdown",
   "metadata": {},
   "source": [
    "### KNN"
   ]
  },
  {
   "cell_type": "markdown",
   "metadata": {},
   "source": [
    "\"The KNN algorithm assumes that similar things exist in close proximity. In other words, similar things are near to each other.\" - TDS"
   ]
  },
  {
   "cell_type": "code",
   "execution_count": 30,
   "metadata": {},
   "outputs": [],
   "source": [
    "# import the model\n",
    "from sklearn.neighbors import KNeighborsClassifier\n",
    "import matplotlib.pyplot as plt"
   ]
  },
  {
   "cell_type": "code",
   "execution_count": 31,
   "metadata": {},
   "outputs": [],
   "source": [
    "# creates k nearest neighbor model\n",
    "knn_model = KNeighborsClassifier(n_neighbors=5)"
   ]
  },
  {
   "cell_type": "code",
   "execution_count": 32,
   "metadata": {},
   "outputs": [],
   "source": [
    "# sets up hyperparameter grid\n",
    "param_grid = {\"leaf_size\": [1, 10, 100, 200],\n",
    "                \"n_neighbors\": list(range(1, 20, 2))}\n",
    "\n",
    "# sets up the grid search\n",
    "knn_grid = GridSearchCV(knn_model, param_grid, verbose=3, cv=3)"
   ]
  },
  {
   "cell_type": "code",
   "execution_count": 33,
   "metadata": {},
   "outputs": [
    {
     "name": "stdout",
     "output_type": "stream",
     "text": [
      "Fitting 3 folds for each of 40 candidates, totalling 120 fits\n",
      "[CV] leaf_size=1, n_neighbors=1 ......................................\n",
      "[CV] .......... leaf_size=1, n_neighbors=1, score=0.808, total=   0.1s\n",
      "[CV] leaf_size=1, n_neighbors=1 ......................................\n"
     ]
    },
    {
     "name": "stderr",
     "output_type": "stream",
     "text": [
      "[Parallel(n_jobs=1)]: Using backend SequentialBackend with 1 concurrent workers.\n",
      "[Parallel(n_jobs=1)]: Done   1 out of   1 | elapsed:    0.1s remaining:    0.0s\n"
     ]
    },
    {
     "name": "stdout",
     "output_type": "stream",
     "text": [
      "[CV] .......... leaf_size=1, n_neighbors=1, score=0.808, total=   0.2s\n",
      "[CV] leaf_size=1, n_neighbors=1 ......................................\n",
      "[CV] .......... leaf_size=1, n_neighbors=1, score=0.811, total=   0.1s\n",
      "[CV] leaf_size=1, n_neighbors=3 ......................................\n"
     ]
    },
    {
     "name": "stderr",
     "output_type": "stream",
     "text": [
      "[Parallel(n_jobs=1)]: Done   2 out of   2 | elapsed:    0.3s remaining:    0.0s\n"
     ]
    },
    {
     "name": "stdout",
     "output_type": "stream",
     "text": [
      "[CV] .......... leaf_size=1, n_neighbors=3, score=0.845, total=   0.2s\n",
      "[CV] leaf_size=1, n_neighbors=3 ......................................\n",
      "[CV] .......... leaf_size=1, n_neighbors=3, score=0.835, total=   0.1s\n",
      "[CV] leaf_size=1, n_neighbors=3 ......................................\n",
      "[CV] .......... leaf_size=1, n_neighbors=3, score=0.835, total=   0.2s\n",
      "[CV] leaf_size=1, n_neighbors=5 ......................................\n",
      "[CV] .......... leaf_size=1, n_neighbors=5, score=0.859, total=   0.1s\n",
      "[CV] leaf_size=1, n_neighbors=5 ......................................\n",
      "[CV] .......... leaf_size=1, n_neighbors=5, score=0.848, total=   0.1s\n",
      "[CV] leaf_size=1, n_neighbors=5 ......................................\n",
      "[CV] .......... leaf_size=1, n_neighbors=5, score=0.843, total=   0.2s\n",
      "[CV] leaf_size=1, n_neighbors=7 ......................................\n",
      "[CV] .......... leaf_size=1, n_neighbors=7, score=0.856, total=   0.2s\n",
      "[CV] leaf_size=1, n_neighbors=7 ......................................\n",
      "[CV] .......... leaf_size=1, n_neighbors=7, score=0.852, total=   0.1s\n",
      "[CV] leaf_size=1, n_neighbors=7 ......................................\n",
      "[CV] .......... leaf_size=1, n_neighbors=7, score=0.838, total=   0.2s\n",
      "[CV] leaf_size=1, n_neighbors=9 ......................................\n",
      "[CV] .......... leaf_size=1, n_neighbors=9, score=0.861, total=   0.1s\n",
      "[CV] leaf_size=1, n_neighbors=9 ......................................\n",
      "[CV] .......... leaf_size=1, n_neighbors=9, score=0.846, total=   0.1s\n",
      "[CV] leaf_size=1, n_neighbors=9 ......................................\n",
      "[CV] .......... leaf_size=1, n_neighbors=9, score=0.844, total=   0.1s\n",
      "[CV] leaf_size=1, n_neighbors=11 .....................................\n",
      "[CV] ......... leaf_size=1, n_neighbors=11, score=0.867, total=   0.2s\n",
      "[CV] leaf_size=1, n_neighbors=11 .....................................\n",
      "[CV] ......... leaf_size=1, n_neighbors=11, score=0.847, total=   0.1s\n",
      "[CV] leaf_size=1, n_neighbors=11 .....................................\n",
      "[CV] ......... leaf_size=1, n_neighbors=11, score=0.844, total=   0.1s\n",
      "[CV] leaf_size=1, n_neighbors=13 .....................................\n",
      "[CV] ......... leaf_size=1, n_neighbors=13, score=0.864, total=   0.1s\n",
      "[CV] leaf_size=1, n_neighbors=13 .....................................\n",
      "[CV] ......... leaf_size=1, n_neighbors=13, score=0.854, total=   0.1s\n",
      "[CV] leaf_size=1, n_neighbors=13 .....................................\n",
      "[CV] ......... leaf_size=1, n_neighbors=13, score=0.844, total=   0.1s\n",
      "[CV] leaf_size=1, n_neighbors=15 .....................................\n",
      "[CV] ......... leaf_size=1, n_neighbors=15, score=0.869, total=   0.2s\n",
      "[CV] leaf_size=1, n_neighbors=15 .....................................\n",
      "[CV] ......... leaf_size=1, n_neighbors=15, score=0.852, total=   0.2s\n",
      "[CV] leaf_size=1, n_neighbors=15 .....................................\n",
      "[CV] ......... leaf_size=1, n_neighbors=15, score=0.845, total=   0.2s\n",
      "[CV] leaf_size=1, n_neighbors=17 .....................................\n",
      "[CV] ......... leaf_size=1, n_neighbors=17, score=0.872, total=   0.1s\n",
      "[CV] leaf_size=1, n_neighbors=17 .....................................\n",
      "[CV] ......... leaf_size=1, n_neighbors=17, score=0.854, total=   0.2s\n",
      "[CV] leaf_size=1, n_neighbors=17 .....................................\n",
      "[CV] ......... leaf_size=1, n_neighbors=17, score=0.848, total=   0.1s\n",
      "[CV] leaf_size=1, n_neighbors=19 .....................................\n",
      "[CV] ......... leaf_size=1, n_neighbors=19, score=0.874, total=   0.1s\n",
      "[CV] leaf_size=1, n_neighbors=19 .....................................\n",
      "[CV] ......... leaf_size=1, n_neighbors=19, score=0.859, total=   0.1s\n",
      "[CV] leaf_size=1, n_neighbors=19 .....................................\n",
      "[CV] ......... leaf_size=1, n_neighbors=19, score=0.844, total=   0.2s\n",
      "[CV] leaf_size=10, n_neighbors=1 .....................................\n",
      "[CV] ......... leaf_size=10, n_neighbors=1, score=0.808, total=   0.1s\n",
      "[CV] leaf_size=10, n_neighbors=1 .....................................\n",
      "[CV] ......... leaf_size=10, n_neighbors=1, score=0.808, total=   0.1s\n",
      "[CV] leaf_size=10, n_neighbors=1 .....................................\n",
      "[CV] ......... leaf_size=10, n_neighbors=1, score=0.811, total=   0.1s\n",
      "[CV] leaf_size=10, n_neighbors=3 .....................................\n",
      "[CV] ......... leaf_size=10, n_neighbors=3, score=0.845, total=   0.1s\n",
      "[CV] leaf_size=10, n_neighbors=3 .....................................\n",
      "[CV] ......... leaf_size=10, n_neighbors=3, score=0.835, total=   0.1s\n",
      "[CV] leaf_size=10, n_neighbors=3 .....................................\n",
      "[CV] ......... leaf_size=10, n_neighbors=3, score=0.835, total=   0.1s\n",
      "[CV] leaf_size=10, n_neighbors=5 .....................................\n",
      "[CV] ......... leaf_size=10, n_neighbors=5, score=0.859, total=   0.1s\n",
      "[CV] leaf_size=10, n_neighbors=5 .....................................\n",
      "[CV] ......... leaf_size=10, n_neighbors=5, score=0.848, total=   0.1s\n",
      "[CV] leaf_size=10, n_neighbors=5 .....................................\n",
      "[CV] ......... leaf_size=10, n_neighbors=5, score=0.843, total=   0.1s\n",
      "[CV] leaf_size=10, n_neighbors=7 .....................................\n",
      "[CV] ......... leaf_size=10, n_neighbors=7, score=0.856, total=   0.1s\n",
      "[CV] leaf_size=10, n_neighbors=7 .....................................\n",
      "[CV] ......... leaf_size=10, n_neighbors=7, score=0.852, total=   0.1s\n",
      "[CV] leaf_size=10, n_neighbors=7 .....................................\n",
      "[CV] ......... leaf_size=10, n_neighbors=7, score=0.838, total=   0.1s\n",
      "[CV] leaf_size=10, n_neighbors=9 .....................................\n",
      "[CV] ......... leaf_size=10, n_neighbors=9, score=0.861, total=   0.1s\n",
      "[CV] leaf_size=10, n_neighbors=9 .....................................\n",
      "[CV] ......... leaf_size=10, n_neighbors=9, score=0.846, total=   0.1s\n",
      "[CV] leaf_size=10, n_neighbors=9 .....................................\n",
      "[CV] ......... leaf_size=10, n_neighbors=9, score=0.844, total=   0.1s\n",
      "[CV] leaf_size=10, n_neighbors=11 ....................................\n",
      "[CV] ........ leaf_size=10, n_neighbors=11, score=0.867, total=   0.1s\n",
      "[CV] leaf_size=10, n_neighbors=11 ....................................\n",
      "[CV] ........ leaf_size=10, n_neighbors=11, score=0.848, total=   0.1s\n",
      "[CV] leaf_size=10, n_neighbors=11 ....................................\n",
      "[CV] ........ leaf_size=10, n_neighbors=11, score=0.844, total=   0.1s\n",
      "[CV] leaf_size=10, n_neighbors=13 ....................................\n",
      "[CV] ........ leaf_size=10, n_neighbors=13, score=0.864, total=   0.1s\n",
      "[CV] leaf_size=10, n_neighbors=13 ....................................\n",
      "[CV] ........ leaf_size=10, n_neighbors=13, score=0.854, total=   0.1s\n",
      "[CV] leaf_size=10, n_neighbors=13 ....................................\n",
      "[CV] ........ leaf_size=10, n_neighbors=13, score=0.844, total=   0.1s\n",
      "[CV] leaf_size=10, n_neighbors=15 ....................................\n",
      "[CV] ........ leaf_size=10, n_neighbors=15, score=0.869, total=   0.1s\n",
      "[CV] leaf_size=10, n_neighbors=15 ....................................\n",
      "[CV] ........ leaf_size=10, n_neighbors=15, score=0.852, total=   0.1s\n",
      "[CV] leaf_size=10, n_neighbors=15 ....................................\n",
      "[CV] ........ leaf_size=10, n_neighbors=15, score=0.845, total=   0.1s\n",
      "[CV] leaf_size=10, n_neighbors=17 ....................................\n",
      "[CV] ........ leaf_size=10, n_neighbors=17, score=0.872, total=   0.1s\n",
      "[CV] leaf_size=10, n_neighbors=17 ....................................\n",
      "[CV] ........ leaf_size=10, n_neighbors=17, score=0.854, total=   0.1s\n",
      "[CV] leaf_size=10, n_neighbors=17 ....................................\n",
      "[CV] ........ leaf_size=10, n_neighbors=17, score=0.848, total=   0.1s\n",
      "[CV] leaf_size=10, n_neighbors=19 ....................................\n",
      "[CV] ........ leaf_size=10, n_neighbors=19, score=0.874, total=   0.1s\n",
      "[CV] leaf_size=10, n_neighbors=19 ....................................\n",
      "[CV] ........ leaf_size=10, n_neighbors=19, score=0.859, total=   0.1s\n",
      "[CV] leaf_size=10, n_neighbors=19 ....................................\n",
      "[CV] ........ leaf_size=10, n_neighbors=19, score=0.844, total=   0.1s\n",
      "[CV] leaf_size=100, n_neighbors=1 ....................................\n",
      "[CV] ........ leaf_size=100, n_neighbors=1, score=0.808, total=   0.1s\n",
      "[CV] leaf_size=100, n_neighbors=1 ....................................\n",
      "[CV] ........ leaf_size=100, n_neighbors=1, score=0.808, total=   0.1s\n",
      "[CV] leaf_size=100, n_neighbors=1 ....................................\n",
      "[CV] ........ leaf_size=100, n_neighbors=1, score=0.811, total=   0.1s\n",
      "[CV] leaf_size=100, n_neighbors=3 ....................................\n",
      "[CV] ........ leaf_size=100, n_neighbors=3, score=0.845, total=   0.1s\n",
      "[CV] leaf_size=100, n_neighbors=3 ....................................\n"
     ]
    },
    {
     "name": "stdout",
     "output_type": "stream",
     "text": [
      "[CV] ........ leaf_size=100, n_neighbors=3, score=0.835, total=   0.1s\n",
      "[CV] leaf_size=100, n_neighbors=3 ....................................\n",
      "[CV] ........ leaf_size=100, n_neighbors=3, score=0.835, total=   0.1s\n",
      "[CV] leaf_size=100, n_neighbors=5 ....................................\n",
      "[CV] ........ leaf_size=100, n_neighbors=5, score=0.858, total=   0.1s\n",
      "[CV] leaf_size=100, n_neighbors=5 ....................................\n",
      "[CV] ........ leaf_size=100, n_neighbors=5, score=0.848, total=   0.1s\n",
      "[CV] leaf_size=100, n_neighbors=5 ....................................\n",
      "[CV] ........ leaf_size=100, n_neighbors=5, score=0.843, total=   0.1s\n",
      "[CV] leaf_size=100, n_neighbors=7 ....................................\n",
      "[CV] ........ leaf_size=100, n_neighbors=7, score=0.856, total=   0.1s\n",
      "[CV] leaf_size=100, n_neighbors=7 ....................................\n",
      "[CV] ........ leaf_size=100, n_neighbors=7, score=0.852, total=   0.1s\n",
      "[CV] leaf_size=100, n_neighbors=7 ....................................\n",
      "[CV] ........ leaf_size=100, n_neighbors=7, score=0.838, total=   0.1s\n",
      "[CV] leaf_size=100, n_neighbors=9 ....................................\n",
      "[CV] ........ leaf_size=100, n_neighbors=9, score=0.861, total=   0.1s\n",
      "[CV] leaf_size=100, n_neighbors=9 ....................................\n",
      "[CV] ........ leaf_size=100, n_neighbors=9, score=0.846, total=   0.1s\n",
      "[CV] leaf_size=100, n_neighbors=9 ....................................\n",
      "[CV] ........ leaf_size=100, n_neighbors=9, score=0.844, total=   0.1s\n",
      "[CV] leaf_size=100, n_neighbors=11 ...................................\n",
      "[CV] ....... leaf_size=100, n_neighbors=11, score=0.867, total=   0.1s\n",
      "[CV] leaf_size=100, n_neighbors=11 ...................................\n",
      "[CV] ....... leaf_size=100, n_neighbors=11, score=0.848, total=   0.1s\n",
      "[CV] leaf_size=100, n_neighbors=11 ...................................\n",
      "[CV] ....... leaf_size=100, n_neighbors=11, score=0.844, total=   0.1s\n",
      "[CV] leaf_size=100, n_neighbors=13 ...................................\n",
      "[CV] ....... leaf_size=100, n_neighbors=13, score=0.864, total=   0.1s\n",
      "[CV] leaf_size=100, n_neighbors=13 ...................................\n",
      "[CV] ....... leaf_size=100, n_neighbors=13, score=0.854, total=   0.1s\n",
      "[CV] leaf_size=100, n_neighbors=13 ...................................\n",
      "[CV] ....... leaf_size=100, n_neighbors=13, score=0.844, total=   0.1s\n",
      "[CV] leaf_size=100, n_neighbors=15 ...................................\n",
      "[CV] ....... leaf_size=100, n_neighbors=15, score=0.869, total=   0.1s\n",
      "[CV] leaf_size=100, n_neighbors=15 ...................................\n",
      "[CV] ....... leaf_size=100, n_neighbors=15, score=0.852, total=   0.1s\n",
      "[CV] leaf_size=100, n_neighbors=15 ...................................\n",
      "[CV] ....... leaf_size=100, n_neighbors=15, score=0.845, total=   0.1s\n",
      "[CV] leaf_size=100, n_neighbors=17 ...................................\n",
      "[CV] ....... leaf_size=100, n_neighbors=17, score=0.872, total=   0.1s\n",
      "[CV] leaf_size=100, n_neighbors=17 ...................................\n",
      "[CV] ....... leaf_size=100, n_neighbors=17, score=0.854, total=   0.1s\n",
      "[CV] leaf_size=100, n_neighbors=17 ...................................\n",
      "[CV] ....... leaf_size=100, n_neighbors=17, score=0.848, total=   0.1s\n",
      "[CV] leaf_size=100, n_neighbors=19 ...................................\n",
      "[CV] ....... leaf_size=100, n_neighbors=19, score=0.874, total=   0.1s\n",
      "[CV] leaf_size=100, n_neighbors=19 ...................................\n",
      "[CV] ....... leaf_size=100, n_neighbors=19, score=0.859, total=   0.1s\n",
      "[CV] leaf_size=100, n_neighbors=19 ...................................\n",
      "[CV] ....... leaf_size=100, n_neighbors=19, score=0.844, total=   0.1s\n",
      "[CV] leaf_size=200, n_neighbors=1 ....................................\n",
      "[CV] ........ leaf_size=200, n_neighbors=1, score=0.808, total=   0.1s\n",
      "[CV] leaf_size=200, n_neighbors=1 ....................................\n",
      "[CV] ........ leaf_size=200, n_neighbors=1, score=0.808, total=   0.1s\n",
      "[CV] leaf_size=200, n_neighbors=1 ....................................\n",
      "[CV] ........ leaf_size=200, n_neighbors=1, score=0.811, total=   0.1s\n",
      "[CV] leaf_size=200, n_neighbors=3 ....................................\n",
      "[CV] ........ leaf_size=200, n_neighbors=3, score=0.845, total=   0.1s\n",
      "[CV] leaf_size=200, n_neighbors=3 ....................................\n",
      "[CV] ........ leaf_size=200, n_neighbors=3, score=0.835, total=   0.1s\n",
      "[CV] leaf_size=200, n_neighbors=3 ....................................\n",
      "[CV] ........ leaf_size=200, n_neighbors=3, score=0.835, total=   0.1s\n",
      "[CV] leaf_size=200, n_neighbors=5 ....................................\n",
      "[CV] ........ leaf_size=200, n_neighbors=5, score=0.859, total=   0.1s\n",
      "[CV] leaf_size=200, n_neighbors=5 ....................................\n",
      "[CV] ........ leaf_size=200, n_neighbors=5, score=0.848, total=   0.1s\n",
      "[CV] leaf_size=200, n_neighbors=5 ....................................\n",
      "[CV] ........ leaf_size=200, n_neighbors=5, score=0.843, total=   0.1s\n",
      "[CV] leaf_size=200, n_neighbors=7 ....................................\n",
      "[CV] ........ leaf_size=200, n_neighbors=7, score=0.856, total=   0.1s\n",
      "[CV] leaf_size=200, n_neighbors=7 ....................................\n",
      "[CV] ........ leaf_size=200, n_neighbors=7, score=0.852, total=   0.1s\n",
      "[CV] leaf_size=200, n_neighbors=7 ....................................\n",
      "[CV] ........ leaf_size=200, n_neighbors=7, score=0.838, total=   0.1s\n",
      "[CV] leaf_size=200, n_neighbors=9 ....................................\n",
      "[CV] ........ leaf_size=200, n_neighbors=9, score=0.861, total=   0.1s\n",
      "[CV] leaf_size=200, n_neighbors=9 ....................................\n",
      "[CV] ........ leaf_size=200, n_neighbors=9, score=0.846, total=   0.1s\n",
      "[CV] leaf_size=200, n_neighbors=9 ....................................\n",
      "[CV] ........ leaf_size=200, n_neighbors=9, score=0.844, total=   0.1s\n",
      "[CV] leaf_size=200, n_neighbors=11 ...................................\n",
      "[CV] ....... leaf_size=200, n_neighbors=11, score=0.867, total=   0.1s\n",
      "[CV] leaf_size=200, n_neighbors=11 ...................................\n",
      "[CV] ....... leaf_size=200, n_neighbors=11, score=0.848, total=   0.1s\n",
      "[CV] leaf_size=200, n_neighbors=11 ...................................\n",
      "[CV] ....... leaf_size=200, n_neighbors=11, score=0.844, total=   0.1s\n",
      "[CV] leaf_size=200, n_neighbors=13 ...................................\n",
      "[CV] ....... leaf_size=200, n_neighbors=13, score=0.864, total=   0.1s\n",
      "[CV] leaf_size=200, n_neighbors=13 ...................................\n",
      "[CV] ....... leaf_size=200, n_neighbors=13, score=0.854, total=   0.1s\n",
      "[CV] leaf_size=200, n_neighbors=13 ...................................\n",
      "[CV] ....... leaf_size=200, n_neighbors=13, score=0.844, total=   0.1s\n",
      "[CV] leaf_size=200, n_neighbors=15 ...................................\n",
      "[CV] ....... leaf_size=200, n_neighbors=15, score=0.869, total=   0.1s\n",
      "[CV] leaf_size=200, n_neighbors=15 ...................................\n",
      "[CV] ....... leaf_size=200, n_neighbors=15, score=0.852, total=   0.1s\n",
      "[CV] leaf_size=200, n_neighbors=15 ...................................\n",
      "[CV] ....... leaf_size=200, n_neighbors=15, score=0.845, total=   0.1s\n",
      "[CV] leaf_size=200, n_neighbors=17 ...................................\n",
      "[CV] ....... leaf_size=200, n_neighbors=17, score=0.872, total=   0.1s\n",
      "[CV] leaf_size=200, n_neighbors=17 ...................................\n",
      "[CV] ....... leaf_size=200, n_neighbors=17, score=0.854, total=   0.1s\n",
      "[CV] leaf_size=200, n_neighbors=17 ...................................\n",
      "[CV] ....... leaf_size=200, n_neighbors=17, score=0.848, total=   0.1s\n",
      "[CV] leaf_size=200, n_neighbors=19 ...................................\n",
      "[CV] ....... leaf_size=200, n_neighbors=19, score=0.874, total=   0.1s\n",
      "[CV] leaf_size=200, n_neighbors=19 ...................................\n",
      "[CV] ....... leaf_size=200, n_neighbors=19, score=0.859, total=   0.1s\n",
      "[CV] leaf_size=200, n_neighbors=19 ...................................\n",
      "[CV] ....... leaf_size=200, n_neighbors=19, score=0.844, total=   0.1s\n"
     ]
    },
    {
     "name": "stderr",
     "output_type": "stream",
     "text": [
      "[Parallel(n_jobs=1)]: Done 120 out of 120 | elapsed:   14.1s finished\n"
     ]
    },
    {
     "data": {
      "text/plain": [
       "GridSearchCV(cv=3, estimator=KNeighborsClassifier(),\n",
       "             param_grid={'leaf_size': [1, 10, 100, 200],\n",
       "                         'n_neighbors': [1, 3, 5, 7, 9, 11, 13, 15, 17, 19]},\n",
       "             verbose=3)"
      ]
     },
     "execution_count": 33,
     "metadata": {},
     "output_type": "execute_result"
    }
   ],
   "source": [
    "# fits the k nearest neighbor/grid search model to X and y\n",
    "knn_grid.fit(X_train_scaled, y_train)"
   ]
  },
  {
   "cell_type": "code",
   "execution_count": 34,
   "metadata": {},
   "outputs": [
    {
     "name": "stdout",
     "output_type": "stream",
     "text": [
      "{'leaf_size': 1, 'n_neighbors': 19}\n",
      "0.8588565469321496\n"
     ]
    }
   ],
   "source": [
    "# prints out the best parameters \n",
    "print(knn_grid.best_params_)\n",
    "print(knn_grid.best_score_)"
   ]
  },
  {
   "cell_type": "code",
   "execution_count": 35,
   "metadata": {},
   "outputs": [
    {
     "name": "stdout",
     "output_type": "stream",
     "text": [
      "KNN Training Data Score: 0.8695403395002861\n",
      "KNN Testing Data Score: 0.8655606407322655\n"
     ]
    }
   ],
   "source": [
    "# K Nearest Neighbor Model Scoring\n",
    "knn_model = knn_grid.best_estimator_\n",
    "print(f\"KNN Training Data Score: {knn_model.score(X_train_scaled, y_train)}\")\n",
    "print(f\"KNN Testing Data Score: {knn_model.score(X_test_scaled, y_test)}\")"
   ]
  },
  {
   "cell_type": "markdown",
   "metadata": {},
   "source": [
    "## Summary of Models"
   ]
  },
  {
   "cell_type": "code",
   "execution_count": 36,
   "metadata": {},
   "outputs": [
    {
     "name": "stdout",
     "output_type": "stream",
     "text": [
      "Logistic Model Training Data Score: 0.7379362960137326\n",
      "Logistic Model Testing Data Score: 0.7437070938215103\n",
      "---------------------------------------------------------------\n",
      "SVM Training Data Score: 0.743467480450124\n",
      "SVM Testing Data Score: 0.7145308924485125\n",
      "---------------------------------------------------------------\n",
      "RF Training Data Score: 0.8743086019454511\n",
      "RF Testing Data Score: 0.8787185354691075\n",
      "---------------------------------------------------------------\n",
      "KNN Training Data Score: 0.8695403395002861\n",
      "KNN Testing Data Score: 0.8655606407322655\n"
     ]
    }
   ],
   "source": [
    "print(f\"Logistic Model Training Data Score: {logistic_model.score(X_train_scaled, y_train)}\")\n",
    "print(f\"Logistic Model Testing Data Score: {logistic_model.score(X_test_scaled, y_test)}\")\n",
    "print(\"---------------------------------------------------------------\")\n",
    "\n",
    "print(f\"SVM Training Data Score: {svm_model.score(X_train_scaled, y_train)}\")\n",
    "print(f\"SVM Testing Data Score: {svm_model.score(X_test_scaled, y_test)}\")\n",
    "\n",
    "print(\"---------------------------------------------------------------\")\n",
    "print(f\"RF Training Data Score: {rf_model.score(X_train_scaled, y_train)}\")\n",
    "print(f\"RF Testing Data Score: {rf_model.score(X_test_scaled, y_test)}\")\n",
    "\n",
    "print(\"---------------------------------------------------------------\")\n",
    "print(f\"KNN Training Data Score: {knn_model.score(X_train_scaled, y_train)}\")\n",
    "print(f\"KNN Testing Data Score: {knn_model.score(X_test_scaled, y_test)}\")\n"
   ]
  },
  {
   "cell_type": "code",
   "execution_count": null,
   "metadata": {},
   "outputs": [],
   "source": []
  }
 ],
 "metadata": {
  "kernel_info": {
   "name": "dev"
  },
  "kernelspec": {
   "display_name": "Python 3",
   "language": "python",
   "name": "python3"
  },
  "language_info": {
   "codemirror_mode": {
    "name": "ipython",
    "version": 3
   },
   "file_extension": ".py",
   "mimetype": "text/x-python",
   "name": "python",
   "nbconvert_exporter": "python",
   "pygments_lexer": "ipython3",
   "version": "3.6.10"
  },
  "nteract": {
   "version": "0.12.3"
  }
 },
 "nbformat": 4,
 "nbformat_minor": 2
}
